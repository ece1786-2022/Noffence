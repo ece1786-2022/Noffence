{
  "nbformat": 4,
  "nbformat_minor": 0,
  "metadata": {
    "colab": {
      "provenance": [],
      "toc_visible": true
    },
    "kernelspec": {
      "name": "python3",
      "display_name": "Python 3"
    },
    "language_info": {
      "name": "python"
    },
    "gpuClass": "standard",
    "accelerator": "GPU"
  },
  "cells": [
    {
      "cell_type": "code",
      "source": [
        "! pip install transformers torchtext==0.10.0"
      ],
      "metadata": {
        "colab": {
          "base_uri": "https://localhost:8080/"
        },
        "id": "G-gcGzwYkwFO",
        "outputId": "008a20fb-9f30-4502-dc81-463f2320a318"
      },
      "execution_count": 53,
      "outputs": [
        {
          "output_type": "stream",
          "name": "stdout",
          "text": [
            "Looking in indexes: https://pypi.org/simple, https://us-python.pkg.dev/colab-wheels/public/simple/\n",
            "Requirement already satisfied: transformers in /usr/local/lib/python3.7/dist-packages (4.24.0)\n",
            "Requirement already satisfied: torchtext==0.10.0 in /usr/local/lib/python3.7/dist-packages (0.10.0)\n",
            "Requirement already satisfied: requests in /usr/local/lib/python3.7/dist-packages (from torchtext==0.10.0) (2.23.0)\n",
            "Requirement already satisfied: numpy in /usr/local/lib/python3.7/dist-packages (from torchtext==0.10.0) (1.21.6)\n",
            "Requirement already satisfied: tqdm in /usr/local/lib/python3.7/dist-packages (from torchtext==0.10.0) (4.64.1)\n",
            "Requirement already satisfied: torch==1.9.0 in /usr/local/lib/python3.7/dist-packages (from torchtext==0.10.0) (1.9.0)\n",
            "Requirement already satisfied: typing-extensions in /usr/local/lib/python3.7/dist-packages (from torch==1.9.0->torchtext==0.10.0) (4.1.1)\n",
            "Requirement already satisfied: huggingface-hub<1.0,>=0.10.0 in /usr/local/lib/python3.7/dist-packages (from transformers) (0.11.1)\n",
            "Requirement already satisfied: regex!=2019.12.17 in /usr/local/lib/python3.7/dist-packages (from transformers) (2022.6.2)\n",
            "Requirement already satisfied: pyyaml>=5.1 in /usr/local/lib/python3.7/dist-packages (from transformers) (6.0)\n",
            "Requirement already satisfied: tokenizers!=0.11.3,<0.14,>=0.11.1 in /usr/local/lib/python3.7/dist-packages (from transformers) (0.13.2)\n",
            "Requirement already satisfied: packaging>=20.0 in /usr/local/lib/python3.7/dist-packages (from transformers) (21.3)\n",
            "Requirement already satisfied: importlib-metadata in /usr/local/lib/python3.7/dist-packages (from transformers) (4.13.0)\n",
            "Requirement already satisfied: filelock in /usr/local/lib/python3.7/dist-packages (from transformers) (3.8.0)\n",
            "Requirement already satisfied: pyparsing!=3.0.5,>=2.0.2 in /usr/local/lib/python3.7/dist-packages (from packaging>=20.0->transformers) (3.0.9)\n",
            "Requirement already satisfied: zipp>=0.5 in /usr/local/lib/python3.7/dist-packages (from importlib-metadata->transformers) (3.10.0)\n",
            "Requirement already satisfied: chardet<4,>=3.0.2 in /usr/local/lib/python3.7/dist-packages (from requests->torchtext==0.10.0) (3.0.4)\n",
            "Requirement already satisfied: certifi>=2017.4.17 in /usr/local/lib/python3.7/dist-packages (from requests->torchtext==0.10.0) (2022.9.24)\n",
            "Requirement already satisfied: urllib3!=1.25.0,!=1.25.1,<1.26,>=1.21.1 in /usr/local/lib/python3.7/dist-packages (from requests->torchtext==0.10.0) (1.24.3)\n",
            "Requirement already satisfied: idna<3,>=2.5 in /usr/local/lib/python3.7/dist-packages (from requests->torchtext==0.10.0) (2.10)\n"
          ]
        }
      ]
    },
    {
      "cell_type": "code",
      "source": [
        "import os\n",
        "import re\n",
        "import numpy as np\n",
        "import pandas as pd\n",
        "import seaborn as sns\n",
        "import matplotlib.pyplot as plt\n",
        "from sklearn.model_selection import train_test_split\n",
        "\n",
        "import torch\n",
        "import torch.nn as nn\n",
        "import torchtext\n",
        "from torchtext import data\n",
        "from torchtext import datasets\n",
        "from torchtext.legacy import data\n",
        "from torchtext.legacy import datasets\n",
        "\n",
        "import transformers\n",
        "from transformers import BertTokenizer, BertModel, BertForSequenceClassification"
      ],
      "metadata": {
        "id": "MzQ-68C6DbRS"
      },
      "execution_count": 54,
      "outputs": []
    },
    {
      "cell_type": "code",
      "source": [
        "from google.colab import drive\n",
        "drive.mount('/content/drive')"
      ],
      "metadata": {
        "colab": {
          "base_uri": "https://localhost:8080/"
        },
        "id": "OUuVyOkkFjWW",
        "outputId": "81889fe5-b60b-4319-9925-400dea668e31"
      },
      "execution_count": 55,
      "outputs": [
        {
          "output_type": "stream",
          "name": "stdout",
          "text": [
            "Drive already mounted at /content/drive; to attempt to forcibly remount, call drive.mount(\"/content/drive\", force_remount=True).\n"
          ]
        }
      ]
    },
    {
      "cell_type": "code",
      "source": [
        "os.chdir(\"/content/drive/MyDrive/ECE1786/Project\")"
      ],
      "metadata": {
        "id": "GOS4g-bvFtYB"
      },
      "execution_count": 56,
      "outputs": []
    },
    {
      "cell_type": "code",
      "source": [
        "! ls"
      ],
      "metadata": {
        "colab": {
          "base_uri": "https://localhost:8080/"
        },
        "id": "QGx-bhuXGJ-k",
        "outputId": "608d2d3f-f7cd-4fb9-bc2e-fb7a0fac6bf4"
      },
      "execution_count": 57,
      "outputs": [
        {
          "output_type": "stream",
          "name": "stdout",
          "text": [
            "BERT_GRU.ipynb\t\t  data_preprocessing_v1.ipynb  models\n",
            "Bert_GRU_v1.ipynb\t  Final_Project_v1.ipynb       undersample_data\n",
            "BERT.ipynb\t\t  Final_Project_v2.ipynb       Untitled0.ipynb\n",
            "data\t\t\t  GPT2.ipynb\n",
            "data_preprocessing.ipynb  model.drawio\n"
          ]
        }
      ]
    },
    {
      "cell_type": "markdown",
      "source": [
        "# Tokenization"
      ],
      "metadata": {
        "id": "fthReI_WlsIL"
      }
    },
    {
      "cell_type": "code",
      "source": [
        "tokenizer = BertTokenizer.from_pretrained('bert-base-uncased')\n",
        "init_token = tokenizer.cls_token\n",
        "eos_token = tokenizer.sep_token\n",
        "pad_token = tokenizer.pad_token\n",
        "unk_token = tokenizer.unk_token\n",
        "\n",
        "print(init_token, eos_token, pad_token, unk_token)"
      ],
      "metadata": {
        "colab": {
          "base_uri": "https://localhost:8080/"
        },
        "id": "xkYo6Bs-gN93",
        "outputId": "abbe7033-2cfc-43ff-f55d-7a486382797b"
      },
      "execution_count": 58,
      "outputs": [
        {
          "output_type": "stream",
          "name": "stdout",
          "text": [
            "[CLS] [SEP] [PAD] [UNK]\n"
          ]
        }
      ]
    },
    {
      "cell_type": "code",
      "source": [
        "init_token_idx = tokenizer.cls_token_id\n",
        "eos_token_idx = tokenizer.sep_token_id\n",
        "pad_token_idx = tokenizer.pad_token_id\n",
        "unk_token_idx = tokenizer.unk_token_id\n",
        "max_input_length = tokenizer.max_model_input_sizes['bert-base-uncased']"
      ],
      "metadata": {
        "id": "ppjXnH6bjMaU"
      },
      "execution_count": 59,
      "outputs": []
    },
    {
      "cell_type": "code",
      "source": [
        "def tokenize_and_cut(sentence):\n",
        "    tokens = tokenizer.tokenize(sentence) \n",
        "    tokens = tokens[:max_input_length-2]\n",
        "    return tokens"
      ],
      "metadata": {
        "id": "ahtOsrEUjPiZ"
      },
      "execution_count": 60,
      "outputs": []
    },
    {
      "cell_type": "code",
      "source": [
        "TEXT = data.Field(batch_first = True,\n",
        "                  use_vocab = False,\n",
        "                  tokenize = tokenize_and_cut,\n",
        "                  preprocessing = tokenizer.convert_tokens_to_ids,\n",
        "                  init_token = init_token_idx,\n",
        "                  eos_token = eos_token_idx,\n",
        "                  pad_token = pad_token_idx,\n",
        "                  unk_token = unk_token_idx)"
      ],
      "metadata": {
        "id": "FU8wXFG1lzg8"
      },
      "execution_count": 61,
      "outputs": []
    },
    {
      "cell_type": "code",
      "source": [
        "LABEL = data.LabelField(dtype = torch.float)"
      ],
      "metadata": {
        "id": "-8b8aBvXl2BK"
      },
      "execution_count": 62,
      "outputs": []
    },
    {
      "cell_type": "code",
      "source": [
        "def get_dataset():\n",
        "    train, valid, test = data.TabularDataset.splits(path='data/', \n",
        "                                                    train='train.tsv', \n",
        "                                                    validation='validation.tsv',\n",
        "                                                    test = 'test.tsv',\n",
        "                                                    format = 'tsv', \n",
        "                                                    skip_header = True,\n",
        "                                                    fields = [(None, None), ('text', TEXT),('label', LABEL)])\n",
        "    return train, valid, test"
      ],
      "metadata": {
        "id": "xypoNU0cl3zT"
      },
      "execution_count": 63,
      "outputs": []
    },
    {
      "cell_type": "code",
      "source": [
        "train_data, valid_data, test_data = get_dataset()"
      ],
      "metadata": {
        "id": "nD30R1hEl_Ex"
      },
      "execution_count": 64,
      "outputs": []
    },
    {
      "cell_type": "code",
      "source": [
        "# Check the train dataset tokenization\n",
        "print(vars(train_data[1000]))"
      ],
      "metadata": {
        "colab": {
          "base_uri": "https://localhost:8080/"
        },
        "id": "0C8rR_B4mE71",
        "outputId": "70e73d9f-20cd-4aec-845f-aa70008ba5d3"
      },
      "execution_count": 65,
      "outputs": [
        {
          "output_type": "stream",
          "name": "stdout",
          "text": [
            "{'text': [3461, 14227, 2293, 2822, 2171, 2190, 2035], 'label': '2'}\n"
          ]
        }
      ]
    },
    {
      "cell_type": "code",
      "source": [
        "# Build vocabulary for labels\n",
        "LABEL.build_vocab(train_data)"
      ],
      "metadata": {
        "id": "zlcEuy06mMQt"
      },
      "execution_count": 66,
      "outputs": []
    },
    {
      "cell_type": "code",
      "source": [
        "print(LABEL.vocab.stoi)"
      ],
      "metadata": {
        "colab": {
          "base_uri": "https://localhost:8080/"
        },
        "id": "xdoV5mudmvnh",
        "outputId": "cf6cca40-a07f-438e-871b-48d2fbaff2ae"
      },
      "execution_count": 67,
      "outputs": [
        {
          "output_type": "stream",
          "name": "stdout",
          "text": [
            "defaultdict(None, {'0': 0, '1': 1, '2': 2})\n"
          ]
        }
      ]
    },
    {
      "cell_type": "code",
      "source": [
        "batch_size = 128\n",
        "\n",
        "# Use GPU if available\n",
        "device = torch.device('cuda' if torch.cuda.is_available() else 'cpu')\n",
        "print(device)\n",
        "\n",
        "# BucketIterator forms the batches in such a way that a minimum amount of padding is required\n",
        "# 1. The train data is shuffled each epoch by default, and the validation/test data is sorted (which will return an error). We need to set sort = False so we dont sort test/validation data\n",
        "# 2. For packed padded sequences all of the tensors within a batch need to be sorted by their lengths. This is handled in the iterator by setting sort_within_batch = True.\n",
        "\n",
        "train_iterator, valid_iterator, test_iterator = data.BucketIterator.splits(\n",
        "    (train_data, valid_data, test_data),\n",
        "    sort_key = lambda x: x.text, # sort key to minimize padding in training data\n",
        "    sort = False, # dont sort test/validation data \n",
        "    batch_size=batch_size,\n",
        "    device=device)"
      ],
      "metadata": {
        "colab": {
          "base_uri": "https://localhost:8080/"
        },
        "id": "4sGw7N24iFcV",
        "outputId": "8ef7852f-22d1-4528-a1a1-05740cc990cb"
      },
      "execution_count": 68,
      "outputs": [
        {
          "output_type": "stream",
          "name": "stdout",
          "text": [
            "cuda\n"
          ]
        }
      ]
    },
    {
      "cell_type": "code",
      "source": [
        "for item in train_iterator:\n",
        "  print(item.text)\n",
        "  break\n",
        "\n",
        "128, 50"
      ],
      "metadata": {
        "colab": {
          "base_uri": "https://localhost:8080/"
        },
        "id": "nkcjONnBdX9m",
        "outputId": "6ceaacca-e494-42e8-af4b-37d6029a307e"
      },
      "execution_count": 69,
      "outputs": [
        {
          "output_type": "stream",
          "name": "stdout",
          "text": [
            "tensor([[  101,  2049,  9857,  ...,     0,     0,     0],\n",
            "        [  101, 13137, 20968,  ...,     0,     0,     0],\n",
            "        [  101,  2059,   102,  ...,     0,     0,     0],\n",
            "        ...,\n",
            "        [  101, 13409,  2672,  ...,     0,     0,     0],\n",
            "        [  101,  6936,  3280,  ...,     0,     0,     0],\n",
            "        [  101,  2071,  2017,  ...,     0,     0,     0]], device='cuda:0')\n"
          ]
        },
        {
          "output_type": "execute_result",
          "data": {
            "text/plain": [
              "(128, 50)"
            ]
          },
          "metadata": {},
          "execution_count": 69
        }
      ]
    },
    {
      "cell_type": "markdown",
      "source": [
        "# Define the BERT model"
      ],
      "metadata": {
        "id": "4uSmyvMApKp6"
      }
    },
    {
      "cell_type": "code",
      "source": [
        "class BERT(nn.Module):\n",
        "    def __init__(self, bert, hidden_dim, output_dim, dropout):\n",
        "        super().__init__()\n",
        "        self.bert = bert  # （BERT + MLP（768->512））      \n",
        "        self.out = nn.Linear(hidden_dim, output_dim)\n",
        "        self.dropout = nn.Dropout(dropout)\n",
        "        \n",
        "    def forward(self, text):\n",
        "        # print(\"input\", text.shape)\n",
        "        # text = [batch size, sent len]\n",
        "        with torch.no_grad():\n",
        "            embedded = self.bert(text)[0]\n",
        "        # print(\"after bert + MLP1\", embedded.shape)\n",
        "\n",
        "        # hidden = [batch size, hid dim]\n",
        "        output = self.out(embedded)\n",
        "\n",
        "        # print(\"after MLP2\", output.shape)\n",
        "        \n",
        "        # output = [batch size, out dim]\n",
        "        return output\n",
        "\n",
        "# BERT + BiGRU\n",
        "# input torch.Size([128, 28, 1])\n",
        "# after bert torch.Size([128, 28, 768])\n",
        "# after gru torch.Size([128, 600])\n",
        "# after mlp torch.Size([128, 3])\n",
        "\n",
        "# input torch.Size([128, 30])\n",
        "# after bert torch.Size([128, 30, 768])\n",
        "# after gru torch.Size([128, 600])\n",
        "# after mlp torch.Size([128, 3])\n",
        "\n",
        "# BERT + MLP\n",
        "# input torch.Size([128, 28])\n",
        "# after bert + MLP1 torch.Size([128, 512])\n",
        "# after MLP2 torch.Size([128, 3])"
      ],
      "metadata": {
        "id": "9dPnHkxZDfmh"
      },
      "execution_count": 70,
      "outputs": []
    },
    {
      "cell_type": "code",
      "source": [
        "# # Load the pre-trained model\n",
        "# bert = BertModel.from_pretrained('bert-base-uncased')\n",
        "\n",
        "# # Hyperparameters\n",
        "# GRU_OUTPUT_DIM = 300\n",
        "# MLP_OUTPUT_DIM = 3\n",
        "# N_LAYERS = 2\n",
        "# BIDIRECTIONAL = True\n",
        "# DROPOUT = 0.5\n",
        "\n",
        "# model = BERT(bert,\n",
        "#              GRU_OUTPUT_DIM,\n",
        "#              MLP_OUTPUT_DIM,\n",
        "#              N_LAYERS,\n",
        "#              BIDIRECTIONAL,\n",
        "#              DROPOUT)\n",
        "# print(model)\n",
        "\n",
        "# 新的\n",
        "hidden_dim = 512 \n",
        "MLP_OUTPUT_DIM = 3\n",
        "DROPOUT = 0.5\n",
        "\n",
        "# BERT with MLP\n",
        "bert_core = BertForSequenceClassification.from_pretrained('bert-base-uncased', num_labels=hidden_dim)\n",
        "\n",
        "model = BERT(bert_core,\n",
        "             hidden_dim,\n",
        "             MLP_OUTPUT_DIM,\n",
        "             DROPOUT)\n",
        "print(model)"
      ],
      "metadata": {
        "id": "Fi10dAp6hXHB",
        "colab": {
          "base_uri": "https://localhost:8080/"
        },
        "outputId": "9e4c9c6c-e8e4-431c-e54d-ab5d0a76dfe8"
      },
      "execution_count": 71,
      "outputs": [
        {
          "output_type": "stream",
          "name": "stderr",
          "text": [
            "Some weights of the model checkpoint at bert-base-uncased were not used when initializing BertForSequenceClassification: ['cls.predictions.transform.LayerNorm.bias', 'cls.predictions.transform.LayerNorm.weight', 'cls.predictions.transform.dense.weight', 'cls.predictions.transform.dense.bias', 'cls.seq_relationship.weight', 'cls.predictions.decoder.weight', 'cls.seq_relationship.bias', 'cls.predictions.bias']\n",
            "- This IS expected if you are initializing BertForSequenceClassification from the checkpoint of a model trained on another task or with another architecture (e.g. initializing a BertForSequenceClassification model from a BertForPreTraining model).\n",
            "- This IS NOT expected if you are initializing BertForSequenceClassification from the checkpoint of a model that you expect to be exactly identical (initializing a BertForSequenceClassification model from a BertForSequenceClassification model).\n",
            "Some weights of BertForSequenceClassification were not initialized from the model checkpoint at bert-base-uncased and are newly initialized: ['classifier.bias', 'classifier.weight']\n",
            "You should probably TRAIN this model on a down-stream task to be able to use it for predictions and inference.\n"
          ]
        },
        {
          "output_type": "stream",
          "name": "stdout",
          "text": [
            "BERT(\n",
            "  (bert): BertForSequenceClassification(\n",
            "    (bert): BertModel(\n",
            "      (embeddings): BertEmbeddings(\n",
            "        (word_embeddings): Embedding(30522, 768, padding_idx=0)\n",
            "        (position_embeddings): Embedding(512, 768)\n",
            "        (token_type_embeddings): Embedding(2, 768)\n",
            "        (LayerNorm): LayerNorm((768,), eps=1e-12, elementwise_affine=True)\n",
            "        (dropout): Dropout(p=0.1, inplace=False)\n",
            "      )\n",
            "      (encoder): BertEncoder(\n",
            "        (layer): ModuleList(\n",
            "          (0): BertLayer(\n",
            "            (attention): BertAttention(\n",
            "              (self): BertSelfAttention(\n",
            "                (query): Linear(in_features=768, out_features=768, bias=True)\n",
            "                (key): Linear(in_features=768, out_features=768, bias=True)\n",
            "                (value): Linear(in_features=768, out_features=768, bias=True)\n",
            "                (dropout): Dropout(p=0.1, inplace=False)\n",
            "              )\n",
            "              (output): BertSelfOutput(\n",
            "                (dense): Linear(in_features=768, out_features=768, bias=True)\n",
            "                (LayerNorm): LayerNorm((768,), eps=1e-12, elementwise_affine=True)\n",
            "                (dropout): Dropout(p=0.1, inplace=False)\n",
            "              )\n",
            "            )\n",
            "            (intermediate): BertIntermediate(\n",
            "              (dense): Linear(in_features=768, out_features=3072, bias=True)\n",
            "              (intermediate_act_fn): GELUActivation()\n",
            "            )\n",
            "            (output): BertOutput(\n",
            "              (dense): Linear(in_features=3072, out_features=768, bias=True)\n",
            "              (LayerNorm): LayerNorm((768,), eps=1e-12, elementwise_affine=True)\n",
            "              (dropout): Dropout(p=0.1, inplace=False)\n",
            "            )\n",
            "          )\n",
            "          (1): BertLayer(\n",
            "            (attention): BertAttention(\n",
            "              (self): BertSelfAttention(\n",
            "                (query): Linear(in_features=768, out_features=768, bias=True)\n",
            "                (key): Linear(in_features=768, out_features=768, bias=True)\n",
            "                (value): Linear(in_features=768, out_features=768, bias=True)\n",
            "                (dropout): Dropout(p=0.1, inplace=False)\n",
            "              )\n",
            "              (output): BertSelfOutput(\n",
            "                (dense): Linear(in_features=768, out_features=768, bias=True)\n",
            "                (LayerNorm): LayerNorm((768,), eps=1e-12, elementwise_affine=True)\n",
            "                (dropout): Dropout(p=0.1, inplace=False)\n",
            "              )\n",
            "            )\n",
            "            (intermediate): BertIntermediate(\n",
            "              (dense): Linear(in_features=768, out_features=3072, bias=True)\n",
            "              (intermediate_act_fn): GELUActivation()\n",
            "            )\n",
            "            (output): BertOutput(\n",
            "              (dense): Linear(in_features=3072, out_features=768, bias=True)\n",
            "              (LayerNorm): LayerNorm((768,), eps=1e-12, elementwise_affine=True)\n",
            "              (dropout): Dropout(p=0.1, inplace=False)\n",
            "            )\n",
            "          )\n",
            "          (2): BertLayer(\n",
            "            (attention): BertAttention(\n",
            "              (self): BertSelfAttention(\n",
            "                (query): Linear(in_features=768, out_features=768, bias=True)\n",
            "                (key): Linear(in_features=768, out_features=768, bias=True)\n",
            "                (value): Linear(in_features=768, out_features=768, bias=True)\n",
            "                (dropout): Dropout(p=0.1, inplace=False)\n",
            "              )\n",
            "              (output): BertSelfOutput(\n",
            "                (dense): Linear(in_features=768, out_features=768, bias=True)\n",
            "                (LayerNorm): LayerNorm((768,), eps=1e-12, elementwise_affine=True)\n",
            "                (dropout): Dropout(p=0.1, inplace=False)\n",
            "              )\n",
            "            )\n",
            "            (intermediate): BertIntermediate(\n",
            "              (dense): Linear(in_features=768, out_features=3072, bias=True)\n",
            "              (intermediate_act_fn): GELUActivation()\n",
            "            )\n",
            "            (output): BertOutput(\n",
            "              (dense): Linear(in_features=3072, out_features=768, bias=True)\n",
            "              (LayerNorm): LayerNorm((768,), eps=1e-12, elementwise_affine=True)\n",
            "              (dropout): Dropout(p=0.1, inplace=False)\n",
            "            )\n",
            "          )\n",
            "          (3): BertLayer(\n",
            "            (attention): BertAttention(\n",
            "              (self): BertSelfAttention(\n",
            "                (query): Linear(in_features=768, out_features=768, bias=True)\n",
            "                (key): Linear(in_features=768, out_features=768, bias=True)\n",
            "                (value): Linear(in_features=768, out_features=768, bias=True)\n",
            "                (dropout): Dropout(p=0.1, inplace=False)\n",
            "              )\n",
            "              (output): BertSelfOutput(\n",
            "                (dense): Linear(in_features=768, out_features=768, bias=True)\n",
            "                (LayerNorm): LayerNorm((768,), eps=1e-12, elementwise_affine=True)\n",
            "                (dropout): Dropout(p=0.1, inplace=False)\n",
            "              )\n",
            "            )\n",
            "            (intermediate): BertIntermediate(\n",
            "              (dense): Linear(in_features=768, out_features=3072, bias=True)\n",
            "              (intermediate_act_fn): GELUActivation()\n",
            "            )\n",
            "            (output): BertOutput(\n",
            "              (dense): Linear(in_features=3072, out_features=768, bias=True)\n",
            "              (LayerNorm): LayerNorm((768,), eps=1e-12, elementwise_affine=True)\n",
            "              (dropout): Dropout(p=0.1, inplace=False)\n",
            "            )\n",
            "          )\n",
            "          (4): BertLayer(\n",
            "            (attention): BertAttention(\n",
            "              (self): BertSelfAttention(\n",
            "                (query): Linear(in_features=768, out_features=768, bias=True)\n",
            "                (key): Linear(in_features=768, out_features=768, bias=True)\n",
            "                (value): Linear(in_features=768, out_features=768, bias=True)\n",
            "                (dropout): Dropout(p=0.1, inplace=False)\n",
            "              )\n",
            "              (output): BertSelfOutput(\n",
            "                (dense): Linear(in_features=768, out_features=768, bias=True)\n",
            "                (LayerNorm): LayerNorm((768,), eps=1e-12, elementwise_affine=True)\n",
            "                (dropout): Dropout(p=0.1, inplace=False)\n",
            "              )\n",
            "            )\n",
            "            (intermediate): BertIntermediate(\n",
            "              (dense): Linear(in_features=768, out_features=3072, bias=True)\n",
            "              (intermediate_act_fn): GELUActivation()\n",
            "            )\n",
            "            (output): BertOutput(\n",
            "              (dense): Linear(in_features=3072, out_features=768, bias=True)\n",
            "              (LayerNorm): LayerNorm((768,), eps=1e-12, elementwise_affine=True)\n",
            "              (dropout): Dropout(p=0.1, inplace=False)\n",
            "            )\n",
            "          )\n",
            "          (5): BertLayer(\n",
            "            (attention): BertAttention(\n",
            "              (self): BertSelfAttention(\n",
            "                (query): Linear(in_features=768, out_features=768, bias=True)\n",
            "                (key): Linear(in_features=768, out_features=768, bias=True)\n",
            "                (value): Linear(in_features=768, out_features=768, bias=True)\n",
            "                (dropout): Dropout(p=0.1, inplace=False)\n",
            "              )\n",
            "              (output): BertSelfOutput(\n",
            "                (dense): Linear(in_features=768, out_features=768, bias=True)\n",
            "                (LayerNorm): LayerNorm((768,), eps=1e-12, elementwise_affine=True)\n",
            "                (dropout): Dropout(p=0.1, inplace=False)\n",
            "              )\n",
            "            )\n",
            "            (intermediate): BertIntermediate(\n",
            "              (dense): Linear(in_features=768, out_features=3072, bias=True)\n",
            "              (intermediate_act_fn): GELUActivation()\n",
            "            )\n",
            "            (output): BertOutput(\n",
            "              (dense): Linear(in_features=3072, out_features=768, bias=True)\n",
            "              (LayerNorm): LayerNorm((768,), eps=1e-12, elementwise_affine=True)\n",
            "              (dropout): Dropout(p=0.1, inplace=False)\n",
            "            )\n",
            "          )\n",
            "          (6): BertLayer(\n",
            "            (attention): BertAttention(\n",
            "              (self): BertSelfAttention(\n",
            "                (query): Linear(in_features=768, out_features=768, bias=True)\n",
            "                (key): Linear(in_features=768, out_features=768, bias=True)\n",
            "                (value): Linear(in_features=768, out_features=768, bias=True)\n",
            "                (dropout): Dropout(p=0.1, inplace=False)\n",
            "              )\n",
            "              (output): BertSelfOutput(\n",
            "                (dense): Linear(in_features=768, out_features=768, bias=True)\n",
            "                (LayerNorm): LayerNorm((768,), eps=1e-12, elementwise_affine=True)\n",
            "                (dropout): Dropout(p=0.1, inplace=False)\n",
            "              )\n",
            "            )\n",
            "            (intermediate): BertIntermediate(\n",
            "              (dense): Linear(in_features=768, out_features=3072, bias=True)\n",
            "              (intermediate_act_fn): GELUActivation()\n",
            "            )\n",
            "            (output): BertOutput(\n",
            "              (dense): Linear(in_features=3072, out_features=768, bias=True)\n",
            "              (LayerNorm): LayerNorm((768,), eps=1e-12, elementwise_affine=True)\n",
            "              (dropout): Dropout(p=0.1, inplace=False)\n",
            "            )\n",
            "          )\n",
            "          (7): BertLayer(\n",
            "            (attention): BertAttention(\n",
            "              (self): BertSelfAttention(\n",
            "                (query): Linear(in_features=768, out_features=768, bias=True)\n",
            "                (key): Linear(in_features=768, out_features=768, bias=True)\n",
            "                (value): Linear(in_features=768, out_features=768, bias=True)\n",
            "                (dropout): Dropout(p=0.1, inplace=False)\n",
            "              )\n",
            "              (output): BertSelfOutput(\n",
            "                (dense): Linear(in_features=768, out_features=768, bias=True)\n",
            "                (LayerNorm): LayerNorm((768,), eps=1e-12, elementwise_affine=True)\n",
            "                (dropout): Dropout(p=0.1, inplace=False)\n",
            "              )\n",
            "            )\n",
            "            (intermediate): BertIntermediate(\n",
            "              (dense): Linear(in_features=768, out_features=3072, bias=True)\n",
            "              (intermediate_act_fn): GELUActivation()\n",
            "            )\n",
            "            (output): BertOutput(\n",
            "              (dense): Linear(in_features=3072, out_features=768, bias=True)\n",
            "              (LayerNorm): LayerNorm((768,), eps=1e-12, elementwise_affine=True)\n",
            "              (dropout): Dropout(p=0.1, inplace=False)\n",
            "            )\n",
            "          )\n",
            "          (8): BertLayer(\n",
            "            (attention): BertAttention(\n",
            "              (self): BertSelfAttention(\n",
            "                (query): Linear(in_features=768, out_features=768, bias=True)\n",
            "                (key): Linear(in_features=768, out_features=768, bias=True)\n",
            "                (value): Linear(in_features=768, out_features=768, bias=True)\n",
            "                (dropout): Dropout(p=0.1, inplace=False)\n",
            "              )\n",
            "              (output): BertSelfOutput(\n",
            "                (dense): Linear(in_features=768, out_features=768, bias=True)\n",
            "                (LayerNorm): LayerNorm((768,), eps=1e-12, elementwise_affine=True)\n",
            "                (dropout): Dropout(p=0.1, inplace=False)\n",
            "              )\n",
            "            )\n",
            "            (intermediate): BertIntermediate(\n",
            "              (dense): Linear(in_features=768, out_features=3072, bias=True)\n",
            "              (intermediate_act_fn): GELUActivation()\n",
            "            )\n",
            "            (output): BertOutput(\n",
            "              (dense): Linear(in_features=3072, out_features=768, bias=True)\n",
            "              (LayerNorm): LayerNorm((768,), eps=1e-12, elementwise_affine=True)\n",
            "              (dropout): Dropout(p=0.1, inplace=False)\n",
            "            )\n",
            "          )\n",
            "          (9): BertLayer(\n",
            "            (attention): BertAttention(\n",
            "              (self): BertSelfAttention(\n",
            "                (query): Linear(in_features=768, out_features=768, bias=True)\n",
            "                (key): Linear(in_features=768, out_features=768, bias=True)\n",
            "                (value): Linear(in_features=768, out_features=768, bias=True)\n",
            "                (dropout): Dropout(p=0.1, inplace=False)\n",
            "              )\n",
            "              (output): BertSelfOutput(\n",
            "                (dense): Linear(in_features=768, out_features=768, bias=True)\n",
            "                (LayerNorm): LayerNorm((768,), eps=1e-12, elementwise_affine=True)\n",
            "                (dropout): Dropout(p=0.1, inplace=False)\n",
            "              )\n",
            "            )\n",
            "            (intermediate): BertIntermediate(\n",
            "              (dense): Linear(in_features=768, out_features=3072, bias=True)\n",
            "              (intermediate_act_fn): GELUActivation()\n",
            "            )\n",
            "            (output): BertOutput(\n",
            "              (dense): Linear(in_features=3072, out_features=768, bias=True)\n",
            "              (LayerNorm): LayerNorm((768,), eps=1e-12, elementwise_affine=True)\n",
            "              (dropout): Dropout(p=0.1, inplace=False)\n",
            "            )\n",
            "          )\n",
            "          (10): BertLayer(\n",
            "            (attention): BertAttention(\n",
            "              (self): BertSelfAttention(\n",
            "                (query): Linear(in_features=768, out_features=768, bias=True)\n",
            "                (key): Linear(in_features=768, out_features=768, bias=True)\n",
            "                (value): Linear(in_features=768, out_features=768, bias=True)\n",
            "                (dropout): Dropout(p=0.1, inplace=False)\n",
            "              )\n",
            "              (output): BertSelfOutput(\n",
            "                (dense): Linear(in_features=768, out_features=768, bias=True)\n",
            "                (LayerNorm): LayerNorm((768,), eps=1e-12, elementwise_affine=True)\n",
            "                (dropout): Dropout(p=0.1, inplace=False)\n",
            "              )\n",
            "            )\n",
            "            (intermediate): BertIntermediate(\n",
            "              (dense): Linear(in_features=768, out_features=3072, bias=True)\n",
            "              (intermediate_act_fn): GELUActivation()\n",
            "            )\n",
            "            (output): BertOutput(\n",
            "              (dense): Linear(in_features=3072, out_features=768, bias=True)\n",
            "              (LayerNorm): LayerNorm((768,), eps=1e-12, elementwise_affine=True)\n",
            "              (dropout): Dropout(p=0.1, inplace=False)\n",
            "            )\n",
            "          )\n",
            "          (11): BertLayer(\n",
            "            (attention): BertAttention(\n",
            "              (self): BertSelfAttention(\n",
            "                (query): Linear(in_features=768, out_features=768, bias=True)\n",
            "                (key): Linear(in_features=768, out_features=768, bias=True)\n",
            "                (value): Linear(in_features=768, out_features=768, bias=True)\n",
            "                (dropout): Dropout(p=0.1, inplace=False)\n",
            "              )\n",
            "              (output): BertSelfOutput(\n",
            "                (dense): Linear(in_features=768, out_features=768, bias=True)\n",
            "                (LayerNorm): LayerNorm((768,), eps=1e-12, elementwise_affine=True)\n",
            "                (dropout): Dropout(p=0.1, inplace=False)\n",
            "              )\n",
            "            )\n",
            "            (intermediate): BertIntermediate(\n",
            "              (dense): Linear(in_features=768, out_features=3072, bias=True)\n",
            "              (intermediate_act_fn): GELUActivation()\n",
            "            )\n",
            "            (output): BertOutput(\n",
            "              (dense): Linear(in_features=3072, out_features=768, bias=True)\n",
            "              (LayerNorm): LayerNorm((768,), eps=1e-12, elementwise_affine=True)\n",
            "              (dropout): Dropout(p=0.1, inplace=False)\n",
            "            )\n",
            "          )\n",
            "        )\n",
            "      )\n",
            "      (pooler): BertPooler(\n",
            "        (dense): Linear(in_features=768, out_features=768, bias=True)\n",
            "        (activation): Tanh()\n",
            "      )\n",
            "    )\n",
            "    (dropout): Dropout(p=0.1, inplace=False)\n",
            "    (classifier): Linear(in_features=768, out_features=512, bias=True)\n",
            "  )\n",
            "  (out): Linear(in_features=512, out_features=3, bias=True)\n",
            "  (dropout): Dropout(p=0.5, inplace=False)\n",
            ")\n"
          ]
        }
      ]
    },
    {
      "cell_type": "code",
      "source": [
        "# freeze paramers, we need to set their requires_grad attribute to False\n",
        "for name, param in model.named_parameters():                \n",
        "    if name.startswith('bert'):\n",
        "        param.requires_grad = False\n",
        "\n",
        "def count_parameters(model):\n",
        "    return sum(p.numel() for p in model.parameters() if p.requires_grad)\n",
        "\n",
        "print(f'The model has {count_parameters(model):,} trainable parameters')"
      ],
      "metadata": {
        "id": "29I4eCcfgW3_",
        "colab": {
          "base_uri": "https://localhost:8080/"
        },
        "outputId": "9d0b2ef5-a24d-4e2b-9fc6-208269e83eac"
      },
      "execution_count": 72,
      "outputs": [
        {
          "output_type": "stream",
          "name": "stdout",
          "text": [
            "The model has 1,539 trainable parameters\n"
          ]
        }
      ]
    },
    {
      "cell_type": "markdown",
      "source": [
        "# Define the helper functions and parameters"
      ],
      "metadata": {
        "id": "uf7_uTuKpVcP"
      }
    },
    {
      "cell_type": "code",
      "source": [
        "optimizer = torch.optim.Adam(model.parameters(), lr=3e-4)\n",
        "criterion = torch.nn.CrossEntropyLoss()\n",
        "\n",
        "model = model.to(device)\n",
        "criterion = criterion.to(device)\n",
        "\n",
        "def calculate_accuracy(preds, y):\n",
        "    \"\"\"\n",
        "    returns accuracy per batch\n",
        "    \"\"\"\n",
        "    class_preds = nn.Softmax(dim=-1)(preds)\n",
        "    class_preds = class_preds.max(-1)[1]\n",
        "    correct = (class_preds == y).float() # Convert into float for division\n",
        "    acc = correct.sum() / len(correct)\n",
        "\n",
        "    return acc\n",
        "\n",
        "def train(model, iterator, optimizer, criterion):\n",
        "    epoch_loss = 0\n",
        "    epoch_acc = 0\n",
        "    model.train()\n",
        "    \n",
        "    for batch in iterator:\n",
        "        batch.text = batch.text.to(device)\n",
        "        optimizer.zero_grad()\n",
        "        predictions = model(batch.text).squeeze(1).to(device)\n",
        "        batch.label = batch.label.type(torch.LongTensor).to(device)\n",
        "\n",
        "        loss = criterion(predictions, batch.label)\n",
        "        acc = calculate_accuracy(predictions, batch.label)\n",
        "        loss.backward()\n",
        "        optimizer.step()\n",
        "        epoch_loss += loss.item()\n",
        "        epoch_acc += acc.item()\n",
        "        \n",
        "    return epoch_loss / len(iterator), epoch_acc / len(iterator)\n",
        "\n",
        "def evaluate(model, iterator, criterion):\n",
        "    epoch_loss = 0\n",
        "    epoch_acc = 0\n",
        "\n",
        "    # Output tensor for predicted labels\n",
        "    output = torch.LongTensor([]).to(device)\n",
        "    model.eval()\n",
        "  \n",
        "    with torch.no_grad():\n",
        "        for batch in iterator:\n",
        "            batch.text = batch.text.to(device)\n",
        "            predictions = model(batch.text).squeeze(1).to(device)\n",
        "            batch.label = batch.label.type(torch.LongTensor).to(device)\n",
        "\n",
        "            # assign label according to the largest value\n",
        "            class_preds = nn.Softmax(dim=-1)(predictions)\n",
        "            class_preds = class_preds.max(-1)[1]\n",
        "            \n",
        "            # combine all the values in batches\n",
        "            output = torch.cat((output, class_preds), 0)\n",
        "            loss = criterion(predictions, batch.label)\n",
        "            \n",
        "            acc = calculate_accuracy(predictions, batch.label)\n",
        "\n",
        "            epoch_loss += loss.item()\n",
        "            epoch_acc += acc.item()\n",
        "        \n",
        "    return epoch_loss / len(iterator), epoch_acc / len(iterator), output"
      ],
      "metadata": {
        "id": "egbSsFC_oADz"
      },
      "execution_count": 73,
      "outputs": []
    },
    {
      "cell_type": "code",
      "source": [
        "import time\n",
        "\n",
        "# Helper function to print time between epochs\n",
        "def epoch_time(start_time, end_time):\n",
        "    elapsed_time = end_time - start_time\n",
        "    elapsed_mins = int(elapsed_time / 60)\n",
        "    elapsed_secs = int(elapsed_time - (elapsed_mins * 60))\n",
        "    return elapsed_mins, elapsed_secs"
      ],
      "metadata": {
        "id": "UFueQxAaoRVg"
      },
      "execution_count": 74,
      "outputs": []
    },
    {
      "cell_type": "markdown",
      "source": [
        "# Train the model"
      ],
      "metadata": {
        "id": "97Jhcfp9pZBW"
      }
    },
    {
      "cell_type": "code",
      "source": [
        "# Start training\n",
        "N_EPOCHS = 100\n",
        "\n",
        "best_valid_loss = float('inf')\n",
        "\n",
        "train_loss_list = []\n",
        "valid_loss_list = []\n",
        "train_acc_list = []\n",
        "valid_acc_list = []\n",
        "\n",
        "for epoch in range(N_EPOCHS):\n",
        "    start_time = time.time()\n",
        "    train_loss, train_acc = train(model, train_iterator, optimizer, criterion)\n",
        "    valid_loss, valid_acc, output = evaluate(model, valid_iterator, criterion) \n",
        "    end_time = time.time()\n",
        "    epoch_mins, epoch_secs = epoch_time(start_time, end_time)\n",
        "        \n",
        "    if valid_loss < best_valid_loss:\n",
        "        best_valid_loss = valid_loss\n",
        "        torch.save(model.state_dict(), 'models/picked_model.pt')\n",
        "    \n",
        "    train_loss_list.append(train_loss)\n",
        "    valid_loss_list.append(valid_loss)\n",
        "    train_acc_list.append(train_acc)\n",
        "    valid_acc_list.append(valid_acc)\n",
        "\n",
        "    print(f'Epoch: {epoch+1:02} | Epoch Time: {epoch_mins}m {epoch_secs}s')\n",
        "    print(f'\\tTrain Loss: {train_loss:.3f} | Train Acc: {train_acc*100:.2f}%')\n",
        "    print(f'\\t Val. Loss: {valid_loss:.3f} |  Val. Acc: {valid_acc*100:.2f}%')"
      ],
      "metadata": {
        "colab": {
          "base_uri": "https://localhost:8080/"
        },
        "id": "MqLKSrquoFJy",
        "outputId": "f428a928-9718-409e-8799-083926327628"
      },
      "execution_count": 75,
      "outputs": [
        {
          "output_type": "stream",
          "name": "stdout",
          "text": [
            "Epoch: 01 | Epoch Time: 0m 44s\n",
            "\tTrain Loss: 1.097 | Train Acc: 35.77%\n",
            "\t Val. Loss: 1.088 |  Val. Acc: 43.26%\n",
            "Epoch: 02 | Epoch Time: 0m 43s\n",
            "\tTrain Loss: 1.086 | Train Acc: 40.05%\n",
            "\t Val. Loss: 1.072 |  Val. Acc: 47.62%\n",
            "Epoch: 03 | Epoch Time: 0m 43s\n",
            "\tTrain Loss: 1.079 | Train Acc: 41.69%\n",
            "\t Val. Loss: 1.061 |  Val. Acc: 52.12%\n",
            "Epoch: 04 | Epoch Time: 0m 43s\n",
            "\tTrain Loss: 1.070 | Train Acc: 43.86%\n",
            "\t Val. Loss: 1.054 |  Val. Acc: 48.81%\n",
            "Epoch: 05 | Epoch Time: 0m 43s\n",
            "\tTrain Loss: 1.064 | Train Acc: 45.39%\n",
            "\t Val. Loss: 1.053 |  Val. Acc: 43.81%\n",
            "Epoch: 06 | Epoch Time: 0m 43s\n",
            "\tTrain Loss: 1.059 | Train Acc: 45.80%\n",
            "\t Val. Loss: 1.039 |  Val. Acc: 51.27%\n",
            "Epoch: 07 | Epoch Time: 0m 43s\n",
            "\tTrain Loss: 1.054 | Train Acc: 46.63%\n",
            "\t Val. Loss: 1.029 |  Val. Acc: 55.59%\n",
            "Epoch: 08 | Epoch Time: 0m 43s\n",
            "\tTrain Loss: 1.049 | Train Acc: 46.98%\n",
            "\t Val. Loss: 1.022 |  Val. Acc: 55.10%\n",
            "Epoch: 09 | Epoch Time: 0m 43s\n",
            "\tTrain Loss: 1.048 | Train Acc: 46.85%\n",
            "\t Val. Loss: 1.021 |  Val. Acc: 52.20%\n",
            "Epoch: 10 | Epoch Time: 0m 43s\n",
            "\tTrain Loss: 1.043 | Train Acc: 47.71%\n",
            "\t Val. Loss: 1.012 |  Val. Acc: 57.03%\n",
            "Epoch: 11 | Epoch Time: 0m 43s\n",
            "\tTrain Loss: 1.041 | Train Acc: 47.45%\n",
            "\t Val. Loss: 1.010 |  Val. Acc: 56.37%\n",
            "Epoch: 12 | Epoch Time: 0m 43s\n",
            "\tTrain Loss: 1.036 | Train Acc: 48.37%\n",
            "\t Val. Loss: 1.004 |  Val. Acc: 57.26%\n",
            "Epoch: 13 | Epoch Time: 0m 43s\n",
            "\tTrain Loss: 1.036 | Train Acc: 48.45%\n",
            "\t Val. Loss: 1.000 |  Val. Acc: 58.22%\n",
            "Epoch: 14 | Epoch Time: 0m 43s\n",
            "\tTrain Loss: 1.034 | Train Acc: 48.41%\n",
            "\t Val. Loss: 0.994 |  Val. Acc: 59.07%\n",
            "Epoch: 15 | Epoch Time: 0m 43s\n",
            "\tTrain Loss: 1.028 | Train Acc: 49.27%\n",
            "\t Val. Loss: 0.991 |  Val. Acc: 58.53%\n",
            "Epoch: 16 | Epoch Time: 0m 43s\n",
            "\tTrain Loss: 1.028 | Train Acc: 48.82%\n",
            "\t Val. Loss: 0.988 |  Val. Acc: 59.52%\n",
            "Epoch: 17 | Epoch Time: 0m 43s\n",
            "\tTrain Loss: 1.027 | Train Acc: 49.24%\n",
            "\t Val. Loss: 0.984 |  Val. Acc: 58.94%\n",
            "Epoch: 18 | Epoch Time: 0m 43s\n",
            "\tTrain Loss: 1.021 | Train Acc: 50.29%\n",
            "\t Val. Loss: 0.981 |  Val. Acc: 59.85%\n",
            "Epoch: 19 | Epoch Time: 0m 43s\n",
            "\tTrain Loss: 1.022 | Train Acc: 49.46%\n",
            "\t Val. Loss: 0.979 |  Val. Acc: 58.78%\n",
            "Epoch: 20 | Epoch Time: 0m 43s\n",
            "\tTrain Loss: 1.022 | Train Acc: 48.88%\n",
            "\t Val. Loss: 0.979 |  Val. Acc: 58.59%\n",
            "Epoch: 21 | Epoch Time: 0m 43s\n",
            "\tTrain Loss: 1.018 | Train Acc: 49.64%\n",
            "\t Val. Loss: 0.971 |  Val. Acc: 60.88%\n",
            "Epoch: 22 | Epoch Time: 0m 43s\n",
            "\tTrain Loss: 1.016 | Train Acc: 49.98%\n",
            "\t Val. Loss: 0.968 |  Val. Acc: 60.69%\n",
            "Epoch: 23 | Epoch Time: 0m 43s\n",
            "\tTrain Loss: 1.014 | Train Acc: 49.62%\n",
            "\t Val. Loss: 0.965 |  Val. Acc: 60.32%\n",
            "Epoch: 24 | Epoch Time: 0m 43s\n",
            "\tTrain Loss: 1.014 | Train Acc: 49.81%\n",
            "\t Val. Loss: 0.965 |  Val. Acc: 58.80%\n",
            "Epoch: 25 | Epoch Time: 0m 43s\n",
            "\tTrain Loss: 1.015 | Train Acc: 49.97%\n",
            "\t Val. Loss: 0.962 |  Val. Acc: 60.65%\n",
            "Epoch: 26 | Epoch Time: 0m 43s\n",
            "\tTrain Loss: 1.009 | Train Acc: 50.52%\n",
            "\t Val. Loss: 0.962 |  Val. Acc: 59.87%\n",
            "Epoch: 27 | Epoch Time: 0m 43s\n",
            "\tTrain Loss: 1.008 | Train Acc: 50.73%\n",
            "\t Val. Loss: 0.956 |  Val. Acc: 60.44%\n",
            "Epoch: 28 | Epoch Time: 0m 43s\n",
            "\tTrain Loss: 1.008 | Train Acc: 50.59%\n",
            "\t Val. Loss: 0.953 |  Val. Acc: 61.62%\n",
            "Epoch: 29 | Epoch Time: 0m 43s\n",
            "\tTrain Loss: 1.006 | Train Acc: 50.28%\n",
            "\t Val. Loss: 0.951 |  Val. Acc: 61.10%\n",
            "Epoch: 30 | Epoch Time: 0m 43s\n",
            "\tTrain Loss: 1.006 | Train Acc: 50.40%\n",
            "\t Val. Loss: 0.952 |  Val. Acc: 60.98%\n",
            "Epoch: 31 | Epoch Time: 0m 43s\n",
            "\tTrain Loss: 1.005 | Train Acc: 50.77%\n",
            "\t Val. Loss: 0.947 |  Val. Acc: 61.90%\n",
            "Epoch: 32 | Epoch Time: 0m 43s\n",
            "\tTrain Loss: 1.002 | Train Acc: 50.79%\n",
            "\t Val. Loss: 0.947 |  Val. Acc: 61.31%\n",
            "Epoch: 33 | Epoch Time: 0m 43s\n",
            "\tTrain Loss: 1.002 | Train Acc: 51.25%\n",
            "\t Val. Loss: 0.944 |  Val. Acc: 61.94%\n",
            "Epoch: 34 | Epoch Time: 0m 43s\n",
            "\tTrain Loss: 0.999 | Train Acc: 51.27%\n",
            "\t Val. Loss: 0.943 |  Val. Acc: 62.31%\n",
            "Epoch: 35 | Epoch Time: 0m 43s\n",
            "\tTrain Loss: 1.001 | Train Acc: 51.10%\n",
            "\t Val. Loss: 0.940 |  Val. Acc: 62.25%\n",
            "Epoch: 36 | Epoch Time: 0m 43s\n",
            "\tTrain Loss: 1.000 | Train Acc: 51.44%\n",
            "\t Val. Loss: 0.938 |  Val. Acc: 62.15%\n",
            "Epoch: 37 | Epoch Time: 0m 43s\n",
            "\tTrain Loss: 0.998 | Train Acc: 51.51%\n",
            "\t Val. Loss: 0.939 |  Val. Acc: 61.72%\n",
            "Epoch: 38 | Epoch Time: 0m 43s\n",
            "\tTrain Loss: 1.000 | Train Acc: 51.17%\n",
            "\t Val. Loss: 0.935 |  Val. Acc: 62.69%\n",
            "Epoch: 39 | Epoch Time: 0m 43s\n",
            "\tTrain Loss: 0.994 | Train Acc: 51.68%\n",
            "\t Val. Loss: 0.933 |  Val. Acc: 62.85%\n",
            "Epoch: 40 | Epoch Time: 0m 43s\n",
            "\tTrain Loss: 0.995 | Train Acc: 51.70%\n",
            "\t Val. Loss: 0.932 |  Val. Acc: 63.10%\n",
            "Epoch: 41 | Epoch Time: 0m 43s\n",
            "\tTrain Loss: 0.995 | Train Acc: 51.62%\n",
            "\t Val. Loss: 0.930 |  Val. Acc: 63.14%\n",
            "Epoch: 42 | Epoch Time: 0m 43s\n",
            "\tTrain Loss: 0.992 | Train Acc: 51.79%\n",
            "\t Val. Loss: 0.929 |  Val. Acc: 62.95%\n",
            "Epoch: 43 | Epoch Time: 0m 43s\n",
            "\tTrain Loss: 0.994 | Train Acc: 51.59%\n",
            "\t Val. Loss: 0.930 |  Val. Acc: 61.80%\n",
            "Epoch: 44 | Epoch Time: 0m 43s\n",
            "\tTrain Loss: 0.994 | Train Acc: 51.44%\n",
            "\t Val. Loss: 0.926 |  Val. Acc: 63.34%\n",
            "Epoch: 45 | Epoch Time: 0m 43s\n",
            "\tTrain Loss: 0.995 | Train Acc: 51.59%\n",
            "\t Val. Loss: 0.925 |  Val. Acc: 63.57%\n",
            "Epoch: 46 | Epoch Time: 0m 43s\n",
            "\tTrain Loss: 0.992 | Train Acc: 51.77%\n",
            "\t Val. Loss: 0.923 |  Val. Acc: 63.06%\n",
            "Epoch: 47 | Epoch Time: 0m 43s\n",
            "\tTrain Loss: 0.991 | Train Acc: 52.23%\n",
            "\t Val. Loss: 0.922 |  Val. Acc: 63.10%\n",
            "Epoch: 48 | Epoch Time: 0m 43s\n",
            "\tTrain Loss: 0.989 | Train Acc: 51.71%\n",
            "\t Val. Loss: 0.922 |  Val. Acc: 63.53%\n",
            "Epoch: 49 | Epoch Time: 0m 43s\n",
            "\tTrain Loss: 0.986 | Train Acc: 52.35%\n",
            "\t Val. Loss: 0.920 |  Val. Acc: 63.38%\n",
            "Epoch: 50 | Epoch Time: 0m 43s\n",
            "\tTrain Loss: 0.987 | Train Acc: 52.54%\n",
            "\t Val. Loss: 0.918 |  Val. Acc: 63.63%\n",
            "Epoch: 51 | Epoch Time: 0m 43s\n",
            "\tTrain Loss: 0.990 | Train Acc: 52.42%\n",
            "\t Val. Loss: 0.917 |  Val. Acc: 63.51%\n",
            "Epoch: 52 | Epoch Time: 0m 43s\n",
            "\tTrain Loss: 0.986 | Train Acc: 51.99%\n",
            "\t Val. Loss: 0.919 |  Val. Acc: 62.75%\n",
            "Epoch: 53 | Epoch Time: 0m 43s\n",
            "\tTrain Loss: 0.989 | Train Acc: 52.02%\n",
            "\t Val. Loss: 0.916 |  Val. Acc: 62.89%\n",
            "Epoch: 54 | Epoch Time: 0m 43s\n",
            "\tTrain Loss: 0.984 | Train Acc: 52.38%\n",
            "\t Val. Loss: 0.916 |  Val. Acc: 62.95%\n",
            "Epoch: 55 | Epoch Time: 0m 43s\n",
            "\tTrain Loss: 0.985 | Train Acc: 52.47%\n",
            "\t Val. Loss: 0.913 |  Val. Acc: 63.88%\n",
            "Epoch: 56 | Epoch Time: 0m 43s\n",
            "\tTrain Loss: 0.983 | Train Acc: 52.33%\n",
            "\t Val. Loss: 0.912 |  Val. Acc: 63.24%\n",
            "Epoch: 57 | Epoch Time: 0m 43s\n",
            "\tTrain Loss: 0.983 | Train Acc: 52.56%\n",
            "\t Val. Loss: 0.911 |  Val. Acc: 63.69%\n",
            "Epoch: 58 | Epoch Time: 0m 43s\n",
            "\tTrain Loss: 0.983 | Train Acc: 52.67%\n",
            "\t Val. Loss: 0.910 |  Val. Acc: 64.00%\n",
            "Epoch: 59 | Epoch Time: 0m 43s\n",
            "\tTrain Loss: 0.984 | Train Acc: 52.32%\n",
            "\t Val. Loss: 0.910 |  Val. Acc: 63.82%\n",
            "Epoch: 60 | Epoch Time: 0m 43s\n",
            "\tTrain Loss: 0.984 | Train Acc: 52.47%\n",
            "\t Val. Loss: 0.908 |  Val. Acc: 63.88%\n",
            "Epoch: 61 | Epoch Time: 0m 43s\n",
            "\tTrain Loss: 0.983 | Train Acc: 52.58%\n",
            "\t Val. Loss: 0.906 |  Val. Acc: 64.21%\n",
            "Epoch: 62 | Epoch Time: 0m 43s\n",
            "\tTrain Loss: 0.981 | Train Acc: 52.55%\n",
            "\t Val. Loss: 0.909 |  Val. Acc: 62.52%\n",
            "Epoch: 63 | Epoch Time: 0m 43s\n",
            "\tTrain Loss: 0.979 | Train Acc: 52.71%\n",
            "\t Val. Loss: 0.905 |  Val. Acc: 64.23%\n",
            "Epoch: 64 | Epoch Time: 0m 43s\n",
            "\tTrain Loss: 0.980 | Train Acc: 52.63%\n",
            "\t Val. Loss: 0.905 |  Val. Acc: 64.29%\n",
            "Epoch: 65 | Epoch Time: 0m 43s\n",
            "\tTrain Loss: 0.980 | Train Acc: 52.57%\n",
            "\t Val. Loss: 0.905 |  Val. Acc: 63.94%\n",
            "Epoch: 66 | Epoch Time: 0m 43s\n",
            "\tTrain Loss: 0.980 | Train Acc: 52.36%\n",
            "\t Val. Loss: 0.903 |  Val. Acc: 64.27%\n",
            "Epoch: 67 | Epoch Time: 0m 43s\n",
            "\tTrain Loss: 0.978 | Train Acc: 53.05%\n",
            "\t Val. Loss: 0.902 |  Val. Acc: 64.25%\n",
            "Epoch: 68 | Epoch Time: 0m 43s\n",
            "\tTrain Loss: 0.979 | Train Acc: 52.64%\n",
            "\t Val. Loss: 0.901 |  Val. Acc: 64.08%\n",
            "Epoch: 69 | Epoch Time: 0m 43s\n",
            "\tTrain Loss: 0.978 | Train Acc: 52.85%\n",
            "\t Val. Loss: 0.901 |  Val. Acc: 63.36%\n",
            "Epoch: 70 | Epoch Time: 0m 43s\n",
            "\tTrain Loss: 0.980 | Train Acc: 52.56%\n",
            "\t Val. Loss: 0.900 |  Val. Acc: 64.39%\n",
            "Epoch: 71 | Epoch Time: 0m 43s\n",
            "\tTrain Loss: 0.975 | Train Acc: 53.43%\n",
            "\t Val. Loss: 0.899 |  Val. Acc: 63.92%\n",
            "Epoch: 72 | Epoch Time: 0m 43s\n",
            "\tTrain Loss: 0.976 | Train Acc: 52.71%\n",
            "\t Val. Loss: 0.898 |  Val. Acc: 63.71%\n",
            "Epoch: 73 | Epoch Time: 0m 43s\n",
            "\tTrain Loss: 0.977 | Train Acc: 52.94%\n",
            "\t Val. Loss: 0.900 |  Val. Acc: 63.53%\n",
            "Epoch: 74 | Epoch Time: 0m 43s\n",
            "\tTrain Loss: 0.979 | Train Acc: 52.68%\n",
            "\t Val. Loss: 0.897 |  Val. Acc: 64.35%\n",
            "Epoch: 75 | Epoch Time: 0m 43s\n",
            "\tTrain Loss: 0.975 | Train Acc: 52.84%\n",
            "\t Val. Loss: 0.896 |  Val. Acc: 63.98%\n",
            "Epoch: 76 | Epoch Time: 0m 43s\n",
            "\tTrain Loss: 0.976 | Train Acc: 53.45%\n",
            "\t Val. Loss: 0.895 |  Val. Acc: 64.37%\n",
            "Epoch: 77 | Epoch Time: 0m 43s\n",
            "\tTrain Loss: 0.972 | Train Acc: 53.54%\n",
            "\t Val. Loss: 0.895 |  Val. Acc: 63.75%\n",
            "Epoch: 78 | Epoch Time: 0m 43s\n",
            "\tTrain Loss: 0.977 | Train Acc: 52.50%\n",
            "\t Val. Loss: 0.893 |  Val. Acc: 64.66%\n",
            "Epoch: 79 | Epoch Time: 0m 43s\n",
            "\tTrain Loss: 0.974 | Train Acc: 53.04%\n",
            "\t Val. Loss: 0.892 |  Val. Acc: 64.60%\n",
            "Epoch: 80 | Epoch Time: 0m 43s\n",
            "\tTrain Loss: 0.973 | Train Acc: 52.70%\n",
            "\t Val. Loss: 0.893 |  Val. Acc: 64.27%\n",
            "Epoch: 81 | Epoch Time: 0m 43s\n",
            "\tTrain Loss: 0.975 | Train Acc: 52.58%\n",
            "\t Val. Loss: 0.892 |  Val. Acc: 64.76%\n",
            "Epoch: 82 | Epoch Time: 0m 43s\n",
            "\tTrain Loss: 0.974 | Train Acc: 52.90%\n",
            "\t Val. Loss: 0.894 |  Val. Acc: 64.19%\n",
            "Epoch: 83 | Epoch Time: 0m 43s\n",
            "\tTrain Loss: 0.974 | Train Acc: 53.22%\n",
            "\t Val. Loss: 0.890 |  Val. Acc: 64.86%\n",
            "Epoch: 84 | Epoch Time: 0m 43s\n",
            "\tTrain Loss: 0.976 | Train Acc: 52.44%\n",
            "\t Val. Loss: 0.890 |  Val. Acc: 64.70%\n",
            "Epoch: 85 | Epoch Time: 0m 43s\n",
            "\tTrain Loss: 0.970 | Train Acc: 53.30%\n",
            "\t Val. Loss: 0.889 |  Val. Acc: 64.68%\n",
            "Epoch: 86 | Epoch Time: 0m 43s\n",
            "\tTrain Loss: 0.970 | Train Acc: 53.30%\n",
            "\t Val. Loss: 0.890 |  Val. Acc: 64.10%\n",
            "Epoch: 87 | Epoch Time: 0m 43s\n",
            "\tTrain Loss: 0.971 | Train Acc: 53.53%\n",
            "\t Val. Loss: 0.888 |  Val. Acc: 64.76%\n",
            "Epoch: 88 | Epoch Time: 0m 43s\n",
            "\tTrain Loss: 0.971 | Train Acc: 53.17%\n",
            "\t Val. Loss: 0.889 |  Val. Acc: 64.10%\n",
            "Epoch: 89 | Epoch Time: 0m 43s\n",
            "\tTrain Loss: 0.972 | Train Acc: 53.24%\n",
            "\t Val. Loss: 0.886 |  Val. Acc: 64.72%\n",
            "Epoch: 90 | Epoch Time: 0m 43s\n",
            "\tTrain Loss: 0.969 | Train Acc: 53.36%\n",
            "\t Val. Loss: 0.886 |  Val. Acc: 64.97%\n",
            "Epoch: 91 | Epoch Time: 0m 43s\n",
            "\tTrain Loss: 0.975 | Train Acc: 52.72%\n",
            "\t Val. Loss: 0.885 |  Val. Acc: 64.72%\n",
            "Epoch: 92 | Epoch Time: 0m 43s\n",
            "\tTrain Loss: 0.970 | Train Acc: 53.28%\n",
            "\t Val. Loss: 0.888 |  Val. Acc: 64.45%\n",
            "Epoch: 93 | Epoch Time: 0m 43s\n",
            "\tTrain Loss: 0.967 | Train Acc: 53.65%\n",
            "\t Val. Loss: 0.884 |  Val. Acc: 64.74%\n",
            "Epoch: 94 | Epoch Time: 0m 43s\n",
            "\tTrain Loss: 0.968 | Train Acc: 53.65%\n",
            "\t Val. Loss: 0.884 |  Val. Acc: 65.30%\n",
            "Epoch: 95 | Epoch Time: 0m 43s\n",
            "\tTrain Loss: 0.971 | Train Acc: 53.52%\n",
            "\t Val. Loss: 0.883 |  Val. Acc: 64.97%\n",
            "Epoch: 96 | Epoch Time: 0m 43s\n",
            "\tTrain Loss: 0.968 | Train Acc: 53.59%\n",
            "\t Val. Loss: 0.883 |  Val. Acc: 65.23%\n",
            "Epoch: 97 | Epoch Time: 0m 43s\n",
            "\tTrain Loss: 0.967 | Train Acc: 53.82%\n",
            "\t Val. Loss: 0.884 |  Val. Acc: 64.97%\n",
            "Epoch: 98 | Epoch Time: 0m 43s\n",
            "\tTrain Loss: 0.970 | Train Acc: 53.49%\n",
            "\t Val. Loss: 0.882 |  Val. Acc: 64.88%\n",
            "Epoch: 99 | Epoch Time: 0m 43s\n",
            "\tTrain Loss: 0.967 | Train Acc: 53.43%\n",
            "\t Val. Loss: 0.881 |  Val. Acc: 64.84%\n",
            "Epoch: 100 | Epoch Time: 0m 43s\n",
            "\tTrain Loss: 0.971 | Train Acc: 53.22%\n",
            "\t Val. Loss: 0.882 |  Val. Acc: 64.39%\n"
          ]
        }
      ]
    },
    {
      "cell_type": "code",
      "source": [
        "fig = plt.figure()\n",
        "plt.plot(range(0, N_EPOCHS), train_loss_list, label ='training loss')\n",
        "plt.plot(range(0, N_EPOCHS), valid_loss_list, label ='validation loss')\n",
        "plt.title(\"Plot for training and validation loss\")\n",
        "plt.xlabel(\"number of epochs\")\n",
        "plt.ylabel(\"loss\")\n",
        "plt.legend()\n",
        "plt.show()\n",
        "\n",
        "fig = plt.figure()\n",
        "plt.plot(range(0, N_EPOCHS), train_acc_list, label ='training acc')\n",
        "plt.plot(range(0, N_EPOCHS), valid_acc_list, label ='validation acc')\n",
        "plt.title(\"Plot for training and validation accuracy\")\n",
        "plt.xlabel(\"number of epochs\")\n",
        "plt.ylabel(\"accuracy\")\n",
        "plt.legend()\n",
        "plt.show()"
      ],
      "metadata": {
        "id": "tevGmDmcqExz",
        "colab": {
          "base_uri": "https://localhost:8080/",
          "height": 573
        },
        "outputId": "2d933d96-ebe5-4111-8f18-9084cd4eef6f"
      },
      "execution_count": 76,
      "outputs": [
        {
          "output_type": "display_data",
          "data": {
            "text/plain": [
              "<Figure size 432x288 with 1 Axes>"
            ],
            "image/png": "[encoded data removed]"
          },
          "metadata": {
            "needs_background": "light"
          }
        },
        {
          "output_type": "display_data",
          "data": {
            "text/plain": [
              "<Figure size 432x288 with 1 Axes>"
            ],
            "image/png": "[encoded data removed]"
          },
          "metadata": {
            "needs_background": "light"
          }
        }
      ]
    },
    {
      "cell_type": "code",
      "source": [
        "from sklearn.metrics import accuracy_score, confusion_matrix, classification_report\n",
        "\n",
        "# Confirm the model we get on validation set\n",
        "model.load_state_dict(torch.load('models/picked_model.pt'))\n",
        "\n",
        "# Output tensor for predicted labels\n",
        "total_output = torch.LongTensor([]).to(device)\n",
        "total_preds = torch.LongTensor([]).to(device)\n",
        "model.eval()\n",
        "with torch.no_grad():\n",
        "    for batch in valid_iterator:\n",
        "        batch.text = batch.text.to(device)\n",
        "        predictions = model(batch.text).squeeze(1).to(device)\n",
        "        batch.label = batch.label.type(torch.LongTensor).to(device)\n",
        "\n",
        "        # assign label according to the largest value\n",
        "        class_preds = nn.Softmax(dim=-1)(predictions)\n",
        "        class_preds = class_preds.max(-1)[1]\n",
        "\n",
        "        total_output = torch.cat((total_output, batch.label), 0)\n",
        "        total_preds = torch.cat((total_preds, class_preds), 0)\n",
        "\n",
        "print(classification_report(total_output.cpu(), total_preds.cpu()))"
      ],
      "metadata": {
        "id": "VjP6eVkaJjNV",
        "colab": {
          "base_uri": "https://localhost:8080/"
        },
        "outputId": "dc113cec-b3a6-4c5c-fc78-212361579baa"
      },
      "execution_count": 77,
      "outputs": [
        {
          "output_type": "stream",
          "name": "stdout",
          "text": [
            "              precision    recall  f1-score   support\n",
            "\n",
            "           0       0.62      0.57      0.59      1600\n",
            "           1       0.64      0.67      0.65      1600\n",
            "           2       0.69      0.71      0.70      1600\n",
            "\n",
            "    accuracy                           0.65      4800\n",
            "   macro avg       0.65      0.65      0.65      4800\n",
            "weighted avg       0.65      0.65      0.65      4800\n",
            "\n"
          ]
        }
      ]
    }
  ]
}