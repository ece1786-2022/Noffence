{
  "cells": [
    {
      "cell_type": "code",
      "execution_count": 1,
      "metadata": {
        "id": "MzQ-68C6DbRS"
      },
      "outputs": [],
      "source": [
        "import re\n",
        "import numpy as np\n",
        "import pandas as pd\n",
        "import seaborn as sns\n",
        "import matplotlib.pyplot as plt\n",
        "\n",
        "\n",
        "from sklearn.model_selection import train_test_split\n",
        "from sklearn.metrics import accuracy_score\n",
        "import torch.nn.functional as F\n",
        "from sklearn.metrics import accuracy_score, confusion_matrix, classification_report\n",
        "\n",
        "\n",
        "import torch\n",
        "import torchtext\n",
        "from torchtext import data\n",
        "import os"
      ]
    },
    {
      "cell_type": "code",
      "execution_count": 2,
      "metadata": {
        "colab": {
          "base_uri": "https://localhost:8080/"
        },
        "id": "OUuVyOkkFjWW",
        "outputId": "5541075f-f1e3-4546-b09e-8c2d3e7604ba"
      },
      "outputs": [
        {
          "name": "stdout",
          "output_type": "stream",
          "text": [
            "Mounted at /content/drive\n"
          ]
        }
      ],
      "source": [
        "from google.colab import drive\n",
        "drive.mount('/content/drive')"
      ]
    },
    {
      "cell_type": "code",
      "execution_count": 3,
      "metadata": {
        "colab": {
          "base_uri": "https://localhost:8080/"
        },
        "id": "GOS4g-bvFtYB",
        "outputId": "fb836d1a-a5df-49ad-c7c3-afd68c3b93c8"
      },
      "outputs": [
        {
          "name": "stdout",
          "output_type": "stream",
          "text": [
            "/content/drive/MyDrive/Colab Notebooks/ECE1786/Project\n"
          ]
        }
      ],
      "source": [
        "#os.chdir(\"/content/drive/MyDrive/ECE1786/Project\")\n",
        "%cd /content/drive/MyDrive/Colab Notebooks/ECE1786/Project"
      ]
    },
    {
      "cell_type": "code",
      "execution_count": 4,
      "metadata": {
        "colab": {
          "base_uri": "https://localhost:8080/"
        },
        "id": "QGx-bhuXGJ-k",
        "outputId": "9eb626d9-a55c-4852-9ffe-efa73fc7b179"
      },
      "outputs": [
        {
          "name": "stdout",
          "output_type": "stream",
          "text": [
            "baselines.ipynb  BERT_GRU.ipynb  \u001b[0m\u001b[01;34mdata\u001b[0m/                     GPT2.ipynb\n",
            "BERT_base.ipynb  CNN.ipynb       data_preprocessing.ipynb\n"
          ]
        }
      ],
      "source": [
        "ls"
      ]
    },
    {
      "cell_type": "markdown",
      "metadata": {
        "id": "0EC0z6DXJZJy"
      },
      "source": [
        "# Prepare the Data for Input\n",
        "we will use TorchText with our edited Dataset to prepare the model input data"
      ]
    },
    {
      "cell_type": "code",
      "execution_count": 5,
      "metadata": {
        "id": "UmF3sibKbZkq"
      },
      "outputs": [],
      "source": [
        "train = pd.read_csv('data/train.tsv', sep=\"\\t\")[['tweet', 'class']]\n",
        "val = pd.read_csv('data/validation.tsv', sep=\"\\t\")[['tweet', 'class']]\n",
        "test = pd.read_csv('data/test.tsv', sep=\"\\t\")[['tweet', 'class']]"
      ]
    },
    {
      "cell_type": "code",
      "execution_count": 6,
      "metadata": {
        "id": "9nJKU2-0KuCh"
      },
      "outputs": [],
      "source": [
        "class TextDataset(torch.utils.data.Dataset):\n",
        "    def __init__(self, vocab, split=\"train\"):\n",
        "        data_path = \"data\"\n",
        "        df = pd.read_csv(os.path.join(data_path, f\"{split}.tsv\"), sep=\"\\t\")\n",
        "\n",
        "        # X: torch.tensor (maxlen, batch_size), padded indices\n",
        "        # Y: torch.tensor of len N\n",
        "        X, Y = [], []\n",
        "        V = len(vocab.vectors)\n",
        "        for i, row in df.iterrows():\n",
        "            L = row[\"tweet\"].split()\n",
        "            X.append(torch.tensor([vocab.stoi.get(w, V-1) for w in L]))  # Use the last word in the vocab as the \"out-of-vocabulary\" token\n",
        "            Y.append(row[\"class\"])\n",
        "        self.X = X \n",
        "        self.Y = torch.tensor(Y)\n",
        "        \n",
        "    def __len__(self):\n",
        "        return len(self.X)\n",
        "\n",
        "    def __getitem__(self, idx):\n",
        "        return self.X[idx], self.Y[idx] \n",
        "    \n",
        "# my_collate_function prepares batches\n",
        "# it also pads each batch with zeroes.\n",
        "\n",
        "def my_collate_function(batch, device):\n",
        "    # Handle the padding here\n",
        "    # batch is approximately: [dataset[i] for i in range(0, batch_size)]\n",
        "    # Since the dataset[i]'s contents is defined in the __getitem__() above, this collate function \n",
        "    # should be set correspondingly.\n",
        "    # Also: collate_function just takes one argument. To pass in additional arguments (e.g., device), \n",
        "    # we need to wrap up an anonymous function (using lambda below)\n",
        "    batch_x, batch_y = [], []\n",
        "    max_len = 0\n",
        "    for x,y in batch:\n",
        "        batch_y.append(y)\n",
        "        max_len = max(max_len, len(x))\n",
        "    for x,y in batch:\n",
        "        x_p = torch.concat(\n",
        "            [x, torch.zeros(max_len - len(x))]\n",
        "        )\n",
        "        batch_x.append(x_p)\n",
        "    return torch.stack(batch_x).t().int().to(device), torch.tensor(batch_y).to(device)"
      ]
    },
    {
      "cell_type": "code",
      "execution_count": 7,
      "metadata": {
        "id": "HiBc_fhoXfqK"
      },
      "outputs": [],
      "source": [
        "batch_size_num = 16\n",
        "device = torch.device('cuda' if torch.cuda.is_available() else 'cpu')\n",
        "glove = torchtext.vocab.GloVe(name=\"6B\",dim=100) # embedding size = 100\n",
        "                                \n",
        "train_dataset = TextDataset(glove, \"train\")\n",
        "val_dataset = TextDataset(glove, \"validation\")\n",
        "test_dataset = TextDataset(glove, \"test\")\n",
        "    \n",
        "train_dataloader = torch.utils.data.DataLoader(\n",
        "  dataset=train_dataset, \n",
        "  batch_size=batch_size_num, \n",
        "  shuffle=False, \n",
        "  collate_fn=lambda batch: my_collate_function(batch, device))\n",
        "\n",
        "validation_dataloader = torch.utils.data.DataLoader(\n",
        "  dataset=val_dataset, \n",
        "  batch_size=batch_size_num, \n",
        "  shuffle=False, \n",
        "  collate_fn=lambda batch: my_collate_function(batch, device))\n",
        "\n",
        "test_dataloader = torch.utils.data.DataLoader(\n",
        "  dataset=test_dataset,\n",
        "  batch_size=len(test_dataset),\n",
        "  shuffle=False,\n",
        "  collate_fn=lambda batch: my_collate_function(batch, device))\n",
        "\n",
        "# for text, label in train_dataloader:\n",
        "#   print(text)\n",
        "#   print(label)"
      ]
    },
    {
      "cell_type": "markdown",
      "metadata": {
        "id": "e99_n7GgMwvh"
      },
      "source": [
        "# Define the models & training"
      ]
    },
    {
      "cell_type": "markdown",
      "metadata": {
        "id": "xHaW3bmVMzkU"
      },
      "source": [
        "## ConvolutionalNeural Network + Words Embeddings Model\n"
      ]
    },
    {
      "cell_type": "code",
      "execution_count": 8,
      "metadata": {
        "id": "W2QlVXTPlMe4"
      },
      "outputs": [],
      "source": [
        "class CNNModel(torch.nn.Module):\n",
        "    def __init__(self, vocab, k1=3, n1=25, k2=5, n2=25, freeze=True):\n",
        "        super().__init__()\n",
        "        self.n1 = n1\n",
        "        self.n2 = n2\n",
        "        self.embedding = torch.nn.Embedding.from_pretrained(vocab.vectors,freeze=freeze)\n",
        "        self.embedding_size = vocab.vectors.size()[1]\n",
        "        self.conv1 = torch.nn.Conv2d(in_channels=1, out_channels=n1, kernel_size=(k1, self.embedding_size), bias=True)\n",
        "        self.conv2 = torch.nn.Conv2d(in_channels=1, out_channels=n2, kernel_size=(k2, self.embedding_size), bias=True)\n",
        "        self.linear = torch.nn.Linear(n1 + n2, 3)\n",
        "        \n",
        "    def forward(self, x):\n",
        "\n",
        "\n",
        "        x_embed  = self.embedding(x)\n",
        "        x_reshaped = x_embed.permute(1, 0, 2).unsqueeze(1)\n",
        "\n",
        "        pool = torch.nn.MaxPool2d(1, x_embed.shape[0] - 1)\n",
        "        activation = torch.nn.Sigmoid()\n",
        "\n",
        "        x_conv1 = F.relu(self.conv1(x_reshaped)).squeeze(3)\n",
        "        x_conv2 = F.relu(self.conv2(x_reshaped)).squeeze(3)\n",
        "\n",
        "        x1 = F.max_pool1d(x_conv1, kernel_size=x_conv1.shape[2])\n",
        "        x2 = F.max_pool1d(x_conv2, kernel_size=x_conv2.shape[2])\n",
        "        x_cat = torch.cat((x1, x2), 1).squeeze()\n",
        "        x_linear = x_cat.view(-1, self.n1 + self.n2)\n",
        "        output = self.linear(x_cat)\n",
        "        output_softmax = torch.softmax(output, 0)\n",
        "\n",
        "        return output_softmax\n"
      ]
    },
    {
      "cell_type": "code",
      "execution_count": 9,
      "metadata": {
        "id": "LowhyHqdbcpl"
      },
      "outputs": [],
      "source": [
        "def train_model(glove, train_dataloader, validation_dataloader, learning_rate, epochs, batch_size, k1=3, n1=25, k2=5, n2=25, freeze=True):\n",
        "\n",
        "    # Instantiate the model & set up the optimizer\n",
        "    # model = BaselineModel(embedding_size, glove)\n",
        "    device = torch.device('cuda' if torch.cuda.is_available() else 'cpu')\n",
        "    print (\"Using device:\", device)\n",
        "\n",
        "    model = CNNModel(glove, k1=k1, n1=n1, k2=k2, n2=n2, freeze=freeze)\n",
        "    model.to(device)\n",
        "    criterion = torch.nn.CrossEntropyLoss() # Cross Entropy [0.2 0.7 0.1] [0, 1, 0]\n",
        "    optimizer = torch.optim.Adam(model.parameters(), lr=learning_rate)\n",
        "\n",
        "    train_losses, val_losses, train_acc, val_acc = [], [], [], []\n",
        "\n",
        "    for epoch in range(epochs):\n",
        "        train_loss, val_loss, train_acc_count_epoch, val_acc_count_epoch = 0, 0, 0, 0\n",
        "\n",
        "        for text, label in train_dataloader:\n",
        "            # forward\n",
        "            output = model(text) \n",
        "            loss = criterion(output.squeeze(), label.squeeze())\n",
        "            # output = torch.softmax(output, 1)\n",
        "            output = torch.max(output, 1).indices\n",
        "            train_acc_count_epoch += torch.sum(output == label).item()\n",
        "            \n",
        "            # backward\n",
        "            optimizer.zero_grad()\n",
        "            loss.backward()\n",
        "            optimizer.step()\n",
        "            train_loss += loss.item()\n",
        "        \n",
        "        mean_train_loss = train_loss / len(train_dataloader)\n",
        "        mean_train_acc = train_acc_count_epoch / (len(train_dataloader) * batch_size)\n",
        "\n",
        "        with torch.no_grad():\n",
        "            for text_val, label_val in validation_dataloader:\n",
        "                output_val = model(text_val) \n",
        "                loss_val = criterion(output_val.squeeze(), label_val.squeeze())\n",
        "                val_loss += loss_val.item()\n",
        "\n",
        "                output_val = torch.max(output_val, 1).indices\n",
        "                val_acc_count_epoch += torch.sum(output_val == label_val).item()\n",
        "\n",
        "        mean_val_loss = val_loss / len(validation_dataloader)\n",
        "        mean_val_acc = val_acc_count_epoch / (len(validation_dataloader) * batch_size)\n",
        "\n",
        "\n",
        "        if epoch==0 or (epoch+1) % 10 == 0 or epoch == epochs-1:\n",
        "            print(' Epoch {} \\ttraining loss={:.7f} \\tvalidation loss={:.7f}'.format(epoch+1,mean_train_loss,mean_val_loss))\n",
        "            print('     \\t\\ttraining accuracy={:.2f}% \\tvalidation accuracy={:.2f}%'.format(mean_train_acc*100, mean_val_acc*100))\n",
        "\n",
        "        train_losses.append(mean_train_loss)\n",
        "        val_losses.append(mean_val_loss)\n",
        "        train_acc.append(mean_train_acc)\n",
        "        val_acc.append(mean_val_acc)\n",
        "\n",
        "\n",
        "    return model, train_losses, val_losses, train_acc, val_acc\n",
        "  "
      ]
    },
    {
      "cell_type": "code",
      "execution_count": 10,
      "metadata": {
        "colab": {
          "base_uri": "https://localhost:8080/"
        },
        "id": "6UqoInufxUL2",
        "outputId": "1b0445ab-aff8-4425-8f58-f83831a3207d"
      },
      "outputs": [
        {
          "name": "stdout",
          "output_type": "stream",
          "text": [
            "************************* k1, k2, n = 3 5 25 *************************\n",
            "Using device: cuda\n",
            " Epoch 1 \ttraining loss=1.0557557 \tvalidation loss=1.0138161\n",
            "     \t\ttraining accuracy=66.94% \tvalidation accuracy=76.67%\n",
            " Epoch 10 \ttraining loss=0.9884492 \tvalidation loss=0.9925590\n",
            "     \t\ttraining accuracy=85.82% \tvalidation accuracy=85.19%\n",
            " Epoch 20 \ttraining loss=0.9851116 \tvalidation loss=0.9914468\n",
            "     \t\ttraining accuracy=87.01% \tvalidation accuracy=85.96%\n",
            " Epoch 30 \ttraining loss=0.9836368 \tvalidation loss=0.9909600\n",
            "     \t\ttraining accuracy=87.55% \tvalidation accuracy=86.33%\n",
            " Epoch 40 \ttraining loss=0.9827685 \tvalidation loss=0.9908487\n",
            "     \t\ttraining accuracy=87.99% \tvalidation accuracy=86.69%\n",
            " Epoch 50 \ttraining loss=0.9822370 \tvalidation loss=0.9909637\n",
            "     \t\ttraining accuracy=88.15% \tvalidation accuracy=86.85%\n",
            "************************* k1, k2, n = 3 5 35 *************************\n",
            "Using device: cuda\n",
            " Epoch 1 \ttraining loss=1.0504897 \tvalidation loss=1.0094102\n",
            "     \t\ttraining accuracy=68.05% \tvalidation accuracy=77.79%\n",
            " Epoch 10 \ttraining loss=0.9871636 \tvalidation loss=0.9913600\n",
            "     \t\ttraining accuracy=86.98% \tvalidation accuracy=85.81%\n",
            " Epoch 20 \ttraining loss=0.9841822 \tvalidation loss=0.9905669\n",
            "     \t\ttraining accuracy=88.11% \tvalidation accuracy=86.71%\n",
            " Epoch 30 \ttraining loss=0.9828441 \tvalidation loss=0.9903499\n",
            "     \t\ttraining accuracy=88.53% \tvalidation accuracy=87.15%\n",
            " Epoch 40 \ttraining loss=0.9820455 \tvalidation loss=0.9904031\n",
            "     \t\ttraining accuracy=88.69% \tvalidation accuracy=87.31%\n",
            " Epoch 50 \ttraining loss=0.9815508 \tvalidation loss=0.9906059\n",
            "     \t\ttraining accuracy=88.83% \tvalidation accuracy=87.19%\n",
            "************************* k1, k2, n = 3 5 45 *************************\n",
            "Using device: cuda\n",
            " Epoch 1 \ttraining loss=1.0469438 \tvalidation loss=1.0066928\n",
            "     \t\ttraining accuracy=69.34% \tvalidation accuracy=77.83%\n",
            " Epoch 10 \ttraining loss=0.9869082 \tvalidation loss=0.9916269\n",
            "     \t\ttraining accuracy=87.10% \tvalidation accuracy=86.10%\n",
            " Epoch 20 \ttraining loss=0.9837518 \tvalidation loss=0.9907058\n",
            "     \t\ttraining accuracy=88.22% \tvalidation accuracy=86.98%\n",
            " Epoch 30 \ttraining loss=0.9823900 \tvalidation loss=0.9904616\n",
            "     \t\ttraining accuracy=88.68% \tvalidation accuracy=87.52%\n",
            " Epoch 40 \ttraining loss=0.9816330 \tvalidation loss=0.9905773\n",
            "     \t\ttraining accuracy=88.81% \tvalidation accuracy=87.42%\n",
            " Epoch 50 \ttraining loss=0.9811832 \tvalidation loss=0.9907288\n",
            "     \t\ttraining accuracy=89.02% \tvalidation accuracy=87.50%\n",
            "************************* k1, k2, n = 4 5 25 *************************\n",
            "Using device: cuda\n",
            " Epoch 1 \ttraining loss=1.0576776 \tvalidation loss=1.0156931\n",
            "     \t\ttraining accuracy=66.15% \tvalidation accuracy=75.56%\n",
            " Epoch 10 \ttraining loss=0.9882464 \tvalidation loss=0.9923053\n",
            "     \t\ttraining accuracy=86.40% \tvalidation accuracy=85.62%\n",
            " Epoch 20 \ttraining loss=0.9849217 \tvalidation loss=0.9912259\n",
            "     \t\ttraining accuracy=87.60% \tvalidation accuracy=86.60%\n",
            " Epoch 30 \ttraining loss=0.9834316 \tvalidation loss=0.9909978\n",
            "     \t\ttraining accuracy=88.23% \tvalidation accuracy=86.58%\n",
            " Epoch 40 \ttraining loss=0.9825257 \tvalidation loss=0.9909223\n",
            "     \t\ttraining accuracy=88.49% \tvalidation accuracy=86.75%\n",
            " Epoch 50 \ttraining loss=0.9819417 \tvalidation loss=0.9909088\n",
            "     \t\ttraining accuracy=88.67% \tvalidation accuracy=86.60%\n",
            "************************* k1, k2, n = 4 5 35 *************************\n",
            "Using device: cuda\n",
            " Epoch 1 \ttraining loss=1.0502863 \tvalidation loss=1.0116525\n",
            "     \t\ttraining accuracy=66.31% \tvalidation accuracy=75.56%\n",
            " Epoch 10 \ttraining loss=0.9873088 \tvalidation loss=0.9918513\n",
            "     \t\ttraining accuracy=86.39% \tvalidation accuracy=85.48%\n",
            " Epoch 20 \ttraining loss=0.9840950 \tvalidation loss=0.9907811\n",
            "     \t\ttraining accuracy=87.51% \tvalidation accuracy=86.65%\n",
            " Epoch 30 \ttraining loss=0.9827096 \tvalidation loss=0.9905575\n",
            "     \t\ttraining accuracy=87.92% \tvalidation accuracy=86.79%\n",
            " Epoch 40 \ttraining loss=0.9819432 \tvalidation loss=0.9907444\n",
            "     \t\ttraining accuracy=88.33% \tvalidation accuracy=87.00%\n",
            " Epoch 50 \ttraining loss=0.9814572 \tvalidation loss=0.9909869\n",
            "     \t\ttraining accuracy=88.65% \tvalidation accuracy=87.02%\n",
            "************************* k1, k2, n = 4 5 45 *************************\n",
            "Using device: cuda\n",
            " Epoch 1 \ttraining loss=1.0445605 \tvalidation loss=1.0061194\n",
            "     \t\ttraining accuracy=70.15% \tvalidation accuracy=78.21%\n",
            " Epoch 10 \ttraining loss=0.9865551 \tvalidation loss=0.9912925\n",
            "     \t\ttraining accuracy=87.24% \tvalidation accuracy=86.17%\n",
            " Epoch 20 \ttraining loss=0.9835672 \tvalidation loss=0.9904727\n",
            "     \t\ttraining accuracy=88.27% \tvalidation accuracy=86.79%\n",
            " Epoch 30 \ttraining loss=0.9821934 \tvalidation loss=0.9901859\n",
            "     \t\ttraining accuracy=88.70% \tvalidation accuracy=86.94%\n",
            " Epoch 40 \ttraining loss=0.9814222 \tvalidation loss=0.9903629\n",
            "     \t\ttraining accuracy=88.96% \tvalidation accuracy=87.33%\n",
            " Epoch 50 \ttraining loss=0.9810481 \tvalidation loss=0.9908046\n",
            "     \t\ttraining accuracy=89.04% \tvalidation accuracy=87.52%\n",
            "************************* k1, k2, n = 3 6 25 *************************\n",
            "Using device: cuda\n",
            " Epoch 1 \ttraining loss=1.0593978 \tvalidation loss=1.0182982\n",
            "     \t\ttraining accuracy=63.19% \tvalidation accuracy=74.62%\n",
            " Epoch 10 \ttraining loss=0.9881030 \tvalidation loss=0.9921879\n",
            "     \t\ttraining accuracy=86.09% \tvalidation accuracy=85.00%\n",
            " Epoch 20 \ttraining loss=0.9848507 \tvalidation loss=0.9912822\n",
            "     \t\ttraining accuracy=87.56% \tvalidation accuracy=86.00%\n",
            " Epoch 30 \ttraining loss=0.9833852 \tvalidation loss=0.9910544\n",
            "     \t\ttraining accuracy=88.12% \tvalidation accuracy=86.29%\n",
            " Epoch 40 \ttraining loss=0.9825658 \tvalidation loss=0.9909661\n",
            "     \t\ttraining accuracy=88.49% \tvalidation accuracy=86.46%\n",
            " Epoch 50 \ttraining loss=0.9820360 \tvalidation loss=0.9910084\n",
            "     \t\ttraining accuracy=88.71% \tvalidation accuracy=86.65%\n",
            "************************* k1, k2, n = 3 6 35 *************************\n",
            "Using device: cuda\n",
            " Epoch 1 \ttraining loss=1.0517139 \tvalidation loss=1.0098314\n",
            "     \t\ttraining accuracy=68.07% \tvalidation accuracy=77.44%\n",
            " Epoch 10 \ttraining loss=0.9873125 \tvalidation loss=0.9917763\n",
            "     \t\ttraining accuracy=86.35% \tvalidation accuracy=85.56%\n",
            " Epoch 20 \ttraining loss=0.9841005 \tvalidation loss=0.9912323\n",
            "     \t\ttraining accuracy=87.40% \tvalidation accuracy=86.25%\n",
            " Epoch 30 \ttraining loss=0.9826995 \tvalidation loss=0.9912437\n",
            "     \t\ttraining accuracy=87.88% \tvalidation accuracy=86.69%\n",
            " Epoch 40 \ttraining loss=0.9818931 \tvalidation loss=0.9911815\n",
            "     \t\ttraining accuracy=88.10% \tvalidation accuracy=86.69%\n",
            " Epoch 50 \ttraining loss=0.9814172 \tvalidation loss=0.9913440\n",
            "     \t\ttraining accuracy=88.29% \tvalidation accuracy=86.81%\n",
            "************************* k1, k2, n = 3 6 45 *************************\n",
            "Using device: cuda\n",
            " Epoch 1 \ttraining loss=1.0438471 \tvalidation loss=1.0062744\n",
            "     \t\ttraining accuracy=68.99% \tvalidation accuracy=77.12%\n",
            " Epoch 10 \ttraining loss=0.9867371 \tvalidation loss=0.9913964\n",
            "     \t\ttraining accuracy=86.82% \tvalidation accuracy=85.79%\n",
            " Epoch 20 \ttraining loss=0.9835673 \tvalidation loss=0.9906567\n",
            "     \t\ttraining accuracy=88.11% \tvalidation accuracy=86.92%\n",
            " Epoch 30 \ttraining loss=0.9821803 \tvalidation loss=0.9906494\n",
            "     \t\ttraining accuracy=88.67% \tvalidation accuracy=86.96%\n",
            " Epoch 40 \ttraining loss=0.9814103 \tvalidation loss=0.9908202\n",
            "     \t\ttraining accuracy=89.11% \tvalidation accuracy=87.23%\n",
            " Epoch 50 \ttraining loss=0.9809981 \tvalidation loss=0.9910081\n",
            "     \t\ttraining accuracy=89.27% \tvalidation accuracy=87.42%\n",
            "************************* k1, k2, n = 4 6 25 *************************\n",
            "Using device: cuda\n",
            " Epoch 1 \ttraining loss=1.0523988 \tvalidation loss=1.0120724\n",
            "     \t\ttraining accuracy=66.18% \tvalidation accuracy=75.42%\n",
            " Epoch 10 \ttraining loss=0.9878340 \tvalidation loss=0.9920146\n",
            "     \t\ttraining accuracy=86.34% \tvalidation accuracy=85.27%\n",
            " Epoch 20 \ttraining loss=0.9846904 \tvalidation loss=0.9912515\n",
            "     \t\ttraining accuracy=87.78% \tvalidation accuracy=86.38%\n",
            " Epoch 30 \ttraining loss=0.9833062 \tvalidation loss=0.9908338\n",
            "     \t\ttraining accuracy=88.35% \tvalidation accuracy=86.71%\n",
            " Epoch 40 \ttraining loss=0.9824029 \tvalidation loss=0.9906558\n",
            "     \t\ttraining accuracy=88.69% \tvalidation accuracy=87.04%\n",
            " Epoch 50 \ttraining loss=0.9818197 \tvalidation loss=0.9908912\n",
            "     \t\ttraining accuracy=88.93% \tvalidation accuracy=87.17%\n",
            "************************* k1, k2, n = 4 6 35 *************************\n",
            "Using device: cuda\n",
            " Epoch 1 \ttraining loss=1.0479517 \tvalidation loss=1.0088814\n",
            "     \t\ttraining accuracy=68.08% \tvalidation accuracy=76.73%\n",
            " Epoch 10 \ttraining loss=0.9870915 \tvalidation loss=0.9918190\n",
            "     \t\ttraining accuracy=86.47% \tvalidation accuracy=85.38%\n",
            " Epoch 20 \ttraining loss=0.9838085 \tvalidation loss=0.9910148\n",
            "     \t\ttraining accuracy=87.72% \tvalidation accuracy=86.38%\n",
            " Epoch 30 \ttraining loss=0.9824533 \tvalidation loss=0.9910158\n",
            "     \t\ttraining accuracy=88.19% \tvalidation accuracy=86.77%\n",
            " Epoch 40 \ttraining loss=0.9816906 \tvalidation loss=0.9910173\n",
            "     \t\ttraining accuracy=88.50% \tvalidation accuracy=87.04%\n",
            " Epoch 50 \ttraining loss=0.9812542 \tvalidation loss=0.9910655\n",
            "     \t\ttraining accuracy=88.80% \tvalidation accuracy=87.29%\n",
            "************************* k1, k2, n = 4 6 45 *************************\n",
            "Using device: cuda\n",
            " Epoch 1 \ttraining loss=1.0466914 \tvalidation loss=1.0072535\n",
            "     \t\ttraining accuracy=67.28% \tvalidation accuracy=77.46%\n",
            " Epoch 10 \ttraining loss=0.9865879 \tvalidation loss=0.9917345\n",
            "     \t\ttraining accuracy=86.39% \tvalidation accuracy=85.15%\n",
            " Epoch 20 \ttraining loss=0.9834105 \tvalidation loss=0.9909837\n",
            "     \t\ttraining accuracy=87.77% \tvalidation accuracy=86.19%\n",
            " Epoch 30 \ttraining loss=0.9820412 \tvalidation loss=0.9908905\n",
            "     \t\ttraining accuracy=88.37% \tvalidation accuracy=86.60%\n",
            " Epoch 40 \ttraining loss=0.9813098 \tvalidation loss=0.9910933\n",
            "     \t\ttraining accuracy=88.65% \tvalidation accuracy=87.10%\n",
            " Epoch 50 \ttraining loss=0.9809531 \tvalidation loss=0.9911356\n",
            "     \t\ttraining accuracy=88.91% \tvalidation accuracy=87.33%\n"
          ]
        }
      ],
      "source": [
        "\n",
        "for k1,k2 in [[3,5],[4,5],[3,6],[4,6]]:\n",
        "    for n in range(25,46,10):\n",
        "        print(\"*\"*25,\"k1, k2, n =\",k1,k2,n,\"*\"*25)\n",
        "        model, train_losses, val_losses, train_acc, val_acc = train_model(glove, train_dataloader, validation_dataloader, 1e-4, 50, batch_size_num\n",
        "                                                                        , k1=k1, n1=n, k2=k2, n2=n, freeze=True)"
      ]
    },
    {
      "cell_type": "code",
      "execution_count": 11,
      "metadata": {
        "colab": {
          "base_uri": "https://localhost:8080/"
        },
        "id": "18B4T8leIIJP",
        "outputId": "e269ce7d-b7c0-4184-f09c-c37831119acf"
      },
      "outputs": [
        {
          "name": "stdout",
          "output_type": "stream",
          "text": [
            "Using device: cuda\n",
            " Epoch 1 \ttraining loss=1.0856354 \tvalidation loss=1.0666379\n",
            "     \t\ttraining accuracy=60.11% \tvalidation accuracy=68.58%\n",
            " Epoch 10 \ttraining loss=0.9930506 \tvalidation loss=0.9945173\n",
            "     \t\ttraining accuracy=84.51% \tvalidation accuracy=83.92%\n",
            " Epoch 20 \ttraining loss=0.9885848 \tvalidation loss=0.9924298\n",
            "     \t\ttraining accuracy=86.46% \tvalidation accuracy=85.67%\n",
            " Epoch 30 \ttraining loss=0.9865147 \tvalidation loss=0.9915894\n",
            "     \t\ttraining accuracy=87.38% \tvalidation accuracy=86.17%\n",
            " Epoch 40 \ttraining loss=0.9852273 \tvalidation loss=0.9911472\n",
            "     \t\ttraining accuracy=87.79% \tvalidation accuracy=86.69%\n",
            " Epoch 50 \ttraining loss=0.9843405 \tvalidation loss=0.9908561\n",
            "     \t\ttraining accuracy=88.05% \tvalidation accuracy=86.94%\n",
            " Epoch 60 \ttraining loss=0.9836668 \tvalidation loss=0.9905700\n",
            "     \t\ttraining accuracy=88.28% \tvalidation accuracy=87.35%\n",
            " Epoch 70 \ttraining loss=0.9831274 \tvalidation loss=0.9903573\n",
            "     \t\ttraining accuracy=88.48% \tvalidation accuracy=87.38%\n",
            " Epoch 80 \ttraining loss=0.9826891 \tvalidation loss=0.9902075\n",
            "     \t\ttraining accuracy=88.62% \tvalidation accuracy=87.44%\n",
            " Epoch 90 \ttraining loss=0.9822897 \tvalidation loss=0.9901015\n",
            "     \t\ttraining accuracy=88.76% \tvalidation accuracy=87.50%\n",
            " Epoch 100 \ttraining loss=0.9819679 \tvalidation loss=0.9900062\n",
            "     \t\ttraining accuracy=88.91% \tvalidation accuracy=87.60%\n",
            " Epoch 110 \ttraining loss=0.9817048 \tvalidation loss=0.9899620\n",
            "     \t\ttraining accuracy=89.03% \tvalidation accuracy=87.65%\n",
            " Epoch 120 \ttraining loss=0.9814866 \tvalidation loss=0.9899656\n",
            "     \t\ttraining accuracy=89.10% \tvalidation accuracy=87.65%\n",
            " Epoch 130 \ttraining loss=0.9813008 \tvalidation loss=0.9899942\n",
            "     \t\ttraining accuracy=89.18% \tvalidation accuracy=87.62%\n",
            " Epoch 140 \ttraining loss=0.9811422 \tvalidation loss=0.9900835\n",
            "     \t\ttraining accuracy=89.26% \tvalidation accuracy=87.60%\n",
            " Epoch 150 \ttraining loss=0.9810056 \tvalidation loss=0.9901958\n",
            "     \t\ttraining accuracy=89.32% \tvalidation accuracy=87.52%\n"
          ]
        }
      ],
      "source": [
        "epochs = 150\n",
        "learning_rate = 3e-5\n",
        "torch.manual_seed(2) # fix seed\n",
        "\n",
        "\n",
        "model, train_losses, val_losses, train_acc, val_acc = train_model(glove, train_dataloader, validation_dataloader, learning_rate, epochs, batch_size_num\n",
        "                                                                  , k1=3, n1=45, k2=5, n2=45, freeze=True)\n"
      ]
    },
    {
      "cell_type": "code",
      "execution_count": 16,
      "metadata": {
        "id": "AS65GWs4P33B"
      },
      "outputs": [],
      "source": [
        "torch.save(model.state_dict(), 'CNN.pt')"
      ]
    },
    {
      "cell_type": "code",
      "execution_count": 12,
      "metadata": {
        "colab": {
          "base_uri": "https://localhost:8080/",
          "height": 573
        },
        "id": "Rd6kcfc1Wqm-",
        "outputId": "c3c15b68-3325-40b1-ec1f-958d4a0a33cb"
      },
      "outputs": [
        {
          "data": {
            "image/png": "[encoded data removed]",
            "text/plain": [
              "<Figure size 432x288 with 1 Axes>"
            ]
          },
          "metadata": {
            "needs_background": "light"
          },
          "output_type": "display_data"
        },
        {
          "data": {
            "image/png": "[encoded data removed]",
            "text/plain": [
              "<Figure size 432x288 with 1 Axes>"
            ]
          },
          "metadata": {
            "needs_background": "light"
          },
          "output_type": "display_data"
        }
      ],
      "source": [
        "fig = plt.figure()\n",
        "plt.plot(range(1, epochs+1), train_losses, label ='training loss')\n",
        "plt.plot(range(1, epochs+1), val_losses, label ='validation loss')\n",
        "plt.title(\"Plot for training and validation loss\")\n",
        "plt.xlabel(\"number of epochs\")\n",
        "plt.ylabel(\"loss\")\n",
        "plt.legend()\n",
        "plt.show()\n",
        "\n",
        "fig = plt.figure()\n",
        "plt.plot(range(1, epochs+1), train_acc, label ='training acc')\n",
        "plt.plot(range(1, epochs+1), val_acc, label ='validation acc')\n",
        "plt.title(\"Plot for training and validation accuracy\")\n",
        "plt.xlabel(\"number of epochs\")\n",
        "plt.ylabel(\"accuracy\")\n",
        "plt.legend()\n",
        "plt.show()"
      ]
    },
    {
      "cell_type": "code",
      "execution_count": 17,
      "metadata": {
        "colab": {
          "base_uri": "https://localhost:8080/"
        },
        "id": "tgD_UZSxWPE7",
        "outputId": "6071117f-bbeb-4d02-a232-a698070f44c4"
      },
      "outputs": [
        {
          "data": {
            "text/plain": [
              "<All keys matched successfully>"
            ]
          },
          "execution_count": 17,
          "metadata": {},
          "output_type": "execute_result"
        }
      ],
      "source": [
        "model.load_state_dict(torch.load('CNN.pt'))"
      ]
    },
    {
      "cell_type": "code",
      "execution_count": 20,
      "metadata": {
        "id": "eInez1JLMZd5"
      },
      "outputs": [],
      "source": [
        "for text_test, label_test in test_dataloader:\n",
        "    output_test = model(text_test) \n",
        "    output_test_softmax = torch.softmax(output_test, 1)\n",
        "    label_pred = torch.max(output_test_softmax, 1).indices\n",
        "\n"
      ]
    },
    {
      "cell_type": "code",
      "execution_count": 22,
      "metadata": {
        "colab": {
          "base_uri": "https://localhost:8080/"
        },
        "id": "TNR-SKVgI63i",
        "outputId": "31c9740e-e97c-487c-9fff-da1096a28d20"
      },
      "outputs": [
        {
          "name": "stdout",
          "output_type": "stream",
          "text": [
            "              precision    recall  f1-score   support\n",
            "\n",
            "           0       0.86      0.90      0.88      2000\n",
            "           1       0.93      0.83      0.88      2000\n",
            "           2       0.88      0.94      0.91      2000\n",
            "\n",
            "    accuracy                           0.89      6000\n",
            "   macro avg       0.89      0.89      0.89      6000\n",
            "weighted avg       0.89      0.89      0.89      6000\n",
            "\n"
          ]
        }
      ],
      "source": [
        "print(classification_report(label_test.cpu(),label_pred.cpu()))"
      ]
    },
    {
      "cell_type": "code",
      "execution_count": 21,
      "metadata": {
        "colab": {
          "base_uri": "https://localhost:8080/",
          "height": 265
        },
        "id": "Oga2gN6QI5zb",
        "outputId": "932df416-2670-4d56-9689-1602919d9eb9"
      },
      "outputs": [
        {
          "data": {
            "image/png": "[encoded data removed]",
            "text/plain": [
              "<Figure size 432x288 with 2 Axes>"
            ]
          },
          "metadata": {
            "needs_background": "light"
          },
          "output_type": "display_data"
        }
      ],
      "source": [
        "sns.heatmap(confusion_matrix(label_test.cpu(),label_pred.cpu()), annot=True, fmt='.0f', cmap=plt.cm.Blues)\n",
        "plt.show()"
      ]
    }
  ],
  "metadata": {
    "accelerator": "GPU",
    "colab": {
      "provenance": []
    },
    "gpuClass": "standard",
    "kernelspec": {
      "display_name": "Python 3.9.13 ('base')",
      "language": "python",
      "name": "python3"
    },
    "language_info": {
      "name": "python",
      "version": "3.9.13"
    },
    "vscode": {
      "interpreter": {
        "hash": "49cb93f377a7abe7414b7b0f21fb3017538004a126cf690fb524202736b7fb92"
      }
    }
  },
  "nbformat": 4,
  "nbformat_minor": 0
}
