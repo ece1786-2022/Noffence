{
  "nbformat": 4,
  "nbformat_minor": 0,
  "metadata": {
    "colab": {
      "provenance": []
    },
    "kernelspec": {
      "name": "python3",
      "display_name": "Python 3"
    },
    "language_info": {
      "name": "python"
    },
    "gpuClass": "standard",
    "accelerator": "GPU"
  },
  "cells": [
    {
      "cell_type": "code",
      "source": [
        "import re\n",
        "import numpy as np\n",
        "import pandas as pd\n",
        "import seaborn as sns\n",
        "import matplotlib.pyplot as plt\n",
        "\n",
        "\n",
        "from sklearn.model_selection import train_test_split\n",
        "from sklearn.metrics import accuracy_score\n",
        "import torch.nn.functional as F\n",
        "from sklearn.metrics import accuracy_score, confusion_matrix, classification_report\n",
        "\n",
        "\n",
        "import torch\n",
        "import torchtext\n",
        "from torchtext import data\n",
        "import os"
      ],
      "metadata": {
        "id": "MzQ-68C6DbRS"
      },
      "execution_count": 1,
      "outputs": []
    },
    {
      "cell_type": "code",
      "source": [
        "from google.colab import drive\n",
        "drive.mount('/content/drive')"
      ],
      "metadata": {
        "colab": {
          "base_uri": "https://localhost:8080/"
        },
        "id": "OUuVyOkkFjWW",
        "outputId": "208ef761-29d7-4900-dbf0-09b677b530af"
      },
      "execution_count": 2,
      "outputs": [
        {
          "output_type": "stream",
          "name": "stdout",
          "text": [
            "Mounted at /content/drive\n"
          ]
        }
      ]
    },
    {
      "cell_type": "code",
      "source": [
        "#os.chdir(\"/content/drive/MyDrive/ECE1786/Project\")\n",
        "%cd /content/drive/MyDrive/Colab Notebooks/ECE1786/Project"
      ],
      "metadata": {
        "id": "GOS4g-bvFtYB",
        "colab": {
          "base_uri": "https://localhost:8080/"
        },
        "outputId": "f0bc969f-c140-4d9a-ee32-ef49db5214eb"
      },
      "execution_count": 3,
      "outputs": [
        {
          "output_type": "stream",
          "name": "stdout",
          "text": [
            "/content/drive/MyDrive/Colab Notebooks/ECE1786/Project\n"
          ]
        }
      ]
    },
    {
      "cell_type": "code",
      "source": [
        "ls"
      ],
      "metadata": {
        "colab": {
          "base_uri": "https://localhost:8080/"
        },
        "id": "QGx-bhuXGJ-k",
        "outputId": "f389111c-027a-4310-e555-c5321371ae52"
      },
      "execution_count": 4,
      "outputs": [
        {
          "output_type": "stream",
          "name": "stdout",
          "text": [
            "baselines.ipynb  BERT_GRU.ipynb  \u001b[0m\u001b[01;34mdata\u001b[0m/                     GPT2.ipynb\n",
            "BERT_base.ipynb  CNN.ipynb       data_preprocessing.ipynb\n"
          ]
        }
      ]
    },
    {
      "cell_type": "markdown",
      "source": [
        "# Prepare the Data for Input\n",
        "we will use TorchText with our edited Dataset to prepare the model input data"
      ],
      "metadata": {
        "id": "0EC0z6DXJZJy"
      }
    },
    {
      "cell_type": "code",
      "source": [
        "train = pd.read_csv('data/train.tsv', sep=\"\\t\")[['tweet', 'class']]\n",
        "val = pd.read_csv('data/validation.tsv', sep=\"\\t\")[['tweet', 'class']]\n",
        "test = pd.read_csv('data/test.tsv', sep=\"\\t\")[['tweet', 'class']]"
      ],
      "metadata": {
        "id": "UmF3sibKbZkq"
      },
      "execution_count": 5,
      "outputs": []
    },
    {
      "cell_type": "code",
      "source": [
        "class TextDataset(torch.utils.data.Dataset):\n",
        "    def __init__(self, vocab, split=\"train\"):\n",
        "        data_path = \"data\"\n",
        "        df = pd.read_csv(os.path.join(data_path, f\"{split}.tsv\"), sep=\"\\t\")\n",
        "\n",
        "        # X: torch.tensor (maxlen, batch_size), padded indices\n",
        "        # Y: torch.tensor of len N\n",
        "        X, Y = [], []\n",
        "        V = len(vocab.vectors)\n",
        "        for i, row in df.iterrows():\n",
        "            L = row[\"tweet\"].split()\n",
        "            X.append(torch.tensor([vocab.stoi.get(w, V-1) for w in L]))  # Use the last word in the vocab as the \"out-of-vocabulary\" token\n",
        "            Y.append(row[\"class\"])\n",
        "        self.X = X \n",
        "        self.Y = torch.tensor(Y)\n",
        "        \n",
        "    def __len__(self):\n",
        "        return len(self.X)\n",
        "\n",
        "    def __getitem__(self, idx):\n",
        "        return self.X[idx], self.Y[idx] \n",
        "    \n",
        "# my_collate_function prepares batches\n",
        "# it also pads each batch with zeroes.\n",
        "\n",
        "def my_collate_function(batch, device):\n",
        "    # Handle the padding here\n",
        "    # batch is approximately: [dataset[i] for i in range(0, batch_size)]\n",
        "    # Since the dataset[i]'s contents is defined in the __getitem__() above, this collate function \n",
        "    # should be set correspondingly.\n",
        "    # Also: collate_function just takes one argument. To pass in additional arguments (e.g., device), \n",
        "    # we need to wrap up an anonymous function (using lambda below)\n",
        "    batch_x, batch_y = [], []\n",
        "    max_len = 0\n",
        "    for x,y in batch:\n",
        "        batch_y.append(y)\n",
        "        max_len = max(max_len, len(x))\n",
        "    for x,y in batch:\n",
        "        x_p = torch.concat(\n",
        "            [x, torch.zeros(max_len - len(x))]\n",
        "        )\n",
        "        batch_x.append(x_p)\n",
        "    return torch.stack(batch_x).t().int().to(device), torch.tensor(batch_y).to(device)"
      ],
      "metadata": {
        "id": "9nJKU2-0KuCh"
      },
      "execution_count": 6,
      "outputs": []
    },
    {
      "cell_type": "code",
      "source": [
        "batch_size_num = 16\n",
        "device = torch.device('cuda' if torch.cuda.is_available() else 'cpu')\n",
        "glove = torchtext.vocab.GloVe(name=\"6B\",dim=100) # embedding size = 100\n",
        "                                \n",
        "train_dataset = TextDataset(glove, \"train\")\n",
        "val_dataset = TextDataset(glove, \"validation\")\n",
        "test_dataset = TextDataset(glove, \"test\")\n",
        "    \n",
        "train_dataloader = torch.utils.data.DataLoader(\n",
        "  dataset=train_dataset, \n",
        "  batch_size=batch_size_num, \n",
        "  shuffle=False, \n",
        "  collate_fn=lambda batch: my_collate_function(batch, device))\n",
        "\n",
        "validation_dataloader = torch.utils.data.DataLoader(\n",
        "  dataset=val_dataset, \n",
        "  batch_size=batch_size_num, \n",
        "  shuffle=False, \n",
        "  collate_fn=lambda batch: my_collate_function(batch, device))\n",
        "\n",
        "test_dataloader = torch.utils.data.DataLoader(\n",
        "  dataset=test_dataset,\n",
        "  batch_size=len(test_dataset),\n",
        "  shuffle=False,\n",
        "  collate_fn=lambda batch: my_collate_function(batch, device))\n",
        "\n",
        "# for text, label in train_dataloader:\n",
        "#   print(text)\n",
        "#   print(label)"
      ],
      "metadata": {
        "id": "HiBc_fhoXfqK"
      },
      "execution_count": 7,
      "outputs": []
    },
    {
      "cell_type": "markdown",
      "source": [
        "# Define the models & training"
      ],
      "metadata": {
        "id": "e99_n7GgMwvh"
      }
    },
    {
      "cell_type": "markdown",
      "source": [
        "## ConvolutionalNeural Network + Words Embeddings Model\n"
      ],
      "metadata": {
        "id": "xHaW3bmVMzkU"
      }
    },
    {
      "cell_type": "code",
      "source": [
        "class CNNModel(torch.nn.Module):\n",
        "    def __init__(self, vocab, k1=3, n1=25, k2=5, n2=25, freeze=True):\n",
        "        super().__init__()\n",
        "        self.n1 = n1\n",
        "        self.n2 = n2\n",
        "        self.embedding = torch.nn.Embedding.from_pretrained(vocab.vectors,freeze=freeze)\n",
        "        self.embedding_size = vocab.vectors.size()[1]\n",
        "        self.conv1 = torch.nn.Conv2d(in_channels=1, out_channels=n1, kernel_size=(k1, self.embedding_size), bias=True)\n",
        "        self.conv2 = torch.nn.Conv2d(in_channels=1, out_channels=n2, kernel_size=(k2, self.embedding_size), bias=True)\n",
        "        self.linear = torch.nn.Linear(n1 + n2, 3)\n",
        "        \n",
        "    def forward(self, x):\n",
        "\n",
        "\n",
        "        x_embed  = self.embedding(x)\n",
        "        x_reshaped = x_embed.permute(1, 0, 2).unsqueeze(1)\n",
        "\n",
        "        pool = torch.nn.MaxPool2d(1, x_embed.shape[0] - 1)\n",
        "        activation = torch.nn.Sigmoid()\n",
        "\n",
        "        x_conv1 = F.relu(self.conv1(x_reshaped)).squeeze(3)\n",
        "        x_conv2 = F.relu(self.conv2(x_reshaped)).squeeze(3)\n",
        "\n",
        "        x1 = F.max_pool1d(x_conv1, kernel_size=x_conv1.shape[2])\n",
        "        x2 = F.max_pool1d(x_conv2, kernel_size=x_conv2.shape[2])\n",
        "        x_cat = torch.cat((x1, x2), 1).squeeze()\n",
        "        x_linear = x_cat.view(-1, self.n1 + self.n2)\n",
        "        output = self.linear(x_cat)\n",
        "        output_softmax = torch.softmax(output, 0)\n",
        "\n",
        "        return output_softmax\n"
      ],
      "metadata": {
        "id": "W2QlVXTPlMe4"
      },
      "execution_count": 8,
      "outputs": []
    },
    {
      "cell_type": "code",
      "source": [
        "def train_model(glove, train_dataloader, validation_dataloader, learning_rate, epochs, batch_size, k1=3, n1=25, k2=5, n2=25, freeze=True):\n",
        "\n",
        "    # Instantiate the model & set up the optimizer\n",
        "    # model = BaselineModel(embedding_size, glove)\n",
        "    device = torch.device('cuda' if torch.cuda.is_available() else 'cpu')\n",
        "    print (\"Using device:\", device)\n",
        "\n",
        "    model = CNNModel(glove, k1=k1, n1=n1, k2=k2, n2=n2, freeze=freeze)\n",
        "    model.to(device)\n",
        "    criterion = torch.nn.CrossEntropyLoss() # Cross Entropy [0.2 0.7 0.1] [0, 1, 0]\n",
        "    optimizer = torch.optim.Adam(model.parameters(), lr=learning_rate)\n",
        "\n",
        "    train_losses, val_losses, train_acc, val_acc = [], [], [], []\n",
        "\n",
        "    for epoch in range(epochs):\n",
        "        train_loss, val_loss, train_acc_count_epoch, val_acc_count_epoch = 0, 0, 0, 0\n",
        "\n",
        "        for text, label in train_dataloader:\n",
        "            # forward\n",
        "            output = model(text) \n",
        "            loss = criterion(output.squeeze(), label.squeeze())\n",
        "            # output = torch.softmax(output, 1)\n",
        "            output = torch.max(output, 1).indices\n",
        "            train_acc_count_epoch += torch.sum(output == label).item()\n",
        "            \n",
        "            # backward\n",
        "            optimizer.zero_grad()\n",
        "            loss.backward()\n",
        "            optimizer.step()\n",
        "            train_loss += loss.item()\n",
        "        \n",
        "        mean_train_loss = train_loss / len(train_dataloader)\n",
        "        mean_train_acc = train_acc_count_epoch / (len(train_dataloader) * batch_size)\n",
        "\n",
        "        with torch.no_grad():\n",
        "            for text_val, label_val in validation_dataloader:\n",
        "                output_val = model(text_val) \n",
        "                loss_val = criterion(output_val.squeeze(), label_val.squeeze())\n",
        "                val_loss += loss_val.item()\n",
        "\n",
        "                output_val = torch.max(output_val, 1).indices\n",
        "                val_acc_count_epoch += torch.sum(output_val == label_val).item()\n",
        "\n",
        "        mean_val_loss = val_loss / len(validation_dataloader)\n",
        "        mean_val_acc = val_acc_count_epoch / (len(validation_dataloader) * batch_size)\n",
        "\n",
        "\n",
        "        if epoch==0 or (epoch+1) % 10 == 0 or epoch == epochs-1:\n",
        "            print(' Epoch {} \\ttraining loss={:.7f} \\tvalidation loss={:.7f}'.format(epoch+1,mean_train_loss,mean_val_loss))\n",
        "            print('     \\t\\ttraining accuracy={:.2f}% \\tvalidation accuracy={:.2f}%'.format(mean_train_acc*100, mean_val_acc*100))\n",
        "\n",
        "        train_losses.append(mean_train_loss)\n",
        "        val_losses.append(mean_val_loss)\n",
        "        train_acc.append(mean_train_acc)\n",
        "        val_acc.append(mean_val_acc)\n",
        "\n",
        "\n",
        "    return model, train_losses, val_losses, train_acc, val_acc\n",
        "  "
      ],
      "metadata": {
        "id": "LowhyHqdbcpl"
      },
      "execution_count": 9,
      "outputs": []
    },
    {
      "cell_type": "code",
      "source": [
        "\n",
        "for k1,k2 in [[3,5],[4,5],[3,6],[4,6]]:\n",
        "    for n in range(25,46,10):\n",
        "        print(\"*\"*25,\"k1, k2, n =\",k1,k2,n,\"*\"*25)\n",
        "        model, train_losses, val_losses, train_acc, val_acc = train_model(glove, train_dataloader, validation_dataloader, 1e-4, 50, batch_size_num\n",
        "                                                                        , k1=k1, n1=n, k2=k2, n2=n, freeze=True)"
      ],
      "metadata": {
        "colab": {
          "base_uri": "https://localhost:8080/"
        },
        "id": "6UqoInufxUL2",
        "outputId": "1b9d83f2-2b58-45e0-9501-6f435c91cf88"
      },
      "execution_count": null,
      "outputs": [
        {
          "output_type": "stream",
          "name": "stdout",
          "text": [
            "************************* k1, k2, n = 3 5 25 *************************\n",
            "Using device: cuda\n",
            " Epoch 1 \ttraining loss=1.0559966 \tvalidation loss=1.0134773\n",
            "     \t\ttraining accuracy=65.86% \tvalidation accuracy=76.44%\n",
            " Epoch 10 \ttraining loss=0.9881419 \tvalidation loss=0.9919629\n",
            "     \t\ttraining accuracy=86.92% \tvalidation accuracy=85.65%\n",
            " Epoch 20 \ttraining loss=0.9848427 \tvalidation loss=0.9907021\n",
            "     \t\ttraining accuracy=87.98% \tvalidation accuracy=86.48%\n",
            " Epoch 30 \ttraining loss=0.9833392 \tvalidation loss=0.9903774\n",
            "     \t\ttraining accuracy=88.34% \tvalidation accuracy=86.75%\n",
            " Epoch 40 \ttraining loss=0.9824809 \tvalidation loss=0.9903131\n",
            "     \t\ttraining accuracy=88.49% \tvalidation accuracy=87.02%\n",
            " Epoch 50 \ttraining loss=0.9819581 \tvalidation loss=0.9905435\n",
            "     \t\ttraining accuracy=88.60% \tvalidation accuracy=87.06%\n",
            "************************* k1, k2, n = 3 5 35 *************************\n",
            "Using device: cuda\n",
            " Epoch 1 \ttraining loss=1.0509184 \tvalidation loss=1.0090797\n",
            "     \t\ttraining accuracy=67.91% \tvalidation accuracy=75.71%\n",
            " Epoch 10 \ttraining loss=0.9873716 \tvalidation loss=0.9917630\n",
            "     \t\ttraining accuracy=86.82% \tvalidation accuracy=86.02%\n",
            " Epoch 20 \ttraining loss=0.9842031 \tvalidation loss=0.9906833\n",
            "     \t\ttraining accuracy=88.12% \tvalidation accuracy=87.00%\n",
            " Epoch 30 \ttraining loss=0.9828401 \tvalidation loss=0.9905399\n",
            "     \t\ttraining accuracy=88.59% \tvalidation accuracy=87.17%\n",
            " Epoch 40 \ttraining loss=0.9820459 \tvalidation loss=0.9906988\n",
            "     \t\ttraining accuracy=88.83% \tvalidation accuracy=87.44%\n",
            " Epoch 50 \ttraining loss=0.9815116 \tvalidation loss=0.9907840\n",
            "     \t\ttraining accuracy=89.00% \tvalidation accuracy=87.35%\n",
            "************************* k1, k2, n = 3 5 45 *************************\n",
            "Using device: cuda\n",
            " Epoch 1 \ttraining loss=1.0459014 \tvalidation loss=1.0066202\n",
            "     \t\ttraining accuracy=68.39% \tvalidation accuracy=77.42%\n",
            " Epoch 10 \ttraining loss=0.9868209 \tvalidation loss=0.9914139\n",
            "     \t\ttraining accuracy=86.83% \tvalidation accuracy=86.25%\n",
            " Epoch 20 \ttraining loss=0.9837380 \tvalidation loss=0.9908229\n",
            "     \t\ttraining accuracy=87.98% \tvalidation accuracy=86.75%\n",
            " Epoch 30 \ttraining loss=0.9823950 \tvalidation loss=0.9906167\n",
            "     \t\ttraining accuracy=88.38% \tvalidation accuracy=87.25%\n",
            " Epoch 40 \ttraining loss=0.9816644 \tvalidation loss=0.9907257\n",
            "     \t\ttraining accuracy=88.66% \tvalidation accuracy=87.33%\n",
            " Epoch 50 \ttraining loss=0.9812195 \tvalidation loss=0.9911526\n",
            "     \t\ttraining accuracy=88.98% \tvalidation accuracy=87.52%\n",
            "************************* k1, k2, n = 4 5 25 *************************\n",
            "Using device: cuda\n",
            " Epoch 1 \ttraining loss=1.0551004 \tvalidation loss=1.0137996\n",
            "     \t\ttraining accuracy=66.19% \tvalidation accuracy=75.15%\n",
            " Epoch 10 \ttraining loss=0.9879875 \tvalidation loss=0.9918033\n",
            "     \t\ttraining accuracy=86.38% \tvalidation accuracy=85.67%\n",
            " Epoch 20 \ttraining loss=0.9848754 \tvalidation loss=0.9905601\n",
            "     \t\ttraining accuracy=87.49% \tvalidation accuracy=86.50%\n",
            " Epoch 30 \ttraining loss=0.9833442 \tvalidation loss=0.9899517\n",
            "     \t\ttraining accuracy=87.89% \tvalidation accuracy=86.54%\n",
            " Epoch 40 \ttraining loss=0.9824711 \tvalidation loss=0.9898585\n",
            "     \t\ttraining accuracy=88.03% \tvalidation accuracy=86.58%\n",
            " Epoch 50 \ttraining loss=0.9819408 \tvalidation loss=0.9899501\n",
            "     \t\ttraining accuracy=88.21% \tvalidation accuracy=86.90%\n",
            "************************* k1, k2, n = 4 5 35 *************************\n",
            "Using device: cuda\n",
            " Epoch 1 \ttraining loss=1.0507756 \tvalidation loss=1.0086991\n",
            "     \t\ttraining accuracy=66.75% \tvalidation accuracy=77.56%\n",
            " Epoch 10 \ttraining loss=0.9872225 \tvalidation loss=0.9916476\n",
            "     \t\ttraining accuracy=87.03% \tvalidation accuracy=85.60%\n",
            " Epoch 20 \ttraining loss=0.9840251 \tvalidation loss=0.9907479\n",
            "     \t\ttraining accuracy=88.03% \tvalidation accuracy=86.58%\n",
            " Epoch 30 \ttraining loss=0.9825940 \tvalidation loss=0.9903945\n",
            "     \t\ttraining accuracy=88.35% \tvalidation accuracy=86.65%\n",
            " Epoch 40 \ttraining loss=0.9817837 \tvalidation loss=0.9903629\n",
            "     \t\ttraining accuracy=88.69% \tvalidation accuracy=86.71%\n",
            " Epoch 50 \ttraining loss=0.9813113 \tvalidation loss=0.9905700\n",
            "     \t\ttraining accuracy=88.88% \tvalidation accuracy=86.65%\n",
            "************************* k1, k2, n = 4 5 45 *************************\n",
            "Using device: cuda\n",
            " Epoch 1 \ttraining loss=1.0470236 \tvalidation loss=1.0077523\n",
            "     \t\ttraining accuracy=67.82% \tvalidation accuracy=77.48%\n",
            " Epoch 10 \ttraining loss=0.9867655 \tvalidation loss=0.9916987\n",
            "     \t\ttraining accuracy=87.24% \tvalidation accuracy=85.98%\n",
            " Epoch 20 \ttraining loss=0.9835873 \tvalidation loss=0.9907025\n",
            "     \t\ttraining accuracy=88.34% \tvalidation accuracy=86.94%\n",
            " Epoch 30 \ttraining loss=0.9822011 \tvalidation loss=0.9903282\n",
            "     \t\ttraining accuracy=88.77% \tvalidation accuracy=86.85%\n",
            " Epoch 40 \ttraining loss=0.9814217 \tvalidation loss=0.9905498\n",
            "     \t\ttraining accuracy=89.08% \tvalidation accuracy=87.12%\n",
            " Epoch 50 \ttraining loss=0.9809806 \tvalidation loss=0.9908498\n",
            "     \t\ttraining accuracy=89.18% \tvalidation accuracy=87.19%\n",
            "************************* k1, k2, n = 3 6 25 *************************\n",
            "Using device: cuda\n",
            " Epoch 1 \ttraining loss=1.0551887 \tvalidation loss=1.0111241\n",
            "     \t\ttraining accuracy=67.92% \tvalidation accuracy=77.12%\n",
            " Epoch 10 \ttraining loss=0.9878550 \tvalidation loss=0.9916862\n",
            "     \t\ttraining accuracy=86.32% \tvalidation accuracy=85.46%\n",
            " Epoch 20 \ttraining loss=0.9846777 \tvalidation loss=0.9909873\n",
            "     \t\ttraining accuracy=87.28% \tvalidation accuracy=86.21%\n",
            " Epoch 30 \ttraining loss=0.9832820 \tvalidation loss=0.9908862\n",
            "     \t\ttraining accuracy=87.77% \tvalidation accuracy=86.54%\n",
            " Epoch 40 \ttraining loss=0.9824813 \tvalidation loss=0.9908738\n",
            "     \t\ttraining accuracy=88.15% \tvalidation accuracy=86.56%\n",
            " Epoch 50 \ttraining loss=0.9819522 \tvalidation loss=0.9909282\n",
            "     \t\ttraining accuracy=88.46% \tvalidation accuracy=86.92%\n",
            "************************* k1, k2, n = 3 6 35 *************************\n",
            "Using device: cuda\n",
            " Epoch 1 \ttraining loss=1.0496985 \tvalidation loss=1.0087385\n",
            "     \t\ttraining accuracy=67.56% \tvalidation accuracy=77.06%\n",
            " Epoch 10 \ttraining loss=0.9872369 \tvalidation loss=0.9917189\n",
            "     \t\ttraining accuracy=86.54% \tvalidation accuracy=85.54%\n",
            " Epoch 20 \ttraining loss=0.9839912 \tvalidation loss=0.9909766\n",
            "     \t\ttraining accuracy=87.72% \tvalidation accuracy=86.31%\n",
            " Epoch 30 \ttraining loss=0.9826542 \tvalidation loss=0.9909984\n",
            "     \t\ttraining accuracy=88.20% \tvalidation accuracy=86.65%\n",
            " Epoch 40 \ttraining loss=0.9818841 \tvalidation loss=0.9911824\n",
            "     \t\ttraining accuracy=88.53% \tvalidation accuracy=86.79%\n",
            " Epoch 50 \ttraining loss=0.9814190 \tvalidation loss=0.9913158\n",
            "     \t\ttraining accuracy=88.83% \tvalidation accuracy=87.06%\n",
            "************************* k1, k2, n = 3 6 45 *************************\n",
            "Using device: cuda\n",
            " Epoch 1 \ttraining loss=1.0464787 \tvalidation loss=1.0067870\n",
            "     \t\ttraining accuracy=68.12% \tvalidation accuracy=77.81%\n",
            " Epoch 10 \ttraining loss=0.9866870 \tvalidation loss=0.9914876\n",
            "     \t\ttraining accuracy=87.20% \tvalidation accuracy=85.98%\n",
            " Epoch 20 \ttraining loss=0.9835506 \tvalidation loss=0.9911332\n",
            "     \t\ttraining accuracy=88.30% \tvalidation accuracy=86.75%\n",
            " Epoch 30 \ttraining loss=0.9821689 \tvalidation loss=0.9906693\n",
            "     \t\ttraining accuracy=88.83% \tvalidation accuracy=87.08%\n",
            " Epoch 40 \ttraining loss=0.9813539 \tvalidation loss=0.9906684\n",
            "     \t\ttraining accuracy=89.19% \tvalidation accuracy=87.58%\n",
            " Epoch 50 \ttraining loss=0.9808801 \tvalidation loss=0.9906635\n",
            "     \t\ttraining accuracy=89.50% \tvalidation accuracy=87.50%\n",
            "************************* k1, k2, n = 4 6 25 *************************\n",
            "Using device: cuda\n",
            " Epoch 1 \ttraining loss=1.0551327 \tvalidation loss=1.0132082\n",
            "     \t\ttraining accuracy=66.96% \tvalidation accuracy=76.10%\n",
            " Epoch 10 \ttraining loss=0.9879945 \tvalidation loss=0.9923946\n",
            "     \t\ttraining accuracy=86.31% \tvalidation accuracy=85.19%\n",
            " Epoch 20 \ttraining loss=0.9846516 \tvalidation loss=0.9910786\n",
            "     \t\ttraining accuracy=87.88% \tvalidation accuracy=86.69%\n",
            " Epoch 30 \ttraining loss=0.9831643 \tvalidation loss=0.9908499\n",
            "     \t\ttraining accuracy=88.34% \tvalidation accuracy=86.98%\n",
            " Epoch 40 \ttraining loss=0.9822946 \tvalidation loss=0.9908585\n",
            "     \t\ttraining accuracy=88.57% \tvalidation accuracy=87.23%\n",
            " Epoch 50 \ttraining loss=0.9817463 \tvalidation loss=0.9908596\n",
            "     \t\ttraining accuracy=88.79% \tvalidation accuracy=87.25%\n",
            "************************* k1, k2, n = 4 6 35 *************************\n",
            "Using device: cuda\n",
            " Epoch 1 \ttraining loss=1.0484207 \tvalidation loss=1.0106177\n",
            "     \t\ttraining accuracy=65.68% \tvalidation accuracy=75.83%\n",
            " Epoch 10 \ttraining loss=0.9870803 \tvalidation loss=0.9919060\n",
            "     \t\ttraining accuracy=86.86% \tvalidation accuracy=85.77%\n",
            " Epoch 20 \ttraining loss=0.9837700 \tvalidation loss=0.9908725\n",
            "     \t\ttraining accuracy=87.96% \tvalidation accuracy=86.60%\n",
            " Epoch 30 \ttraining loss=0.9823256 \tvalidation loss=0.9905036\n",
            "     \t\ttraining accuracy=88.26% \tvalidation accuracy=86.83%\n",
            " Epoch 40 \ttraining loss=0.9815637 \tvalidation loss=0.9904574\n",
            "     \t\ttraining accuracy=88.56% \tvalidation accuracy=87.06%\n",
            " Epoch 50 \ttraining loss=0.9811579 \tvalidation loss=0.9905626\n",
            "     \t\ttraining accuracy=88.80% \tvalidation accuracy=87.08%\n",
            "************************* k1, k2, n = 4 6 45 *************************\n",
            "Using device: cuda\n",
            " Epoch 1 \ttraining loss=1.0464081 \tvalidation loss=1.0081272\n",
            "     \t\ttraining accuracy=66.56% \tvalidation accuracy=76.19%\n",
            " Epoch 10 \ttraining loss=0.9866881 \tvalidation loss=0.9919750\n",
            "     \t\ttraining accuracy=87.01% \tvalidation accuracy=85.65%\n",
            " Epoch 20 \ttraining loss=0.9833702 \tvalidation loss=0.9908910\n",
            "     \t\ttraining accuracy=88.04% \tvalidation accuracy=86.25%\n",
            " Epoch 30 \ttraining loss=0.9820308 \tvalidation loss=0.9905690\n",
            "     \t\ttraining accuracy=88.60% \tvalidation accuracy=86.65%\n",
            " Epoch 40 \ttraining loss=0.9812929 \tvalidation loss=0.9904947\n",
            "     \t\ttraining accuracy=88.89% \tvalidation accuracy=87.02%\n",
            " Epoch 50 \ttraining loss=0.9809605 \tvalidation loss=0.9905902\n",
            "     \t\ttraining accuracy=89.10% \tvalidation accuracy=87.04%\n"
          ]
        }
      ]
    },
    {
      "cell_type": "code",
      "source": [
        "epochs = 150\n",
        "learning_rate = 3e-5\n",
        "torch.manual_seed(2) # fix seed\n",
        "\n",
        "\n",
        "model, train_losses, val_losses, train_acc, val_acc = train_model(glove, train_dataloader, validation_dataloader, learning_rate, epochs, batch_size_num\n",
        "                                                                  , k1=3, n1=45, k2=5, n2=45, freeze=True)\n"
      ],
      "metadata": {
        "colab": {
          "base_uri": "https://localhost:8080/"
        },
        "id": "18B4T8leIIJP",
        "outputId": "d21b4c80-d77b-4a76-cbc0-86a032eab2f8"
      },
      "execution_count": 10,
      "outputs": [
        {
          "output_type": "stream",
          "name": "stdout",
          "text": [
            "Using device: cuda\n",
            " Epoch 1 \ttraining loss=1.0856354 \tvalidation loss=1.0666379\n",
            "     \t\ttraining accuracy=60.11% \tvalidation accuracy=68.58%\n",
            " Epoch 10 \ttraining loss=0.9930519 \tvalidation loss=0.9945175\n",
            "     \t\ttraining accuracy=84.51% \tvalidation accuracy=83.92%\n",
            " Epoch 20 \ttraining loss=0.9885854 \tvalidation loss=0.9924259\n",
            "     \t\ttraining accuracy=86.45% \tvalidation accuracy=85.69%\n",
            " Epoch 30 \ttraining loss=0.9865185 \tvalidation loss=0.9915807\n",
            "     \t\ttraining accuracy=87.41% \tvalidation accuracy=86.19%\n",
            " Epoch 40 \ttraining loss=0.9852310 \tvalidation loss=0.9911419\n",
            "     \t\ttraining accuracy=87.78% \tvalidation accuracy=86.69%\n",
            " Epoch 50 \ttraining loss=0.9843439 \tvalidation loss=0.9908629\n",
            "     \t\ttraining accuracy=88.07% \tvalidation accuracy=86.94%\n",
            " Epoch 60 \ttraining loss=0.9836687 \tvalidation loss=0.9905619\n",
            "     \t\ttraining accuracy=88.31% \tvalidation accuracy=87.35%\n",
            " Epoch 70 \ttraining loss=0.9831315 \tvalidation loss=0.9903359\n",
            "     \t\ttraining accuracy=88.52% \tvalidation accuracy=87.31%\n",
            " Epoch 80 \ttraining loss=0.9826890 \tvalidation loss=0.9901791\n",
            "     \t\ttraining accuracy=88.65% \tvalidation accuracy=87.33%\n",
            " Epoch 90 \ttraining loss=0.9822855 \tvalidation loss=0.9900689\n",
            "     \t\ttraining accuracy=88.76% \tvalidation accuracy=87.35%\n",
            " Epoch 100 \ttraining loss=0.9819627 \tvalidation loss=0.9900050\n",
            "     \t\ttraining accuracy=88.88% \tvalidation accuracy=87.48%\n",
            " Epoch 110 \ttraining loss=0.9816986 \tvalidation loss=0.9899629\n",
            "     \t\ttraining accuracy=88.94% \tvalidation accuracy=87.48%\n",
            " Epoch 120 \ttraining loss=0.9814789 \tvalidation loss=0.9899577\n",
            "     \t\ttraining accuracy=89.04% \tvalidation accuracy=87.52%\n",
            " Epoch 130 \ttraining loss=0.9812933 \tvalidation loss=0.9899973\n",
            "     \t\ttraining accuracy=89.14% \tvalidation accuracy=87.58%\n",
            " Epoch 140 \ttraining loss=0.9811383 \tvalidation loss=0.9900608\n",
            "     \t\ttraining accuracy=89.23% \tvalidation accuracy=87.67%\n",
            " Epoch 150 \ttraining loss=0.9810016 \tvalidation loss=0.9901547\n",
            "     \t\ttraining accuracy=89.30% \tvalidation accuracy=87.65%\n"
          ]
        }
      ]
    },
    {
      "cell_type": "code",
      "source": [
        "fig = plt.figure()\n",
        "plt.plot(range(1, epochs+1), train_losses, label ='training loss')\n",
        "plt.plot(range(1, epochs+1), val_losses, label ='validation loss')\n",
        "plt.title(\"Plot for training and validation loss\")\n",
        "plt.xlabel(\"number of epochs\")\n",
        "plt.ylabel(\"loss\")\n",
        "plt.legend()\n",
        "plt.show()\n",
        "\n",
        "fig = plt.figure()\n",
        "plt.plot(range(1, epochs+1), train_acc, label ='training acc')\n",
        "plt.plot(range(1, epochs+1), val_acc, label ='validation acc')\n",
        "plt.title(\"Plot for training and validation accuracy\")\n",
        "plt.xlabel(\"number of epochs\")\n",
        "plt.ylabel(\"accuracy\")\n",
        "plt.legend()\n",
        "plt.show()"
      ],
      "metadata": {
        "id": "Rd6kcfc1Wqm-",
        "colab": {
          "base_uri": "https://localhost:8080/",
          "height": 573
        },
        "outputId": "2e217d89-7a32-42fc-aedb-8d9af746604b"
      },
      "execution_count": 11,
      "outputs": [
        {
          "output_type": "display_data",
          "data": {
            "text/plain": [
              "<Figure size 432x288 with 1 Axes>"
            ],
            "image/png": "[encoded data removed]"
          },
          "metadata": {
            "needs_background": "light"
          }
        },
        {
          "output_type": "display_data",
          "data": {
            "text/plain": [
              "<Figure size 432x288 with 1 Axes>"
            ],
            "image/png": "[encoded data removed]"
          },
          "metadata": {
            "needs_background": "light"
          }
        }
      ]
    },
    {
      "cell_type": "code",
      "source": [
        "for text_test, label_test in test_dataloader:\n",
        "    output_test = model(text_test) \n",
        "    output_test_softmax = torch.softmax(output_test, 1)\n",
        "    label_pred = torch.max(output_test_softmax, 1).indices\n",
        "\n",
        "print(classification_report(label_test.cpu(),label_pred.cpu()))\n"
      ],
      "metadata": {
        "id": "mWOxjHuIvdDd",
        "colab": {
          "base_uri": "https://localhost:8080/"
        },
        "outputId": "8f6e1376-c981-4fe5-d649-f39022adaf9a"
      },
      "execution_count": 12,
      "outputs": [
        {
          "output_type": "stream",
          "name": "stdout",
          "text": [
            "              precision    recall  f1-score   support\n",
            "\n",
            "           0       0.86      0.90      0.88      2000\n",
            "           1       0.93      0.83      0.88      2000\n",
            "           2       0.88      0.94      0.91      2000\n",
            "\n",
            "    accuracy                           0.89      6000\n",
            "   macro avg       0.89      0.89      0.89      6000\n",
            "weighted avg       0.89      0.89      0.89      6000\n",
            "\n"
          ]
        }
      ]
    }
  ]
}