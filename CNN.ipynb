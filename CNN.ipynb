{
  "nbformat": 4,
  "nbformat_minor": 0,
  "metadata": {
    "colab": {
      "provenance": []
    },
    "kernelspec": {
      "name": "python3",
      "display_name": "Python 3"
    },
    "language_info": {
      "name": "python"
    },
    "gpuClass": "standard"
  },
  "cells": [
    {
      "cell_type": "code",
      "source": [
        "import re\n",
        "import numpy as np\n",
        "import pandas as pd\n",
        "import seaborn as sns\n",
        "import matplotlib.pyplot as plt\n",
        "\n",
        "import nltk\n",
        "from nltk.tokenize import word_tokenize\n",
        "from nltk.corpus import stopwords\n",
        "\n",
        "from sklearn.model_selection import train_test_split\n",
        "from sklearn.metrics import accuracy_score\n",
        "import torch.nn.functional as F\n",
        "from sklearn.metrics import accuracy_score, confusion_matrix, classification_report\n",
        "\n",
        "\n",
        "nltk.download('punkt')\n",
        "nltk.download('stopwords')\n",
        "stopwords_list = stopwords.words('english')\n",
        "\n",
        "import torch\n",
        "import torchtext\n",
        "from torchtext import data\n",
        "import os"
      ],
      "metadata": {
        "colab": {
          "base_uri": "https://localhost:8080/"
        },
        "id": "MzQ-68C6DbRS",
        "outputId": "1fab7b87-db03-479d-e9c0-ba1b4455f504"
      },
      "execution_count": 1,
      "outputs": [
        {
          "output_type": "stream",
          "name": "stderr",
          "text": [
            "[nltk_data] Downloading package punkt to /root/nltk_data...\n",
            "[nltk_data]   Unzipping tokenizers/punkt.zip.\n",
            "[nltk_data] Downloading package stopwords to /root/nltk_data...\n",
            "[nltk_data]   Unzipping corpora/stopwords.zip.\n"
          ]
        }
      ]
    },
    {
      "cell_type": "code",
      "source": [
        "from google.colab import drive\n",
        "drive.mount('/content/drive')"
      ],
      "metadata": {
        "colab": {
          "base_uri": "https://localhost:8080/"
        },
        "id": "OUuVyOkkFjWW",
        "outputId": "9d31e31b-8a8b-4707-c3bd-20cfb86bca78"
      },
      "execution_count": 2,
      "outputs": [
        {
          "output_type": "stream",
          "name": "stdout",
          "text": [
            "Mounted at /content/drive\n"
          ]
        }
      ]
    },
    {
      "cell_type": "code",
      "source": [
        "#os.chdir(\"/content/drive/MyDrive/ECE1786/Project\")\n",
        "%cd /content/drive/MyDrive/Colab Notebooks/ECE1786/Project"
      ],
      "metadata": {
        "id": "GOS4g-bvFtYB",
        "colab": {
          "base_uri": "https://localhost:8080/"
        },
        "outputId": "de5424b8-0828-428a-dc6c-106e05503e3d"
      },
      "execution_count": 3,
      "outputs": [
        {
          "output_type": "stream",
          "name": "stdout",
          "text": [
            "/content/drive/MyDrive/Colab Notebooks/ECE1786/Project\n"
          ]
        }
      ]
    },
    {
      "cell_type": "code",
      "source": [
        "ls"
      ],
      "metadata": {
        "colab": {
          "base_uri": "https://localhost:8080/"
        },
        "id": "QGx-bhuXGJ-k",
        "outputId": "3588b617-5338-4bc8-8a08-6057f89e9e91"
      },
      "execution_count": 4,
      "outputs": [
        {
          "output_type": "stream",
          "name": "stdout",
          "text": [
            "baselines.ipynb  Bert.ipynb  CNN.ipynb  \u001b[0m\u001b[01;34mdata\u001b[0m/  data_preprocessing.ipynb\n"
          ]
        }
      ]
    },
    {
      "cell_type": "markdown",
      "source": [
        "# Prepare the Data for Input\n",
        "we will use TorchText with our edited Dataset to prepare the model input data"
      ],
      "metadata": {
        "id": "0EC0z6DXJZJy"
      }
    },
    {
      "cell_type": "code",
      "source": [
        "train = pd.read_csv('data/train.tsv', sep=\"\\t\")[['tweet', 'class']]\n",
        "val = pd.read_csv('data/validation.tsv', sep=\"\\t\")[['tweet', 'class']]\n",
        "test = pd.read_csv('data/test.tsv', sep=\"\\t\")[['tweet', 'class']]"
      ],
      "metadata": {
        "id": "UmF3sibKbZkq"
      },
      "execution_count": 5,
      "outputs": []
    },
    {
      "cell_type": "code",
      "source": [
        "class TextDataset(torch.utils.data.Dataset):\n",
        "    def __init__(self, vocab, split=\"train\"):\n",
        "        data_path = \"data\"\n",
        "        df = pd.read_csv(os.path.join(data_path, f\"{split}.tsv\"), sep=\"\\t\")\n",
        "\n",
        "        # X: torch.tensor (maxlen, batch_size), padded indices\n",
        "        # Y: torch.tensor of len N\n",
        "        X, Y = [], []\n",
        "        V = len(vocab.vectors)\n",
        "        for i, row in df.iterrows():\n",
        "            L = row[\"tweet\"].split()\n",
        "            X.append(torch.tensor([vocab.stoi.get(w, V-1) for w in L]))  # Use the last word in the vocab as the \"out-of-vocabulary\" token\n",
        "            Y.append(row[\"class\"])\n",
        "        self.X = X \n",
        "        self.Y = torch.tensor(Y)\n",
        "        \n",
        "    def __len__(self):\n",
        "        return len(self.X)\n",
        "\n",
        "    def __getitem__(self, idx):\n",
        "        return self.X[idx], self.Y[idx] \n",
        "    \n",
        "# my_collate_function prepares batches\n",
        "# it also pads each batch with zeroes.\n",
        "\n",
        "def my_collate_function(batch, device):\n",
        "    # Handle the padding here\n",
        "    # batch is approximately: [dataset[i] for i in range(0, batch_size)]\n",
        "    # Since the dataset[i]'s contents is defined in the __getitem__() above, this collate function \n",
        "    # should be set correspondingly.\n",
        "    # Also: collate_function just takes one argument. To pass in additional arguments (e.g., device), \n",
        "    # we need to wrap up an anonymous function (using lambda below)\n",
        "    batch_x, batch_y = [], []\n",
        "    max_len = 0\n",
        "    for x,y in batch:\n",
        "        batch_y.append(y)\n",
        "        max_len = max(max_len, len(x))\n",
        "    for x,y in batch:\n",
        "        x_p = torch.concat(\n",
        "            [x, torch.zeros(max_len - len(x))]\n",
        "        )\n",
        "        batch_x.append(x_p)\n",
        "    return torch.stack(batch_x).t().int().to(device), torch.tensor(batch_y).to(device)"
      ],
      "metadata": {
        "id": "9nJKU2-0KuCh"
      },
      "execution_count": 6,
      "outputs": []
    },
    {
      "cell_type": "code",
      "source": [
        "batch_size_num = 16\n",
        "device = torch.device('cuda' if torch.cuda.is_available() else 'cpu')\n",
        "glove = torchtext.vocab.GloVe(name=\"6B\",dim=100) # embedding size = 100\n",
        "                                \n",
        "train_dataset = TextDataset(glove, \"train\")\n",
        "val_dataset = TextDataset(glove, \"validation\")\n",
        "test_dataset = TextDataset(glove, \"test\")\n",
        "    \n",
        "train_dataloader = torch.utils.data.DataLoader(\n",
        "  dataset=train_dataset, \n",
        "  batch_size=batch_size_num, \n",
        "  shuffle=False, \n",
        "  collate_fn=lambda batch: my_collate_function(batch, device))\n",
        "\n",
        "validation_dataloader = torch.utils.data.DataLoader(\n",
        "  dataset=val_dataset, \n",
        "  batch_size=batch_size_num, \n",
        "  shuffle=False, \n",
        "  collate_fn=lambda batch: my_collate_function(batch, device))\n",
        "\n",
        "test_dataloader = torch.utils.data.DataLoader(\n",
        "  dataset=test_dataset,\n",
        "  batch_size=batch_size_num,\n",
        "  shuffle=False,\n",
        "  collate_fn=lambda batch: my_collate_function(batch, device))\n",
        "\n",
        "# for text, label in train_dataloader:\n",
        "#   print(text)\n",
        "#   print(label)"
      ],
      "metadata": {
        "id": "HiBc_fhoXfqK"
      },
      "execution_count": 7,
      "outputs": []
    },
    {
      "cell_type": "markdown",
      "source": [
        "# Define the models & training"
      ],
      "metadata": {
        "id": "e99_n7GgMwvh"
      }
    },
    {
      "cell_type": "markdown",
      "source": [
        "## ConvolutionalNeural Network + Words Embeddings Model\n"
      ],
      "metadata": {
        "id": "xHaW3bmVMzkU"
      }
    },
    {
      "cell_type": "code",
      "source": [
        "class CNNModel(torch.nn.Module):\n",
        "    def __init__(self, vocab, k1=3, n1=25, k2=5, n2=25, freeze=True):\n",
        "        super().__init__()\n",
        "        self.n1 = n1\n",
        "        self.n2 = n2\n",
        "        self.embedding = torch.nn.Embedding.from_pretrained(vocab.vectors,freeze=freeze)\n",
        "        self.embedding_size = vocab.vectors.size()[1]\n",
        "        self.conv1 = torch.nn.Conv2d(in_channels=1, out_channels=n1, kernel_size=(k1, self.embedding_size), bias=True)\n",
        "        self.conv2 = torch.nn.Conv2d(in_channels=1, out_channels=n2, kernel_size=(k2, self.embedding_size), bias=True)\n",
        "        self.linear = torch.nn.Linear(n1 + n2, 3)\n",
        "        \n",
        "    def forward(self, x):\n",
        "\n",
        "\n",
        "        x_embed  = self.embedding(x)\n",
        "        x_reshaped = x_embed.permute(1, 0, 2).unsqueeze(1)\n",
        "\n",
        "        pool = torch.nn.MaxPool2d(1, x_embed.shape[0] - 1)\n",
        "        activation = torch.nn.Sigmoid()\n",
        "\n",
        "        x_conv1 = F.relu(self.conv1(x_reshaped)).squeeze(3)\n",
        "        x_conv2 = F.relu(self.conv2(x_reshaped)).squeeze(3)\n",
        "\n",
        "        x1 = F.max_pool1d(x_conv1, kernel_size=x_conv1.shape[2])\n",
        "        x2 = F.max_pool1d(x_conv2, kernel_size=x_conv2.shape[2])\n",
        "        x_cat = torch.cat((x1, x2), 1).squeeze()\n",
        "        x_linear = x_cat.view(-1, self.n1 + self.n2)\n",
        "        output = self.linear(x_cat)\n",
        "        output_softmax = torch.softmax(output, 1)\n",
        "\n",
        "        return output_softmax\n"
      ],
      "metadata": {
        "id": "W2QlVXTPlMe4"
      },
      "execution_count": 43,
      "outputs": []
    },
    {
      "cell_type": "code",
      "source": [
        "def train_model(glove, train_dataloader, validation_dataloader, learning_rate, epochs, batch_size, k1=3, n1=25, k2=5, n2=25, freeze=True):\n",
        "\n",
        "    # Instantiate the model & set up the optimizer\n",
        "    # model = BaselineModel(embedding_size, glove)\n",
        "    device = torch.device('cuda' if torch.cuda.is_available() else 'cpu')\n",
        "    print (\"Using device:\", device)\n",
        "\n",
        "    model = CNNModel(glove, k1=k1, n1=n1, k2=k2, n2=n2, freeze=freeze)\n",
        "    model.to(device)\n",
        "    criterion = torch.nn.CrossEntropyLoss() # Cross Entropy [0.2 0.7 0.1] [0, 1, 0]\n",
        "    optimizer = torch.optim.Adam(model.parameters(), lr=learning_rate)\n",
        "\n",
        "    train_losses, val_losses, train_acc, val_acc = [], [], [], []\n",
        "\n",
        "    for epoch in range(epochs):\n",
        "        train_loss, val_loss, train_acc_count_epoch, val_acc_count_epoch = 0, 0, 0, 0\n",
        "\n",
        "        for text, label in train_dataloader:\n",
        "            # forward\n",
        "            output = model(text) \n",
        "            loss = criterion(output.squeeze(), label)\n",
        "            # output = torch.softmax(output, 1)\n",
        "            output = torch.max(output, 1).indices\n",
        "            train_acc_count_epoch += torch.sum(output == label).item()\n",
        "            \n",
        "            # backward\n",
        "            optimizer.zero_grad()\n",
        "            loss.backward()\n",
        "            optimizer.step()\n",
        "            train_loss += loss.item()\n",
        "        \n",
        "        mean_train_loss = train_loss / len(train_dataloader)\n",
        "        mean_train_acc = train_acc_count_epoch / (len(train_dataloader) * batch_size)\n",
        "\n",
        "        with torch.no_grad():\n",
        "            for text_val, label_val in validation_dataloader:\n",
        "                output_val = model(text_val) \n",
        "                loss_val = criterion(output_val.squeeze(), label_val)\n",
        "                val_loss += loss_val.item()\n",
        "\n",
        "                output_val = torch.softmax(output_val, 1)\n",
        "                output_val = torch.max(output_val, 1).indices\n",
        "                val_acc_count_epoch += torch.sum(output_val == label_val).item()\n",
        "\n",
        "        mean_val_loss = val_loss / len(validation_dataloader)\n",
        "        mean_val_acc = val_acc_count_epoch / (len(validation_dataloader) * batch_size)\n",
        "\n",
        "\n",
        "        if epoch==0 or (epoch+1) % 10 == 0 or epoch == epochs-1:\n",
        "            print(' Epoch {} \\ttraining loss={:.7f} \\tvalidation loss={:.7f}'.format(epoch+1,mean_train_loss,mean_val_loss))\n",
        "            print('     \\t\\ttraining accuracy={:.2f}% \\tvalidation accuracy={:.2f}%'.format(mean_train_acc*100, mean_val_acc*100))\n",
        "\n",
        "        train_losses.append(mean_train_loss)\n",
        "        val_losses.append(mean_val_loss)\n",
        "        train_acc.append(mean_train_acc)\n",
        "        val_acc.append(mean_val_acc)\n",
        "\n",
        "\n",
        "    return model, train_losses, val_losses, train_acc, val_acc\n",
        "  "
      ],
      "metadata": {
        "id": "LowhyHqdbcpl"
      },
      "execution_count": 44,
      "outputs": []
    },
    {
      "cell_type": "code",
      "source": [
        "\n",
        "for k1,k2 in [[3,5],[4,5],[3,6],[4,6]]:\n",
        "    for n in range(25,46,10):\n",
        "        print(\"*\"*25,\"k1, k2, n =\",k1,k2,n,\"*\"*25)\n",
        "        model, train_losses, val_losses, train_acc, val_acc = train_model(glove, train_dataloader, validation_dataloader, 1e-4, 50, batch_size_num\n",
        "                                                                        , k1=k1, n1=n, k2=k2, n2=n, freeze=True)"
      ],
      "metadata": {
        "colab": {
          "base_uri": "https://localhost:8080/"
        },
        "id": "6UqoInufxUL2",
        "outputId": "797abd62-242e-4298-a77f-77fdd0fe4bfd"
      },
      "execution_count": 33,
      "outputs": [
        {
          "output_type": "stream",
          "name": "stdout",
          "text": [
            "************************* k1, k2, n = 3 5 25 *************************\n",
            "Using device: cuda\n",
            " Epoch 1 \ttraining loss=1.0855022 \tvalidation loss=1.0702445\n",
            "     \t\ttraining accuracy=44.99% \tvalidation accuracy=58.72%\n",
            " Epoch 10 \ttraining loss=0.8331711 \tvalidation loss=0.8538022\n",
            "     \t\ttraining accuracy=77.18% \tvalidation accuracy=76.16%\n",
            " Epoch 20 \ttraining loss=0.7543919 \tvalidation loss=0.7999539\n",
            "     \t\ttraining accuracy=82.96% \tvalidation accuracy=77.91%\n",
            " Epoch 30 \ttraining loss=0.7147845 \tvalidation loss=0.7842335\n",
            "     \t\ttraining accuracy=86.30% \tvalidation accuracy=78.49%\n",
            " Epoch 40 \ttraining loss=0.6851288 \tvalidation loss=0.7773696\n",
            "     \t\ttraining accuracy=89.43% \tvalidation accuracy=78.78%\n",
            " Epoch 50 \ttraining loss=0.6618146 \tvalidation loss=0.7740006\n",
            "     \t\ttraining accuracy=91.57% \tvalidation accuracy=77.62%\n",
            "************************* k1, k2, n = 3 5 35 *************************\n",
            "Using device: cuda\n",
            " Epoch 1 \ttraining loss=1.0859092 \tvalidation loss=1.0691867\n",
            "     \t\ttraining accuracy=45.78% \tvalidation accuracy=59.16%\n",
            " Epoch 10 \ttraining loss=0.8199974 \tvalidation loss=0.8421481\n",
            "     \t\ttraining accuracy=77.83% \tvalidation accuracy=77.03%\n",
            " Epoch 20 \ttraining loss=0.7395849 \tvalidation loss=0.7931032\n",
            "     \t\ttraining accuracy=84.23% \tvalidation accuracy=78.34%\n",
            " Epoch 30 \ttraining loss=0.6974574 \tvalidation loss=0.7803661\n",
            "     \t\ttraining accuracy=88.52% \tvalidation accuracy=79.36%\n",
            " Epoch 40 \ttraining loss=0.6662682 \tvalidation loss=0.7761608\n",
            "     \t\ttraining accuracy=90.88% \tvalidation accuracy=78.34%\n",
            " Epoch 50 \ttraining loss=0.6407446 \tvalidation loss=0.7758418\n",
            "     \t\ttraining accuracy=93.60% \tvalidation accuracy=77.47%\n",
            "************************* k1, k2, n = 3 5 45 *************************\n",
            "Using device: cuda\n",
            " Epoch 1 \ttraining loss=1.0840848 \tvalidation loss=1.0671187\n",
            "     \t\ttraining accuracy=48.87% \tvalidation accuracy=60.17%\n",
            " Epoch 10 \ttraining loss=0.8064696 \tvalidation loss=0.8324235\n",
            "     \t\ttraining accuracy=78.74% \tvalidation accuracy=77.47%\n",
            " Epoch 20 \ttraining loss=0.7264695 \tvalidation loss=0.7884619\n",
            "     \t\ttraining accuracy=85.83% \tvalidation accuracy=79.07%\n",
            " Epoch 30 \ttraining loss=0.6825317 \tvalidation loss=0.7778832\n",
            "     \t\ttraining accuracy=89.93% \tvalidation accuracy=79.65%\n",
            " Epoch 40 \ttraining loss=0.6499596 \tvalidation loss=0.7747624\n",
            "     \t\ttraining accuracy=92.55% \tvalidation accuracy=78.63%\n",
            " Epoch 50 \ttraining loss=0.6260009 \tvalidation loss=0.7732704\n",
            "     \t\ttraining accuracy=94.48% \tvalidation accuracy=77.91%\n",
            "************************* k1, k2, n = 4 5 25 *************************\n",
            "Using device: cuda\n",
            " Epoch 1 \ttraining loss=1.0944939 \tvalidation loss=1.0816671\n",
            "     \t\ttraining accuracy=37.83% \tvalidation accuracy=53.20%\n",
            " Epoch 10 \ttraining loss=0.8452480 \tvalidation loss=0.8640730\n",
            "     \t\ttraining accuracy=76.71% \tvalidation accuracy=74.42%\n",
            " Epoch 20 \ttraining loss=0.7536782 \tvalidation loss=0.8003753\n",
            "     \t\ttraining accuracy=83.54% \tvalidation accuracy=77.33%\n",
            " Epoch 30 \ttraining loss=0.7101625 \tvalidation loss=0.7826608\n",
            "     \t\ttraining accuracy=87.46% \tvalidation accuracy=78.63%\n",
            " Epoch 40 \ttraining loss=0.6790836 \tvalidation loss=0.7768514\n",
            "     \t\ttraining accuracy=90.19% \tvalidation accuracy=77.76%\n",
            " Epoch 50 \ttraining loss=0.6544367 \tvalidation loss=0.7751251\n",
            "     \t\ttraining accuracy=92.08% \tvalidation accuracy=77.33%\n",
            "************************* k1, k2, n = 4 5 35 *************************\n",
            "Using device: cuda\n",
            " Epoch 1 \ttraining loss=1.0877530 \tvalidation loss=1.0735907\n",
            "     \t\ttraining accuracy=43.24% \tvalidation accuracy=53.63%\n",
            " Epoch 10 \ttraining loss=0.8181901 \tvalidation loss=0.8456732\n",
            "     \t\ttraining accuracy=78.96% \tvalidation accuracy=76.45%\n",
            " Epoch 20 \ttraining loss=0.7348230 \tvalidation loss=0.7937975\n",
            "     \t\ttraining accuracy=84.92% \tvalidation accuracy=78.34%\n",
            " Epoch 30 \ttraining loss=0.6915842 \tvalidation loss=0.7811504\n",
            "     \t\ttraining accuracy=88.81% \tvalidation accuracy=77.91%\n",
            " Epoch 40 \ttraining loss=0.6596532 \tvalidation loss=0.7769085\n",
            "     \t\ttraining accuracy=91.79% \tvalidation accuracy=76.60%\n",
            " Epoch 50 \ttraining loss=0.6343953 \tvalidation loss=0.7757383\n",
            "     \t\ttraining accuracy=93.79% \tvalidation accuracy=77.18%\n",
            "************************* k1, k2, n = 4 5 45 *************************\n",
            "Using device: cuda\n",
            " Epoch 1 \ttraining loss=1.0826624 \tvalidation loss=1.0671146\n",
            "     \t\ttraining accuracy=49.93% \tvalidation accuracy=57.27%\n",
            " Epoch 10 \ttraining loss=0.8030275 \tvalidation loss=0.8361957\n",
            "     \t\ttraining accuracy=79.98% \tvalidation accuracy=77.03%\n",
            " Epoch 20 \ttraining loss=0.7192841 \tvalidation loss=0.7937560\n",
            "     \t\ttraining accuracy=86.63% \tvalidation accuracy=78.63%\n",
            " Epoch 30 \ttraining loss=0.6735274 \tvalidation loss=0.7853602\n",
            "     \t\ttraining accuracy=90.70% \tvalidation accuracy=77.62%\n",
            " Epoch 40 \ttraining loss=0.6406009 \tvalidation loss=0.7832919\n",
            "     \t\ttraining accuracy=93.31% \tvalidation accuracy=77.62%\n",
            " Epoch 50 \ttraining loss=0.6164644 \tvalidation loss=0.7825497\n",
            "     \t\ttraining accuracy=95.24% \tvalidation accuracy=77.47%\n",
            "************************* k1, k2, n = 3 6 25 *************************\n",
            "Using device: cuda\n",
            " Epoch 1 \ttraining loss=1.0859643 \tvalidation loss=1.0721437\n",
            "     \t\ttraining accuracy=44.59% \tvalidation accuracy=55.81%\n",
            " Epoch 10 \ttraining loss=0.8373405 \tvalidation loss=0.8581142\n",
            "     \t\ttraining accuracy=77.33% \tvalidation accuracy=75.58%\n",
            " Epoch 20 \ttraining loss=0.7529180 \tvalidation loss=0.8002522\n",
            "     \t\ttraining accuracy=83.43% \tvalidation accuracy=77.91%\n",
            " Epoch 30 \ttraining loss=0.7116187 \tvalidation loss=0.7855425\n",
            "     \t\ttraining accuracy=87.28% \tvalidation accuracy=77.76%\n",
            " Epoch 40 \ttraining loss=0.6819415 \tvalidation loss=0.7799268\n",
            "     \t\ttraining accuracy=89.64% \tvalidation accuracy=76.89%\n",
            " Epoch 50 \ttraining loss=0.6578926 \tvalidation loss=0.7781480\n",
            "     \t\ttraining accuracy=91.72% \tvalidation accuracy=77.18%\n",
            "************************* k1, k2, n = 3 6 35 *************************\n",
            "Using device: cuda\n",
            " Epoch 1 \ttraining loss=1.0840515 \tvalidation loss=1.0685768\n",
            "     \t\ttraining accuracy=47.82% \tvalidation accuracy=57.85%\n",
            " Epoch 10 \ttraining loss=0.8146260 \tvalidation loss=0.8445757\n",
            "     \t\ttraining accuracy=78.31% \tvalidation accuracy=75.73%\n",
            " Epoch 20 \ttraining loss=0.7330508 \tvalidation loss=0.7957358\n",
            "     \t\ttraining accuracy=85.17% \tvalidation accuracy=78.49%\n",
            " Epoch 30 \ttraining loss=0.6887033 \tvalidation loss=0.7839529\n",
            "     \t\ttraining accuracy=89.57% \tvalidation accuracy=78.20%\n",
            " Epoch 40 \ttraining loss=0.6560956 \tvalidation loss=0.7793233\n",
            "     \t\ttraining accuracy=92.11% \tvalidation accuracy=78.05%\n",
            " Epoch 50 \ttraining loss=0.6318260 \tvalidation loss=0.7771672\n",
            "     \t\ttraining accuracy=93.90% \tvalidation accuracy=78.20%\n",
            "************************* k1, k2, n = 3 6 45 *************************\n",
            "Using device: cuda\n",
            " Epoch 1 \ttraining loss=1.0836162 \tvalidation loss=1.0655396\n",
            "     \t\ttraining accuracy=45.49% \tvalidation accuracy=57.41%\n",
            " Epoch 10 \ttraining loss=0.8098697 \tvalidation loss=0.8352376\n",
            "     \t\ttraining accuracy=78.49% \tvalidation accuracy=76.74%\n",
            " Epoch 20 \ttraining loss=0.7278177 \tvalidation loss=0.7897933\n",
            "     \t\ttraining accuracy=85.47% \tvalidation accuracy=78.49%\n",
            " Epoch 30 \ttraining loss=0.6823895 \tvalidation loss=0.7800987\n",
            "     \t\ttraining accuracy=90.08% \tvalidation accuracy=77.76%\n",
            " Epoch 40 \ttraining loss=0.6493168 \tvalidation loss=0.7783781\n",
            "     \t\ttraining accuracy=92.41% \tvalidation accuracy=76.60%\n",
            " Epoch 50 \ttraining loss=0.6241892 \tvalidation loss=0.7772583\n",
            "     \t\ttraining accuracy=94.66% \tvalidation accuracy=76.60%\n",
            "************************* k1, k2, n = 4 6 25 *************************\n",
            "Using device: cuda\n",
            " Epoch 1 \ttraining loss=1.0854256 \tvalidation loss=1.0724263\n",
            "     \t\ttraining accuracy=44.51% \tvalidation accuracy=53.05%\n",
            " Epoch 10 \ttraining loss=0.8348309 \tvalidation loss=0.8607779\n",
            "     \t\ttraining accuracy=77.51% \tvalidation accuracy=75.87%\n",
            " Epoch 20 \ttraining loss=0.7470540 \tvalidation loss=0.8050782\n",
            "     \t\ttraining accuracy=84.52% \tvalidation accuracy=77.91%\n",
            " Epoch 30 \ttraining loss=0.7004465 \tvalidation loss=0.7900608\n",
            "     \t\ttraining accuracy=88.84% \tvalidation accuracy=77.47%\n",
            " Epoch 40 \ttraining loss=0.6672245 \tvalidation loss=0.7848488\n",
            "     \t\ttraining accuracy=91.50% \tvalidation accuracy=77.33%\n",
            " Epoch 50 \ttraining loss=0.6424086 \tvalidation loss=0.7828478\n",
            "     \t\ttraining accuracy=93.50% \tvalidation accuracy=76.74%\n",
            "************************* k1, k2, n = 4 6 35 *************************\n",
            "Using device: cuda\n",
            " Epoch 1 \ttraining loss=1.0845162 \tvalidation loss=1.0682459\n",
            "     \t\ttraining accuracy=46.11% \tvalidation accuracy=60.17%\n",
            " Epoch 10 \ttraining loss=0.8142326 \tvalidation loss=0.8470727\n",
            "     \t\ttraining accuracy=79.43% \tvalidation accuracy=76.16%\n",
            " Epoch 20 \ttraining loss=0.7272288 \tvalidation loss=0.7991342\n",
            "     \t\ttraining accuracy=86.70% \tvalidation accuracy=79.22%\n",
            " Epoch 30 \ttraining loss=0.6798635 \tvalidation loss=0.7865281\n",
            "     \t\ttraining accuracy=90.59% \tvalidation accuracy=78.05%\n",
            " Epoch 40 \ttraining loss=0.6468950 \tvalidation loss=0.7825658\n",
            "     \t\ttraining accuracy=92.84% \tvalidation accuracy=77.62%\n",
            " Epoch 50 \ttraining loss=0.6225767 \tvalidation loss=0.7817900\n",
            "     \t\ttraining accuracy=94.91% \tvalidation accuracy=77.33%\n",
            "************************* k1, k2, n = 4 6 45 *************************\n",
            "Using device: cuda\n",
            " Epoch 1 \ttraining loss=1.0786596 \tvalidation loss=1.0605810\n",
            "     \t\ttraining accuracy=49.67% \tvalidation accuracy=58.58%\n",
            " Epoch 10 \ttraining loss=0.8009567 \tvalidation loss=0.8402410\n",
            "     \t\ttraining accuracy=80.31% \tvalidation accuracy=76.45%\n",
            " Epoch 20 \ttraining loss=0.7152126 \tvalidation loss=0.7977925\n",
            "     \t\ttraining accuracy=87.39% \tvalidation accuracy=76.89%\n",
            " Epoch 30 \ttraining loss=0.6666191 \tvalidation loss=0.7876714\n",
            "     \t\ttraining accuracy=91.46% \tvalidation accuracy=77.03%\n",
            " Epoch 40 \ttraining loss=0.6333233 \tvalidation loss=0.7814856\n",
            "     \t\ttraining accuracy=94.15% \tvalidation accuracy=78.20%\n",
            " Epoch 50 \ttraining loss=0.6106229 \tvalidation loss=0.7779333\n",
            "     \t\ttraining accuracy=95.60% \tvalidation accuracy=78.05%\n"
          ]
        }
      ]
    },
    {
      "cell_type": "code",
      "source": [
        "epochs = 50\n",
        "learning_rate = 4e-5\n",
        "torch.manual_seed(2) # fix seed\n",
        "\n",
        "\n",
        "model, train_losses, val_losses, train_acc, val_acc = train_model(glove, train_dataloader, validation_dataloader, learning_rate, epochs, batch_size_num\n",
        "                                                                  , k1=3, n1=45, k2=5, n2=45, freeze=True)\n"
      ],
      "metadata": {
        "colab": {
          "base_uri": "https://localhost:8080/"
        },
        "id": "18B4T8leIIJP",
        "outputId": "4755dcd4-0560-46de-d1ba-71b5928ed12e"
      },
      "execution_count": 59,
      "outputs": [
        {
          "output_type": "stream",
          "name": "stdout",
          "text": [
            "Using device: cuda\n",
            " Epoch 1 \ttraining loss=1.0896988 \tvalidation loss=1.0826863\n",
            "     \t\ttraining accuracy=43.97% \tvalidation accuracy=51.74%\n",
            " Epoch 10 \ttraining loss=0.9347062 \tvalidation loss=0.9462734\n",
            "     \t\ttraining accuracy=73.84% \tvalidation accuracy=72.38%\n",
            " Epoch 20 \ttraining loss=0.8266123 \tvalidation loss=0.8535981\n",
            "     \t\ttraining accuracy=78.78% \tvalidation accuracy=76.02%\n",
            " Epoch 30 \ttraining loss=0.7756143 \tvalidation loss=0.8154548\n",
            "     \t\ttraining accuracy=81.72% \tvalidation accuracy=78.20%\n",
            " Epoch 40 \ttraining loss=0.7438036 \tvalidation loss=0.7968758\n",
            "     \t\ttraining accuracy=84.34% \tvalidation accuracy=79.22%\n",
            " Epoch 50 \ttraining loss=0.7200427 \tvalidation loss=0.7866698\n",
            "     \t\ttraining accuracy=86.63% \tvalidation accuracy=79.65%\n"
          ]
        }
      ]
    },
    {
      "cell_type": "code",
      "source": [
        "fig = plt.figure()\n",
        "plt.plot(range(1, epochs+1), train_losses, label ='training loss')\n",
        "plt.plot(range(1, epochs+1), val_losses, label ='validation loss')\n",
        "plt.title(\"Plot for training and validation loss\")\n",
        "plt.xlabel(\"number of epochs\")\n",
        "plt.ylabel(\"loss\")\n",
        "plt.legend()\n",
        "plt.show()\n",
        "\n",
        "fig = plt.figure()\n",
        "plt.plot(range(1, epochs+1), train_acc, label ='training acc')\n",
        "plt.plot(range(1, epochs+1), val_acc, label ='validation acc')\n",
        "plt.title(\"Plot for training and validation accuracy\")\n",
        "plt.xlabel(\"number of epochs\")\n",
        "plt.ylabel(\"accuracy\")\n",
        "plt.legend()\n",
        "plt.show()"
      ],
      "metadata": {
        "colab": {
          "base_uri": "https://localhost:8080/",
          "height": 573
        },
        "id": "Rd6kcfc1Wqm-",
        "outputId": "65dd176c-8b04-45c8-db7e-2ffe3af1ba39"
      },
      "execution_count": 60,
      "outputs": [
        {
          "output_type": "display_data",
          "data": {
            "text/plain": [
              "<Figure size 432x288 with 1 Axes>"
            ],
            "image/png": "[encoded data removed]"
          },
          "metadata": {
            "needs_background": "light"
          }
        },
        {
          "output_type": "display_data",
          "data": {
            "text/plain": [
              "<Figure size 432x288 with 1 Axes>"
            ],
            "image/png": "[encoded data removed]"
          },
          "metadata": {
            "needs_background": "light"
          }
        }
      ]
    },
    {
      "cell_type": "code",
      "source": [
        "val_dataloader = torch.utils.data.DataLoader(\n",
        "  dataset=val_dataset, \n",
        "  batch_size=len(val_dataset), \n",
        "  shuffle=False, \n",
        "  collate_fn=lambda batch: my_collate_function(batch, device))"
      ],
      "metadata": {
        "id": "Ap7jPZkXvJog"
      },
      "execution_count": 61,
      "outputs": []
    },
    {
      "cell_type": "code",
      "source": [
        "for text_val, label_val in val_dataloader:\n",
        "    output_val = model(text_val) \n",
        "    output_val_softmax = torch.softmax(output_val, 1)\n",
        "    label_pred = torch.max(output_val_softmax, 1).indices\n",
        "\n",
        "print(classification_report(label_val.cpu(),label_pred.cpu()))\n"
      ],
      "metadata": {
        "colab": {
          "base_uri": "https://localhost:8080/"
        },
        "id": "mWOxjHuIvdDd",
        "outputId": "38ef82b1-4997-48e5-974c-abd53e409828"
      },
      "execution_count": 62,
      "outputs": [
        {
          "output_type": "stream",
          "name": "stdout",
          "text": [
            "              precision    recall  f1-score   support\n",
            "\n",
            "           0       0.75      0.73      0.74       229\n",
            "           1       0.82      0.78      0.80       229\n",
            "           2       0.81      0.87      0.84       229\n",
            "\n",
            "    accuracy                           0.80       687\n",
            "   macro avg       0.80      0.80      0.80       687\n",
            "weighted avg       0.80      0.80      0.80       687\n",
            "\n"
          ]
        }
      ]
    }
  ]
}