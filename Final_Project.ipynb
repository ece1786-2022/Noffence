{
  "nbformat": 4,
  "nbformat_minor": 0,
  "metadata": {
    "colab": {
      "provenance": [],
      "collapsed_sections": [
        "fp8EO8m2FRML"
      ],
      "toc_visible": true
    },
    "kernelspec": {
      "name": "python3",
      "display_name": "Python 3"
    },
    "language_info": {
      "name": "python"
    }
  },
  "cells": [
    {
      "cell_type": "code",
      "source": [
        "import re\n",
        "import numpy as np\n",
        "import pandas as pd\n",
        "import seaborn as sns\n",
        "import matplotlib.pyplot as plt\n",
        "\n",
        "import nltk\n",
        "from nltk.tokenize import word_tokenize\n",
        "from nltk.corpus import stopwords\n",
        "\n",
        "from sklearn.model_selection import train_test_split\n",
        "\n",
        "nltk.download('punkt')\n",
        "nltk.download('stopwords')\n",
        "stopwords_list = stopwords.words('english')\n",
        "\n",
        "import torch\n",
        "import torchtext\n",
        "from torchtext import data\n",
        "import os"
      ],
      "metadata": {
        "colab": {
          "base_uri": "https://localhost:8080/"
        },
        "id": "MzQ-68C6DbRS",
        "outputId": "5a3667b9-ab8e-46a5-85ca-1556e479c826"
      },
      "execution_count": 23,
      "outputs": [
        {
          "output_type": "stream",
          "name": "stderr",
          "text": [
            "[nltk_data] Downloading package punkt to /root/nltk_data...\n",
            "[nltk_data]   Package punkt is already up-to-date!\n",
            "[nltk_data] Downloading package stopwords to /root/nltk_data...\n",
            "[nltk_data]   Package stopwords is already up-to-date!\n"
          ]
        }
      ]
    },
    {
      "cell_type": "code",
      "source": [
        "from google.colab import drive\n",
        "drive.mount('/content/drive')"
      ],
      "metadata": {
        "colab": {
          "base_uri": "https://localhost:8080/"
        },
        "id": "OUuVyOkkFjWW",
        "outputId": "76dfb8c4-a18e-4f34-9b7e-34bed20d5b1a"
      },
      "execution_count": 24,
      "outputs": [
        {
          "output_type": "stream",
          "name": "stdout",
          "text": [
            "Drive already mounted at /content/drive; to attempt to forcibly remount, call drive.mount(\"/content/drive\", force_remount=True).\n"
          ]
        }
      ]
    },
    {
      "cell_type": "code",
      "source": [
        "os.chdir(\"/content/drive/MyDrive/ECE1786/Project\")"
      ],
      "metadata": {
        "id": "GOS4g-bvFtYB"
      },
      "execution_count": 25,
      "outputs": []
    },
    {
      "cell_type": "code",
      "source": [
        "ls"
      ],
      "metadata": {
        "colab": {
          "base_uri": "https://localhost:8080/"
        },
        "id": "QGx-bhuXGJ-k",
        "outputId": "ab620945-8119-480d-f98a-21c5d664adf8"
      },
      "execution_count": 26,
      "outputs": [
        {
          "output_type": "stream",
          "name": "stdout",
          "text": [
            "\u001b[0m\u001b[01;34mdata\u001b[0m/  Final_Project.ipynb  Final_Project_v1.ipynb\n"
          ]
        }
      ]
    },
    {
      "cell_type": "markdown",
      "source": [
        "# Data Preprocessing"
      ],
      "metadata": {
        "id": "2wtTbZJfBEaM"
      }
    },
    {
      "cell_type": "markdown",
      "source": [
        "## Load the dataset"
      ],
      "metadata": {
        "id": "fp8EO8m2FRML"
      }
    },
    {
      "cell_type": "markdown",
      "source": [
        "Dataset 1: Hate Speech and Offensive Language Dataset"
      ],
      "metadata": {
        "id": "dLvmBS-GFP8P"
      }
    },
    {
      "cell_type": "code",
      "execution_count": 27,
      "metadata": {
        "colab": {
          "base_uri": "https://localhost:8080/",
          "height": 0
        },
        "id": "foWuMoDz_-Zn",
        "outputId": "a5b9bbaa-226b-4c5e-8229-d49bb81f0373"
      },
      "outputs": [
        {
          "output_type": "execute_result",
          "data": {
            "text/plain": [
              "   Unnamed: 0  count  hate_speech  offensive_language  neither  class  \\\n",
              "0           0      3            0                   0        3      2   \n",
              "1           1      3            0                   3        0      1   \n",
              "2           2      3            0                   3        0      1   \n",
              "3           3      3            0                   2        1      1   \n",
              "4           4      6            0                   6        0      1   \n",
              "\n",
              "                                               tweet  \n",
              "0  !!! RT @mayasolovely: As a woman you shouldn't...  \n",
              "1  !!!!! RT @mleew17: boy dats cold...tyga dwn ba...  \n",
              "2  !!!!!!! RT @UrKindOfBrand Dawg!!!! RT @80sbaby...  \n",
              "3  !!!!!!!!! RT @C_G_Anderson: @viva_based she lo...  \n",
              "4  !!!!!!!!!!!!! RT @ShenikaRoberts: The shit you...  "
            ],
            "text/html": [
              "\n",
              "  <div id=\"df-a115ca37-a6c1-4cb3-b813-9d0ce8492ad4\">\n",
              "    <div class=\"colab-df-container\">\n",
              "      <div>\n",
              "<style scoped>\n",
              "    .dataframe tbody tr th:only-of-type {\n",
              "        vertical-align: middle;\n",
              "    }\n",
              "\n",
              "    .dataframe tbody tr th {\n",
              "        vertical-align: top;\n",
              "    }\n",
              "\n",
              "    .dataframe thead th {\n",
              "        text-align: right;\n",
              "    }\n",
              "</style>\n",
              "<table border=\"1\" class=\"dataframe\">\n",
              "  <thead>\n",
              "    <tr style=\"text-align: right;\">\n",
              "      <th></th>\n",
              "      <th>Unnamed: 0</th>\n",
              "      <th>count</th>\n",
              "      <th>hate_speech</th>\n",
              "      <th>offensive_language</th>\n",
              "      <th>neither</th>\n",
              "      <th>class</th>\n",
              "      <th>tweet</th>\n",
              "    </tr>\n",
              "  </thead>\n",
              "  <tbody>\n",
              "    <tr>\n",
              "      <th>0</th>\n",
              "      <td>0</td>\n",
              "      <td>3</td>\n",
              "      <td>0</td>\n",
              "      <td>0</td>\n",
              "      <td>3</td>\n",
              "      <td>2</td>\n",
              "      <td>!!! RT @mayasolovely: As a woman you shouldn't...</td>\n",
              "    </tr>\n",
              "    <tr>\n",
              "      <th>1</th>\n",
              "      <td>1</td>\n",
              "      <td>3</td>\n",
              "      <td>0</td>\n",
              "      <td>3</td>\n",
              "      <td>0</td>\n",
              "      <td>1</td>\n",
              "      <td>!!!!! RT @mleew17: boy dats cold...tyga dwn ba...</td>\n",
              "    </tr>\n",
              "    <tr>\n",
              "      <th>2</th>\n",
              "      <td>2</td>\n",
              "      <td>3</td>\n",
              "      <td>0</td>\n",
              "      <td>3</td>\n",
              "      <td>0</td>\n",
              "      <td>1</td>\n",
              "      <td>!!!!!!! RT @UrKindOfBrand Dawg!!!! RT @80sbaby...</td>\n",
              "    </tr>\n",
              "    <tr>\n",
              "      <th>3</th>\n",
              "      <td>3</td>\n",
              "      <td>3</td>\n",
              "      <td>0</td>\n",
              "      <td>2</td>\n",
              "      <td>1</td>\n",
              "      <td>1</td>\n",
              "      <td>!!!!!!!!! RT @C_G_Anderson: @viva_based she lo...</td>\n",
              "    </tr>\n",
              "    <tr>\n",
              "      <th>4</th>\n",
              "      <td>4</td>\n",
              "      <td>6</td>\n",
              "      <td>0</td>\n",
              "      <td>6</td>\n",
              "      <td>0</td>\n",
              "      <td>1</td>\n",
              "      <td>!!!!!!!!!!!!! RT @ShenikaRoberts: The shit you...</td>\n",
              "    </tr>\n",
              "  </tbody>\n",
              "</table>\n",
              "</div>\n",
              "      <button class=\"colab-df-convert\" onclick=\"convertToInteractive('df-a115ca37-a6c1-4cb3-b813-9d0ce8492ad4')\"\n",
              "              title=\"Convert this dataframe to an interactive table.\"\n",
              "              style=\"display:none;\">\n",
              "        \n",
              "  <svg xmlns=\"http://www.w3.org/2000/svg\" height=\"24px\"viewBox=\"0 0 24 24\"\n",
              "       width=\"24px\">\n",
              "    <path d=\"M0 0h24v24H0V0z\" fill=\"none\"/>\n",
              "    <path d=\"M18.56 5.44l.94 2.06.94-2.06 2.06-.94-2.06-.94-.94-2.06-.94 2.06-2.06.94zm-11 1L8.5 8.5l.94-2.06 2.06-.94-2.06-.94L8.5 2.5l-.94 2.06-2.06.94zm10 10l.94 2.06.94-2.06 2.06-.94-2.06-.94-.94-2.06-.94 2.06-2.06.94z\"/><path d=\"M17.41 7.96l-1.37-1.37c-.4-.4-.92-.59-1.43-.59-.52 0-1.04.2-1.43.59L10.3 9.45l-7.72 7.72c-.78.78-.78 2.05 0 2.83L4 21.41c.39.39.9.59 1.41.59.51 0 1.02-.2 1.41-.59l7.78-7.78 2.81-2.81c.8-.78.8-2.07 0-2.86zM5.41 20L4 18.59l7.72-7.72 1.47 1.35L5.41 20z\"/>\n",
              "  </svg>\n",
              "      </button>\n",
              "      \n",
              "  <style>\n",
              "    .colab-df-container {\n",
              "      display:flex;\n",
              "      flex-wrap:wrap;\n",
              "      gap: 12px;\n",
              "    }\n",
              "\n",
              "    .colab-df-convert {\n",
              "      background-color: #E8F0FE;\n",
              "      border: none;\n",
              "      border-radius: 50%;\n",
              "      cursor: pointer;\n",
              "      display: none;\n",
              "      fill: #1967D2;\n",
              "      height: 32px;\n",
              "      padding: 0 0 0 0;\n",
              "      width: 32px;\n",
              "    }\n",
              "\n",
              "    .colab-df-convert:hover {\n",
              "      background-color: #E2EBFA;\n",
              "      box-shadow: 0px 1px 2px rgba(60, 64, 67, 0.3), 0px 1px 3px 1px rgba(60, 64, 67, 0.15);\n",
              "      fill: #174EA6;\n",
              "    }\n",
              "\n",
              "    [theme=dark] .colab-df-convert {\n",
              "      background-color: #3B4455;\n",
              "      fill: #D2E3FC;\n",
              "    }\n",
              "\n",
              "    [theme=dark] .colab-df-convert:hover {\n",
              "      background-color: #434B5C;\n",
              "      box-shadow: 0px 1px 3px 1px rgba(0, 0, 0, 0.15);\n",
              "      filter: drop-shadow(0px 1px 2px rgba(0, 0, 0, 0.3));\n",
              "      fill: #FFFFFF;\n",
              "    }\n",
              "  </style>\n",
              "\n",
              "      <script>\n",
              "        const buttonEl =\n",
              "          document.querySelector('#df-a115ca37-a6c1-4cb3-b813-9d0ce8492ad4 button.colab-df-convert');\n",
              "        buttonEl.style.display =\n",
              "          google.colab.kernel.accessAllowed ? 'block' : 'none';\n",
              "\n",
              "        async function convertToInteractive(key) {\n",
              "          const element = document.querySelector('#df-a115ca37-a6c1-4cb3-b813-9d0ce8492ad4');\n",
              "          const dataTable =\n",
              "            await google.colab.kernel.invokeFunction('convertToInteractive',\n",
              "                                                     [key], {});\n",
              "          if (!dataTable) return;\n",
              "\n",
              "          const docLinkHtml = 'Like what you see? Visit the ' +\n",
              "            '<a target=\"_blank\" href=https://colab.research.google.com/notebooks/data_table.ipynb>data table notebook</a>'\n",
              "            + ' to learn more about interactive tables.';\n",
              "          element.innerHTML = '';\n",
              "          dataTable['output_type'] = 'display_data';\n",
              "          await google.colab.output.renderOutput(dataTable, element);\n",
              "          const docLink = document.createElement('div');\n",
              "          docLink.innerHTML = docLinkHtml;\n",
              "          element.appendChild(docLink);\n",
              "        }\n",
              "      </script>\n",
              "    </div>\n",
              "  </div>\n",
              "  "
            ]
          },
          "metadata": {},
          "execution_count": 27
        }
      ],
      "source": [
        "# load dataset\n",
        "dataset1 = pd.read_csv('data/dataset1.csv')\n",
        "dataset1_bak = dataset1.copy()\n",
        "dataset1.head()"
      ]
    },
    {
      "cell_type": "code",
      "source": [
        "# only keep the text and label column\n",
        "dataset1.drop(dataset1.columns[[0,1,2,3,4]], axis=1, inplace=True)\n",
        "dataset1"
      ],
      "metadata": {
        "colab": {
          "base_uri": "https://localhost:8080/",
          "height": 0
        },
        "id": "d9xz0kf4DxgC",
        "outputId": "1b96f047-77cd-44c1-adaa-49a2edc5a7d3"
      },
      "execution_count": 28,
      "outputs": [
        {
          "output_type": "execute_result",
          "data": {
            "text/plain": [
              "       class                                              tweet\n",
              "0          2  !!! RT @mayasolovely: As a woman you shouldn't...\n",
              "1          1  !!!!! RT @mleew17: boy dats cold...tyga dwn ba...\n",
              "2          1  !!!!!!! RT @UrKindOfBrand Dawg!!!! RT @80sbaby...\n",
              "3          1  !!!!!!!!! RT @C_G_Anderson: @viva_based she lo...\n",
              "4          1  !!!!!!!!!!!!! RT @ShenikaRoberts: The shit you...\n",
              "...      ...                                                ...\n",
              "24778      1  you's a muthaf***in lie &#8220;@LifeAsKing: @2...\n",
              "24779      2  you've gone and broke the wrong heart baby, an...\n",
              "24780      1  young buck wanna eat!!.. dat nigguh like I ain...\n",
              "24781      1              youu got wild bitches tellin you lies\n",
              "24782      2  ~~Ruffled | Ntac Eileen Dahlia - Beautiful col...\n",
              "\n",
              "[24783 rows x 2 columns]"
            ],
            "text/html": [
              "\n",
              "  <div id=\"df-63df8ac6-0830-423c-b8c2-3e59c24338fd\">\n",
              "    <div class=\"colab-df-container\">\n",
              "      <div>\n",
              "<style scoped>\n",
              "    .dataframe tbody tr th:only-of-type {\n",
              "        vertical-align: middle;\n",
              "    }\n",
              "\n",
              "    .dataframe tbody tr th {\n",
              "        vertical-align: top;\n",
              "    }\n",
              "\n",
              "    .dataframe thead th {\n",
              "        text-align: right;\n",
              "    }\n",
              "</style>\n",
              "<table border=\"1\" class=\"dataframe\">\n",
              "  <thead>\n",
              "    <tr style=\"text-align: right;\">\n",
              "      <th></th>\n",
              "      <th>class</th>\n",
              "      <th>tweet</th>\n",
              "    </tr>\n",
              "  </thead>\n",
              "  <tbody>\n",
              "    <tr>\n",
              "      <th>0</th>\n",
              "      <td>2</td>\n",
              "      <td>!!! RT @mayasolovely: As a woman you shouldn't...</td>\n",
              "    </tr>\n",
              "    <tr>\n",
              "      <th>1</th>\n",
              "      <td>1</td>\n",
              "      <td>!!!!! RT @mleew17: boy dats cold...tyga dwn ba...</td>\n",
              "    </tr>\n",
              "    <tr>\n",
              "      <th>2</th>\n",
              "      <td>1</td>\n",
              "      <td>!!!!!!! RT @UrKindOfBrand Dawg!!!! RT @80sbaby...</td>\n",
              "    </tr>\n",
              "    <tr>\n",
              "      <th>3</th>\n",
              "      <td>1</td>\n",
              "      <td>!!!!!!!!! RT @C_G_Anderson: @viva_based she lo...</td>\n",
              "    </tr>\n",
              "    <tr>\n",
              "      <th>4</th>\n",
              "      <td>1</td>\n",
              "      <td>!!!!!!!!!!!!! RT @ShenikaRoberts: The shit you...</td>\n",
              "    </tr>\n",
              "    <tr>\n",
              "      <th>...</th>\n",
              "      <td>...</td>\n",
              "      <td>...</td>\n",
              "    </tr>\n",
              "    <tr>\n",
              "      <th>24778</th>\n",
              "      <td>1</td>\n",
              "      <td>you's a muthaf***in lie &amp;#8220;@LifeAsKing: @2...</td>\n",
              "    </tr>\n",
              "    <tr>\n",
              "      <th>24779</th>\n",
              "      <td>2</td>\n",
              "      <td>you've gone and broke the wrong heart baby, an...</td>\n",
              "    </tr>\n",
              "    <tr>\n",
              "      <th>24780</th>\n",
              "      <td>1</td>\n",
              "      <td>young buck wanna eat!!.. dat nigguh like I ain...</td>\n",
              "    </tr>\n",
              "    <tr>\n",
              "      <th>24781</th>\n",
              "      <td>1</td>\n",
              "      <td>youu got wild bitches tellin you lies</td>\n",
              "    </tr>\n",
              "    <tr>\n",
              "      <th>24782</th>\n",
              "      <td>2</td>\n",
              "      <td>~~Ruffled | Ntac Eileen Dahlia - Beautiful col...</td>\n",
              "    </tr>\n",
              "  </tbody>\n",
              "</table>\n",
              "<p>24783 rows × 2 columns</p>\n",
              "</div>\n",
              "      <button class=\"colab-df-convert\" onclick=\"convertToInteractive('df-63df8ac6-0830-423c-b8c2-3e59c24338fd')\"\n",
              "              title=\"Convert this dataframe to an interactive table.\"\n",
              "              style=\"display:none;\">\n",
              "        \n",
              "  <svg xmlns=\"http://www.w3.org/2000/svg\" height=\"24px\"viewBox=\"0 0 24 24\"\n",
              "       width=\"24px\">\n",
              "    <path d=\"M0 0h24v24H0V0z\" fill=\"none\"/>\n",
              "    <path d=\"M18.56 5.44l.94 2.06.94-2.06 2.06-.94-2.06-.94-.94-2.06-.94 2.06-2.06.94zm-11 1L8.5 8.5l.94-2.06 2.06-.94-2.06-.94L8.5 2.5l-.94 2.06-2.06.94zm10 10l.94 2.06.94-2.06 2.06-.94-2.06-.94-.94-2.06-.94 2.06-2.06.94z\"/><path d=\"M17.41 7.96l-1.37-1.37c-.4-.4-.92-.59-1.43-.59-.52 0-1.04.2-1.43.59L10.3 9.45l-7.72 7.72c-.78.78-.78 2.05 0 2.83L4 21.41c.39.39.9.59 1.41.59.51 0 1.02-.2 1.41-.59l7.78-7.78 2.81-2.81c.8-.78.8-2.07 0-2.86zM5.41 20L4 18.59l7.72-7.72 1.47 1.35L5.41 20z\"/>\n",
              "  </svg>\n",
              "      </button>\n",
              "      \n",
              "  <style>\n",
              "    .colab-df-container {\n",
              "      display:flex;\n",
              "      flex-wrap:wrap;\n",
              "      gap: 12px;\n",
              "    }\n",
              "\n",
              "    .colab-df-convert {\n",
              "      background-color: #E8F0FE;\n",
              "      border: none;\n",
              "      border-radius: 50%;\n",
              "      cursor: pointer;\n",
              "      display: none;\n",
              "      fill: #1967D2;\n",
              "      height: 32px;\n",
              "      padding: 0 0 0 0;\n",
              "      width: 32px;\n",
              "    }\n",
              "\n",
              "    .colab-df-convert:hover {\n",
              "      background-color: #E2EBFA;\n",
              "      box-shadow: 0px 1px 2px rgba(60, 64, 67, 0.3), 0px 1px 3px 1px rgba(60, 64, 67, 0.15);\n",
              "      fill: #174EA6;\n",
              "    }\n",
              "\n",
              "    [theme=dark] .colab-df-convert {\n",
              "      background-color: #3B4455;\n",
              "      fill: #D2E3FC;\n",
              "    }\n",
              "\n",
              "    [theme=dark] .colab-df-convert:hover {\n",
              "      background-color: #434B5C;\n",
              "      box-shadow: 0px 1px 3px 1px rgba(0, 0, 0, 0.15);\n",
              "      filter: drop-shadow(0px 1px 2px rgba(0, 0, 0, 0.3));\n",
              "      fill: #FFFFFF;\n",
              "    }\n",
              "  </style>\n",
              "\n",
              "      <script>\n",
              "        const buttonEl =\n",
              "          document.querySelector('#df-63df8ac6-0830-423c-b8c2-3e59c24338fd button.colab-df-convert');\n",
              "        buttonEl.style.display =\n",
              "          google.colab.kernel.accessAllowed ? 'block' : 'none';\n",
              "\n",
              "        async function convertToInteractive(key) {\n",
              "          const element = document.querySelector('#df-63df8ac6-0830-423c-b8c2-3e59c24338fd');\n",
              "          const dataTable =\n",
              "            await google.colab.kernel.invokeFunction('convertToInteractive',\n",
              "                                                     [key], {});\n",
              "          if (!dataTable) return;\n",
              "\n",
              "          const docLinkHtml = 'Like what you see? Visit the ' +\n",
              "            '<a target=\"_blank\" href=https://colab.research.google.com/notebooks/data_table.ipynb>data table notebook</a>'\n",
              "            + ' to learn more about interactive tables.';\n",
              "          element.innerHTML = '';\n",
              "          dataTable['output_type'] = 'display_data';\n",
              "          await google.colab.output.renderOutput(dataTable, element);\n",
              "          const docLink = document.createElement('div');\n",
              "          docLink.innerHTML = docLinkHtml;\n",
              "          element.appendChild(docLink);\n",
              "        }\n",
              "      </script>\n",
              "    </div>\n",
              "  </div>\n",
              "  "
            ]
          },
          "metadata": {},
          "execution_count": 28
        }
      ]
    },
    {
      "cell_type": "code",
      "source": [
        "# check the number of rows and columns\n",
        "dataset1.shape"
      ],
      "metadata": {
        "colab": {
          "base_uri": "https://localhost:8080/"
        },
        "id": "rJkdxvyyEsul",
        "outputId": "03152bcc-ce5a-4c17-f514-3dbda53861a9"
      },
      "execution_count": 29,
      "outputs": [
        {
          "output_type": "execute_result",
          "data": {
            "text/plain": [
              "(24783, 2)"
            ]
          },
          "metadata": {},
          "execution_count": 29
        }
      ]
    },
    {
      "cell_type": "code",
      "source": [
        "# check if there is any null item\n",
        "dataset1.isnull().sum()"
      ],
      "metadata": {
        "colab": {
          "base_uri": "https://localhost:8080/"
        },
        "id": "B2enzmDuFwus",
        "outputId": "97f84b43-beeb-451e-ec32-8b940d389b53"
      },
      "execution_count": 30,
      "outputs": [
        {
          "output_type": "execute_result",
          "data": {
            "text/plain": [
              "class    0\n",
              "tweet    0\n",
              "dtype: int64"
            ]
          },
          "metadata": {},
          "execution_count": 30
        }
      ]
    },
    {
      "cell_type": "code",
      "source": [
        "# helper function to convert abbreviated form to original form\n",
        "def convert_to_original(phrase):\n",
        "  # specific\n",
        "  phrase = re.sub(r\"won\\'t\", \"will not\", phrase)\n",
        "  phrase = re.sub(r\"can\\'t\", \"can not\", phrase)\n",
        "\n",
        "  # general\n",
        "  phrase = re.sub(r\"n\\'t\", \" not\", phrase)\n",
        "  phrase = re.sub(r\"\\'re\", \" are\", phrase)\n",
        "  phrase = re.sub(r\"\\'s\", \" is\", phrase)\n",
        "  phrase = re.sub(r\"\\'d\", \" would\", phrase)\n",
        "  phrase = re.sub(r\"\\'ll\", \" will\", phrase)\n",
        "  phrase = re.sub(r\"\\'t\", \" not\", phrase)\n",
        "  phrase = re.sub(r\"\\'ve\", \" have\", phrase)\n",
        "  phrase = re.sub(r\"\\'m\", \" am\", phrase)\n",
        "  return phrase"
      ],
      "metadata": {
        "id": "8gmv3CtJUHxM"
      },
      "execution_count": 31,
      "outputs": []
    },
    {
      "cell_type": "markdown",
      "source": [
        "## Data Cleaning"
      ],
      "metadata": {
        "id": "bzehOcJNFX4J"
      }
    },
    {
      "cell_type": "code",
      "source": [
        "# text data cleaning\n",
        "def data_processing(text):\n",
        "  # lower casing\n",
        "  text = str(text).lower()\n",
        "\n",
        "  # remove unicode strings\n",
        "  text = re.sub(r'(\\\\u[0-9A-Fa-f]+)', r'', text)\n",
        "\n",
        "  # remove non-ascii characters\n",
        "  text = re.sub(r'[^\\x00-\\x7f]', r'', text)\n",
        "\n",
        "  # remove @user indicaters\n",
        "  text = re.sub(r'@\\w+', r'', text)\n",
        "\n",
        "  # remove digits\n",
        "  text = re.sub(r'\\d', r'', text)\n",
        "\n",
        "  # remove '#' symbols inside strings\n",
        "  text = re.sub(r'#', r'', text)\n",
        "\n",
        "  # remove urls\n",
        "  text = re.sub(r'http\\S+', r'', text)\n",
        "\n",
        "  # remove multiple white spaces\n",
        "  text = re.sub(r'[\\s]+', r' ', text)\n",
        "\n",
        "  # remove multiple break-line with single white space.\n",
        "  text = re.sub(r'[\\n]+', r' ', text)\n",
        "\n",
        "  # tokenization\n",
        "  text = nltk.word_tokenize(text)\n",
        "\n",
        "  # convert abbreviated form to original form\n",
        "  text = convert_to_original(' '.join(text)).split()\n",
        "\n",
        "  # remove short strings with length=1 and length=2\n",
        "  text = [word for word in text if not len(word) in [1,2]]\n",
        "\n",
        "  # remove non-alphanumeric characters\n",
        "  text = [word for word in text if word.isalpha()]\n",
        "\n",
        "  return ' '.join(text)"
      ],
      "metadata": {
        "id": "-SUz7OUAFySS"
      },
      "execution_count": 32,
      "outputs": []
    },
    {
      "cell_type": "code",
      "source": [
        "dataset1['tweet'] = dataset1['tweet'].apply(data_processing)\n",
        "dataset1"
      ],
      "metadata": {
        "colab": {
          "base_uri": "https://localhost:8080/",
          "height": 424
        },
        "id": "0XrtnUddJnWA",
        "outputId": "cf3c5f92-c41f-4df7-b3f6-8b27558c8996"
      },
      "execution_count": 33,
      "outputs": [
        {
          "output_type": "execute_result",
          "data": {
            "text/plain": [
              "       class                                              tweet\n",
              "0          2  woman you should not complain about cleaning y...\n",
              "1          1  boy dats cold tyga dwn bad for cuffin dat hoe ...\n",
              "2          1  dawg you ever fuck bitch and she start cry you...\n",
              "3          1                               she look like tranny\n",
              "4          1  the shit you hear about might true might faker...\n",
              "...      ...                                                ...\n",
              "24778      1  you muthaf lie right his trash now mine bible ...\n",
              "24779      2  you have gone and broke the wrong heart baby a...\n",
              "24780      1  young buck wan eat dat nigguh like aint fuckin...\n",
              "24781      1              youu got wild bitches tellin you lies\n",
              "24782      2  ntac eileen dahlia beautiful color combination...\n",
              "\n",
              "[24783 rows x 2 columns]"
            ],
            "text/html": [
              "\n",
              "  <div id=\"df-5e7b2579-6efb-4e9d-8997-50046fd7b48a\">\n",
              "    <div class=\"colab-df-container\">\n",
              "      <div>\n",
              "<style scoped>\n",
              "    .dataframe tbody tr th:only-of-type {\n",
              "        vertical-align: middle;\n",
              "    }\n",
              "\n",
              "    .dataframe tbody tr th {\n",
              "        vertical-align: top;\n",
              "    }\n",
              "\n",
              "    .dataframe thead th {\n",
              "        text-align: right;\n",
              "    }\n",
              "</style>\n",
              "<table border=\"1\" class=\"dataframe\">\n",
              "  <thead>\n",
              "    <tr style=\"text-align: right;\">\n",
              "      <th></th>\n",
              "      <th>class</th>\n",
              "      <th>tweet</th>\n",
              "    </tr>\n",
              "  </thead>\n",
              "  <tbody>\n",
              "    <tr>\n",
              "      <th>0</th>\n",
              "      <td>2</td>\n",
              "      <td>woman you should not complain about cleaning y...</td>\n",
              "    </tr>\n",
              "    <tr>\n",
              "      <th>1</th>\n",
              "      <td>1</td>\n",
              "      <td>boy dats cold tyga dwn bad for cuffin dat hoe ...</td>\n",
              "    </tr>\n",
              "    <tr>\n",
              "      <th>2</th>\n",
              "      <td>1</td>\n",
              "      <td>dawg you ever fuck bitch and she start cry you...</td>\n",
              "    </tr>\n",
              "    <tr>\n",
              "      <th>3</th>\n",
              "      <td>1</td>\n",
              "      <td>she look like tranny</td>\n",
              "    </tr>\n",
              "    <tr>\n",
              "      <th>4</th>\n",
              "      <td>1</td>\n",
              "      <td>the shit you hear about might true might faker...</td>\n",
              "    </tr>\n",
              "    <tr>\n",
              "      <th>...</th>\n",
              "      <td>...</td>\n",
              "      <td>...</td>\n",
              "    </tr>\n",
              "    <tr>\n",
              "      <th>24778</th>\n",
              "      <td>1</td>\n",
              "      <td>you muthaf lie right his trash now mine bible ...</td>\n",
              "    </tr>\n",
              "    <tr>\n",
              "      <th>24779</th>\n",
              "      <td>2</td>\n",
              "      <td>you have gone and broke the wrong heart baby a...</td>\n",
              "    </tr>\n",
              "    <tr>\n",
              "      <th>24780</th>\n",
              "      <td>1</td>\n",
              "      <td>young buck wan eat dat nigguh like aint fuckin...</td>\n",
              "    </tr>\n",
              "    <tr>\n",
              "      <th>24781</th>\n",
              "      <td>1</td>\n",
              "      <td>youu got wild bitches tellin you lies</td>\n",
              "    </tr>\n",
              "    <tr>\n",
              "      <th>24782</th>\n",
              "      <td>2</td>\n",
              "      <td>ntac eileen dahlia beautiful color combination...</td>\n",
              "    </tr>\n",
              "  </tbody>\n",
              "</table>\n",
              "<p>24783 rows × 2 columns</p>\n",
              "</div>\n",
              "      <button class=\"colab-df-convert\" onclick=\"convertToInteractive('df-5e7b2579-6efb-4e9d-8997-50046fd7b48a')\"\n",
              "              title=\"Convert this dataframe to an interactive table.\"\n",
              "              style=\"display:none;\">\n",
              "        \n",
              "  <svg xmlns=\"http://www.w3.org/2000/svg\" height=\"24px\"viewBox=\"0 0 24 24\"\n",
              "       width=\"24px\">\n",
              "    <path d=\"M0 0h24v24H0V0z\" fill=\"none\"/>\n",
              "    <path d=\"M18.56 5.44l.94 2.06.94-2.06 2.06-.94-2.06-.94-.94-2.06-.94 2.06-2.06.94zm-11 1L8.5 8.5l.94-2.06 2.06-.94-2.06-.94L8.5 2.5l-.94 2.06-2.06.94zm10 10l.94 2.06.94-2.06 2.06-.94-2.06-.94-.94-2.06-.94 2.06-2.06.94z\"/><path d=\"M17.41 7.96l-1.37-1.37c-.4-.4-.92-.59-1.43-.59-.52 0-1.04.2-1.43.59L10.3 9.45l-7.72 7.72c-.78.78-.78 2.05 0 2.83L4 21.41c.39.39.9.59 1.41.59.51 0 1.02-.2 1.41-.59l7.78-7.78 2.81-2.81c.8-.78.8-2.07 0-2.86zM5.41 20L4 18.59l7.72-7.72 1.47 1.35L5.41 20z\"/>\n",
              "  </svg>\n",
              "      </button>\n",
              "      \n",
              "  <style>\n",
              "    .colab-df-container {\n",
              "      display:flex;\n",
              "      flex-wrap:wrap;\n",
              "      gap: 12px;\n",
              "    }\n",
              "\n",
              "    .colab-df-convert {\n",
              "      background-color: #E8F0FE;\n",
              "      border: none;\n",
              "      border-radius: 50%;\n",
              "      cursor: pointer;\n",
              "      display: none;\n",
              "      fill: #1967D2;\n",
              "      height: 32px;\n",
              "      padding: 0 0 0 0;\n",
              "      width: 32px;\n",
              "    }\n",
              "\n",
              "    .colab-df-convert:hover {\n",
              "      background-color: #E2EBFA;\n",
              "      box-shadow: 0px 1px 2px rgba(60, 64, 67, 0.3), 0px 1px 3px 1px rgba(60, 64, 67, 0.15);\n",
              "      fill: #174EA6;\n",
              "    }\n",
              "\n",
              "    [theme=dark] .colab-df-convert {\n",
              "      background-color: #3B4455;\n",
              "      fill: #D2E3FC;\n",
              "    }\n",
              "\n",
              "    [theme=dark] .colab-df-convert:hover {\n",
              "      background-color: #434B5C;\n",
              "      box-shadow: 0px 1px 3px 1px rgba(0, 0, 0, 0.15);\n",
              "      filter: drop-shadow(0px 1px 2px rgba(0, 0, 0, 0.3));\n",
              "      fill: #FFFFFF;\n",
              "    }\n",
              "  </style>\n",
              "\n",
              "      <script>\n",
              "        const buttonEl =\n",
              "          document.querySelector('#df-5e7b2579-6efb-4e9d-8997-50046fd7b48a button.colab-df-convert');\n",
              "        buttonEl.style.display =\n",
              "          google.colab.kernel.accessAllowed ? 'block' : 'none';\n",
              "\n",
              "        async function convertToInteractive(key) {\n",
              "          const element = document.querySelector('#df-5e7b2579-6efb-4e9d-8997-50046fd7b48a');\n",
              "          const dataTable =\n",
              "            await google.colab.kernel.invokeFunction('convertToInteractive',\n",
              "                                                     [key], {});\n",
              "          if (!dataTable) return;\n",
              "\n",
              "          const docLinkHtml = 'Like what you see? Visit the ' +\n",
              "            '<a target=\"_blank\" href=https://colab.research.google.com/notebooks/data_table.ipynb>data table notebook</a>'\n",
              "            + ' to learn more about interactive tables.';\n",
              "          element.innerHTML = '';\n",
              "          dataTable['output_type'] = 'display_data';\n",
              "          await google.colab.output.renderOutput(dataTable, element);\n",
              "          const docLink = document.createElement('div');\n",
              "          docLink.innerHTML = docLinkHtml;\n",
              "          element.appendChild(docLink);\n",
              "        }\n",
              "      </script>\n",
              "    </div>\n",
              "  </div>\n",
              "  "
            ]
          },
          "metadata": {},
          "execution_count": 33
        }
      ]
    },
    {
      "cell_type": "code",
      "source": [
        "dataset1['tweet'].replace('', np.nan, inplace=True)"
      ],
      "metadata": {
        "id": "_HT-JK8Jft-N"
      },
      "execution_count": 34,
      "outputs": []
    },
    {
      "cell_type": "code",
      "source": [
        "dataset1.isnull().sum()"
      ],
      "metadata": {
        "colab": {
          "base_uri": "https://localhost:8080/"
        },
        "id": "gywie5RNgE17",
        "outputId": "620384e4-4043-4c2e-c3a4-8a47b519effe"
      },
      "execution_count": 35,
      "outputs": [
        {
          "output_type": "execute_result",
          "data": {
            "text/plain": [
              "class    0\n",
              "tweet    9\n",
              "dtype: int64"
            ]
          },
          "metadata": {},
          "execution_count": 35
        }
      ]
    },
    {
      "cell_type": "code",
      "source": [
        "dataset1.dropna(subset=['tweet'], inplace=True)"
      ],
      "metadata": {
        "id": "3pf5LVSMeWE2"
      },
      "execution_count": 36,
      "outputs": []
    },
    {
      "cell_type": "code",
      "source": [
        "dataset1.isnull().sum()"
      ],
      "metadata": {
        "colab": {
          "base_uri": "https://localhost:8080/"
        },
        "id": "ezAx4ns-gGxd",
        "outputId": "c8c90282-a9c9-4155-e26b-dd0ed0d5a95e"
      },
      "execution_count": 37,
      "outputs": [
        {
          "output_type": "execute_result",
          "data": {
            "text/plain": [
              "class    0\n",
              "tweet    0\n",
              "dtype: int64"
            ]
          },
          "metadata": {},
          "execution_count": 37
        }
      ]
    },
    {
      "cell_type": "code",
      "source": [
        "# example before and after data cleaning\n",
        "print(dataset1_bak['tweet'][0])\n",
        "print(dataset1['tweet'][0])"
      ],
      "metadata": {
        "colab": {
          "base_uri": "https://localhost:8080/"
        },
        "id": "v3AM0-b1RefD",
        "outputId": "fcf22243-971c-4c30-b722-a94e29705c70"
      },
      "execution_count": 38,
      "outputs": [
        {
          "output_type": "stream",
          "name": "stdout",
          "text": [
            "!!! RT @mayasolovely: As a woman you shouldn't complain about cleaning up your house. &amp; as a man you should always take the trash out...\n",
            "woman you should not complain about cleaning your house amp man you should always take the trash out\n"
          ]
        }
      ]
    },
    {
      "cell_type": "code",
      "source": [
        "# Before augmentation\n",
        "sns.set(style=\"darkgrid\")\n",
        "ax = sns.countplot(x=\"class\", data=dataset1)"
      ],
      "metadata": {
        "colab": {
          "base_uri": "https://localhost:8080/",
          "height": 287
        },
        "id": "N2FziytpXEhb",
        "outputId": "3280cf6f-5ecf-4ca5-e885-6c043271440a"
      },
      "execution_count": 39,
      "outputs": [
        {
          "output_type": "display_data",
          "data": {
            "text/plain": [
              "<Figure size 432x288 with 1 Axes>"
            ],
            "image/png": "[encoded data removed]"
          },
          "metadata": {}
        }
      ]
    },
    {
      "cell_type": "code",
      "source": [
        "# dataset1\n",
        "dataset1['class'].value_counts(normalize = True)"
      ],
      "metadata": {
        "colab": {
          "base_uri": "https://localhost:8080/"
        },
        "id": "VRtxsTJjcKDw",
        "outputId": "0d140be3-7984-4ea0-fa2c-da27a3ab89cb"
      },
      "execution_count": 40,
      "outputs": [
        {
          "output_type": "execute_result",
          "data": {
            "text/plain": [
              "1    0.774522\n",
              "2    0.167757\n",
              "0    0.057722\n",
              "Name: class, dtype: float64"
            ]
          },
          "metadata": {},
          "execution_count": 40
        }
      ]
    },
    {
      "cell_type": "code",
      "source": [
        "len_class_0 = dataset1.groupby(['class'])['class'].count()[0]"
      ],
      "metadata": {
        "id": "1IoKWnlydpNm"
      },
      "execution_count": 41,
      "outputs": []
    },
    {
      "cell_type": "code",
      "source": [
        "sample_size = len_class_0\n",
        "sampled_dataset1 = dataset1.groupby('class').apply(lambda x: x.sample(sample_size))"
      ],
      "metadata": {
        "id": "pLpfoQTSdPVn"
      },
      "execution_count": 42,
      "outputs": []
    },
    {
      "cell_type": "code",
      "source": [
        "sampled_dataset1.reset_index(inplace=True, drop=True)"
      ],
      "metadata": {
        "id": "D0fi4TzseksM"
      },
      "execution_count": 43,
      "outputs": []
    },
    {
      "cell_type": "code",
      "source": [
        "sampled_dataset1"
      ],
      "metadata": {
        "colab": {
          "base_uri": "https://localhost:8080/",
          "height": 424
        },
        "id": "CgT3w71LgKP7",
        "outputId": "ae77b6e2-9133-4bd1-a5b2-ee17442b1205"
      },
      "execution_count": 44,
      "outputs": [
        {
          "output_type": "execute_result",
          "data": {
            "text/plain": [
              "      class                                              tweet\n",
              "0         0  cowboys win games during the regular season bu...\n",
              "1         0  scandal negro bed wench and propaganda via mus...\n",
              "2         0                                 fuck those faggots\n",
              "3         0     you have new boyfriend every week you doin hoe\n",
              "4         0                            lmaoooo what bunch fags\n",
              "...     ...                                                ...\n",
              "4285      2  charlie sheen slams rihanna for rejecting his ...\n",
              "4286      2                                    top layer trash\n",
              "4287      2                                        dumb beaner\n",
              "4288      2                                oreo ice cream cake\n",
              "4289      2  which refresh dhimmi seattle mayor murray poor...\n",
              "\n",
              "[4290 rows x 2 columns]"
            ],
            "text/html": [
              "\n",
              "  <div id=\"df-8f79c1a9-5a9a-495f-87cf-0647c43dd2b3\">\n",
              "    <div class=\"colab-df-container\">\n",
              "      <div>\n",
              "<style scoped>\n",
              "    .dataframe tbody tr th:only-of-type {\n",
              "        vertical-align: middle;\n",
              "    }\n",
              "\n",
              "    .dataframe tbody tr th {\n",
              "        vertical-align: top;\n",
              "    }\n",
              "\n",
              "    .dataframe thead th {\n",
              "        text-align: right;\n",
              "    }\n",
              "</style>\n",
              "<table border=\"1\" class=\"dataframe\">\n",
              "  <thead>\n",
              "    <tr style=\"text-align: right;\">\n",
              "      <th></th>\n",
              "      <th>class</th>\n",
              "      <th>tweet</th>\n",
              "    </tr>\n",
              "  </thead>\n",
              "  <tbody>\n",
              "    <tr>\n",
              "      <th>0</th>\n",
              "      <td>0</td>\n",
              "      <td>cowboys win games during the regular season bu...</td>\n",
              "    </tr>\n",
              "    <tr>\n",
              "      <th>1</th>\n",
              "      <td>0</td>\n",
              "      <td>scandal negro bed wench and propaganda via mus...</td>\n",
              "    </tr>\n",
              "    <tr>\n",
              "      <th>2</th>\n",
              "      <td>0</td>\n",
              "      <td>fuck those faggots</td>\n",
              "    </tr>\n",
              "    <tr>\n",
              "      <th>3</th>\n",
              "      <td>0</td>\n",
              "      <td>you have new boyfriend every week you doin hoe</td>\n",
              "    </tr>\n",
              "    <tr>\n",
              "      <th>4</th>\n",
              "      <td>0</td>\n",
              "      <td>lmaoooo what bunch fags</td>\n",
              "    </tr>\n",
              "    <tr>\n",
              "      <th>...</th>\n",
              "      <td>...</td>\n",
              "      <td>...</td>\n",
              "    </tr>\n",
              "    <tr>\n",
              "      <th>4285</th>\n",
              "      <td>2</td>\n",
              "      <td>charlie sheen slams rihanna for rejecting his ...</td>\n",
              "    </tr>\n",
              "    <tr>\n",
              "      <th>4286</th>\n",
              "      <td>2</td>\n",
              "      <td>top layer trash</td>\n",
              "    </tr>\n",
              "    <tr>\n",
              "      <th>4287</th>\n",
              "      <td>2</td>\n",
              "      <td>dumb beaner</td>\n",
              "    </tr>\n",
              "    <tr>\n",
              "      <th>4288</th>\n",
              "      <td>2</td>\n",
              "      <td>oreo ice cream cake</td>\n",
              "    </tr>\n",
              "    <tr>\n",
              "      <th>4289</th>\n",
              "      <td>2</td>\n",
              "      <td>which refresh dhimmi seattle mayor murray poor...</td>\n",
              "    </tr>\n",
              "  </tbody>\n",
              "</table>\n",
              "<p>4290 rows × 2 columns</p>\n",
              "</div>\n",
              "      <button class=\"colab-df-convert\" onclick=\"convertToInteractive('df-8f79c1a9-5a9a-495f-87cf-0647c43dd2b3')\"\n",
              "              title=\"Convert this dataframe to an interactive table.\"\n",
              "              style=\"display:none;\">\n",
              "        \n",
              "  <svg xmlns=\"http://www.w3.org/2000/svg\" height=\"24px\"viewBox=\"0 0 24 24\"\n",
              "       width=\"24px\">\n",
              "    <path d=\"M0 0h24v24H0V0z\" fill=\"none\"/>\n",
              "    <path d=\"M18.56 5.44l.94 2.06.94-2.06 2.06-.94-2.06-.94-.94-2.06-.94 2.06-2.06.94zm-11 1L8.5 8.5l.94-2.06 2.06-.94-2.06-.94L8.5 2.5l-.94 2.06-2.06.94zm10 10l.94 2.06.94-2.06 2.06-.94-2.06-.94-.94-2.06-.94 2.06-2.06.94z\"/><path d=\"M17.41 7.96l-1.37-1.37c-.4-.4-.92-.59-1.43-.59-.52 0-1.04.2-1.43.59L10.3 9.45l-7.72 7.72c-.78.78-.78 2.05 0 2.83L4 21.41c.39.39.9.59 1.41.59.51 0 1.02-.2 1.41-.59l7.78-7.78 2.81-2.81c.8-.78.8-2.07 0-2.86zM5.41 20L4 18.59l7.72-7.72 1.47 1.35L5.41 20z\"/>\n",
              "  </svg>\n",
              "      </button>\n",
              "      \n",
              "  <style>\n",
              "    .colab-df-container {\n",
              "      display:flex;\n",
              "      flex-wrap:wrap;\n",
              "      gap: 12px;\n",
              "    }\n",
              "\n",
              "    .colab-df-convert {\n",
              "      background-color: #E8F0FE;\n",
              "      border: none;\n",
              "      border-radius: 50%;\n",
              "      cursor: pointer;\n",
              "      display: none;\n",
              "      fill: #1967D2;\n",
              "      height: 32px;\n",
              "      padding: 0 0 0 0;\n",
              "      width: 32px;\n",
              "    }\n",
              "\n",
              "    .colab-df-convert:hover {\n",
              "      background-color: #E2EBFA;\n",
              "      box-shadow: 0px 1px 2px rgba(60, 64, 67, 0.3), 0px 1px 3px 1px rgba(60, 64, 67, 0.15);\n",
              "      fill: #174EA6;\n",
              "    }\n",
              "\n",
              "    [theme=dark] .colab-df-convert {\n",
              "      background-color: #3B4455;\n",
              "      fill: #D2E3FC;\n",
              "    }\n",
              "\n",
              "    [theme=dark] .colab-df-convert:hover {\n",
              "      background-color: #434B5C;\n",
              "      box-shadow: 0px 1px 3px 1px rgba(0, 0, 0, 0.15);\n",
              "      filter: drop-shadow(0px 1px 2px rgba(0, 0, 0, 0.3));\n",
              "      fill: #FFFFFF;\n",
              "    }\n",
              "  </style>\n",
              "\n",
              "      <script>\n",
              "        const buttonEl =\n",
              "          document.querySelector('#df-8f79c1a9-5a9a-495f-87cf-0647c43dd2b3 button.colab-df-convert');\n",
              "        buttonEl.style.display =\n",
              "          google.colab.kernel.accessAllowed ? 'block' : 'none';\n",
              "\n",
              "        async function convertToInteractive(key) {\n",
              "          const element = document.querySelector('#df-8f79c1a9-5a9a-495f-87cf-0647c43dd2b3');\n",
              "          const dataTable =\n",
              "            await google.colab.kernel.invokeFunction('convertToInteractive',\n",
              "                                                     [key], {});\n",
              "          if (!dataTable) return;\n",
              "\n",
              "          const docLinkHtml = 'Like what you see? Visit the ' +\n",
              "            '<a target=\"_blank\" href=https://colab.research.google.com/notebooks/data_table.ipynb>data table notebook</a>'\n",
              "            + ' to learn more about interactive tables.';\n",
              "          element.innerHTML = '';\n",
              "          dataTable['output_type'] = 'display_data';\n",
              "          await google.colab.output.renderOutput(dataTable, element);\n",
              "          const docLink = document.createElement('div');\n",
              "          docLink.innerHTML = docLinkHtml;\n",
              "          element.appendChild(docLink);\n",
              "        }\n",
              "      </script>\n",
              "    </div>\n",
              "  </div>\n",
              "  "
            ]
          },
          "metadata": {},
          "execution_count": 44
        }
      ]
    },
    {
      "cell_type": "code",
      "source": [
        "# After data augmentation\n",
        "sns.set(style=\"darkgrid\")\n",
        "ax = sns.countplot(x=\"class\", data=sampled_dataset1)"
      ],
      "metadata": {
        "colab": {
          "base_uri": "https://localhost:8080/",
          "height": 285
        },
        "id": "QplxOQNYcDHc",
        "outputId": "277822cf-6e91-4cf2-91b5-72558829f3ab"
      },
      "execution_count": 45,
      "outputs": [
        {
          "output_type": "display_data",
          "data": {
            "text/plain": [
              "<Figure size 432x288 with 1 Axes>"
            ],
            "image/png": "[encoded data removed]"
          },
          "metadata": {}
        }
      ]
    },
    {
      "cell_type": "code",
      "source": [
        "# create train/validation/test splits\n",
        "predictor = sampled_dataset1.drop(\"class\", axis = \"columns\")\n",
        "X_train_val, X_test, y_train_val, y_test = train_test_split(predictor, sampled_dataset1[\"class\"], test_size=0.2, random_state=20, stratify = sampled_dataset1[\"class\"])\n",
        "X_train, X_val, y_train, y_val = train_test_split(X_train_val, y_train_val, test_size=0.2, random_state=20, stratify = y_train_val)\n",
        "\n",
        "train = pd.concat([X_train, y_train], axis=1)\n",
        "val = pd.concat([X_val, y_val], axis=1)\n",
        "test = pd.concat([X_test, y_test], axis=1)\n",
        "\n",
        "train.to_csv(\"data/train.tsv\", sep=\"\\t\")\n",
        "val.to_csv(\"data/validation.tsv\", sep=\"\\t\")\n",
        "test.to_csv(\"data/test.tsv\", sep=\"\\t\")"
      ],
      "metadata": {
        "id": "N_ZmluSwZvm6"
      },
      "execution_count": 46,
      "outputs": []
    },
    {
      "cell_type": "markdown",
      "source": [
        "# Prepare the Data for Input\n",
        "we will use TorchText with our edited Dataset to prepare the model input data"
      ],
      "metadata": {
        "id": "0EC0z6DXJZJy"
      }
    },
    {
      "cell_type": "code",
      "source": [
        "class TextDataset(torch.utils.data.Dataset):\n",
        "    def __init__(self, vocab, split=\"train\"):\n",
        "        data_path = \"data\"\n",
        "        df = pd.read_csv(os.path.join(data_path, f\"{split}.tsv\"), sep=\"\\t\")\n",
        "\n",
        "        # X: torch.tensor (maxlen, batch_size), padded indices\n",
        "        # Y: torch.tensor of len N\n",
        "        X, Y = [], []\n",
        "        V = len(vocab.vectors)\n",
        "        for i, row in df.iterrows():\n",
        "            L = row[\"tweet\"].split()\n",
        "            X.append(torch.tensor([vocab.stoi.get(w, V-1) for w in L]))  # Use the last word in the vocab as the \"out-of-vocabulary\" token\n",
        "            Y.append(row[\"class\"])\n",
        "        self.X = X \n",
        "        self.Y = torch.tensor(Y)\n",
        "        \n",
        "    def __len__(self):\n",
        "        return len(self.X)\n",
        "\n",
        "    def __getitem__(self, idx):\n",
        "        return self.X[idx], self.Y[idx] \n",
        "    \n",
        "# my_collate_function prepares batches\n",
        "# it also pads each batch with zeroes.\n",
        "\n",
        "def my_collate_function(batch, device):\n",
        "    # Handle the padding here\n",
        "    # batch is approximately: [dataset[i] for i in range(0, batch_size)]\n",
        "    # Since the dataset[i]'s contents is defined in the __getitem__() above, this collate function \n",
        "    # should be set correspondingly.\n",
        "    # Also: collate_function just takes one argument. To pass in additional arguments (e.g., device), \n",
        "    # we need to wrap up an anonymous function (using lambda below)\n",
        "    batch_x, batch_y = [], []\n",
        "    max_len = 0\n",
        "    for x,y in batch:\n",
        "        batch_y.append(y)\n",
        "        max_len = max(max_len, len(x))\n",
        "    for x,y in batch:\n",
        "        x_p = torch.concat(\n",
        "            [x, torch.zeros(max_len - len(x))]\n",
        "        )\n",
        "        batch_x.append(x_p)\n",
        "    return torch.stack(batch_x).t().int().to(device), torch.tensor(batch_y).to(device)"
      ],
      "metadata": {
        "id": "9nJKU2-0KuCh"
      },
      "execution_count": 47,
      "outputs": []
    },
    {
      "cell_type": "code",
      "source": [
        "batch_size_num = 16\n",
        "device = torch.device('cuda' if torch.cuda.is_available() else 'cpu')\n",
        "glove = torchtext.vocab.GloVe(name=\"6B\",dim=100) # embedding size = 100\n",
        "                                \n",
        "train_dataset = TextDataset(glove, \"train\")\n",
        "val_dataset = TextDataset(glove, \"validation\")\n",
        "test_dataset = TextDataset(glove, \"test\")\n",
        "    \n",
        "train_dataloader = torch.utils.data.DataLoader(\n",
        "  dataset=train_dataset, \n",
        "  batch_size=batch_size_num, \n",
        "  shuffle=False, \n",
        "  collate_fn=lambda batch: my_collate_function(batch, device))\n",
        "\n",
        "validation_dataloader = torch.utils.data.DataLoader(\n",
        "  dataset=val_dataset, \n",
        "  batch_size=batch_size_num, \n",
        "  shuffle=False, \n",
        "  collate_fn=lambda batch: my_collate_function(batch, device))\n",
        "\n",
        "test_dataloader = torch.utils.data.DataLoader(\n",
        "  dataset=test_dataset,\n",
        "  batch_size=batch_size_num,\n",
        "  shuffle=False,\n",
        "  collate_fn=lambda batch: my_collate_function(batch, device))\n",
        "\n",
        "# for text, label in train_dataloader:\n",
        "#   print(text)\n",
        "#   print(label)"
      ],
      "metadata": {
        "id": "HiBc_fhoXfqK"
      },
      "execution_count": 48,
      "outputs": []
    },
    {
      "cell_type": "markdown",
      "source": [
        "# Define the models & training"
      ],
      "metadata": {
        "id": "e99_n7GgMwvh"
      }
    },
    {
      "cell_type": "markdown",
      "source": [
        "## Neural Network Baseline "
      ],
      "metadata": {
        "id": "xHaW3bmVMzkU"
      }
    },
    {
      "cell_type": "code",
      "source": [
        "# class BaselineModel(torch.nn.Module):\n",
        "#   def __init__(self, embedding_size, vocab):\n",
        "#       super().__init__()\n",
        "#       self.embedding = torch.nn.Embedding.from_pretrained(vocab.vectors)  # embedding layer\n",
        "#       self.expanding_1 = torch.nn.Linear(embedding_size, 20) # hidden layer 1\n",
        "#       self.expanding_2 = torch.nn.Linear(20, 3) # hidden layer 2\n",
        "      \n",
        "#   def forward(self, x):\n",
        "#       e = self.embedding(x)\n",
        "#       output = self.expanding_1(torch.mean(e, 0))\n",
        "#       output = self.expanding_2(output)\n",
        "\n",
        "#       return output, e"
      ],
      "metadata": {
        "id": "g8QJI2owPgmw"
      },
      "execution_count": 49,
      "outputs": []
    },
    {
      "cell_type": "code",
      "source": [
        "class BaselineModel(torch.nn.Module):\n",
        "  def __init__(self, embedding_size, vocab):\n",
        "      super().__init__()\n",
        "      self.embedding = torch.nn.Embedding.from_pretrained(vocab.vectors)  # embedding layer\n",
        "      self.expanding = torch.nn.Linear(embedding_size, 3) # hidden layer\n",
        "      \n",
        "  def forward(self, x):\n",
        "      e = self.embedding(x)\n",
        "      output = self.expanding(torch.mean(e, 0))\n",
        "      output = torch.softmax(output, 1)\n",
        "\n",
        "      return output, e"
      ],
      "metadata": {
        "id": "pAqQ7agbc7MA"
      },
      "execution_count": 50,
      "outputs": []
    },
    {
      "cell_type": "code",
      "source": [
        "def train_model(glove, train_dataloader, validation_dataloader, learning_rate, epochs, batch_size):\n",
        "  embedding_size = 100\n",
        "\n",
        "  # Instantiate the model & set up the optimizer\n",
        "  model = BaselineModel(embedding_size, glove)\n",
        "  criterion = torch.nn.CrossEntropyLoss() # Cross Entropy [0.2 0.7 0.1] [0, 1, 0]\n",
        "  optimizer = torch.optim.SGD(model.parameters(), lr=learning_rate)\n",
        "\n",
        "  train_losses, val_losses, train_acc, val_acc = [], [], [], []\n",
        "\n",
        "  for epoch in range(epochs):\n",
        "      train_loss, val_loss, train_acc_count_epoch, val_acc_count_epoch = 0, 0, 0, 0\n",
        "\n",
        "      for text, label in train_dataloader:\n",
        "        # forward\n",
        "        output, e = model(text) \n",
        "        loss = criterion(output.squeeze(), label)\n",
        "        # output = torch.softmax(output, 1)\n",
        "        output = torch.max(output, 1).indices\n",
        "        train_acc_count_epoch += torch.sum(output == label).item()\n",
        "        \n",
        "        # backward\n",
        "        optimizer.zero_grad()\n",
        "        loss.backward()\n",
        "        optimizer.step()\n",
        "        train_loss += loss.item()\n",
        "      \n",
        "      mean_train_loss = train_loss / len(train_dataloader)\n",
        "      mean_train_acc = train_acc_count_epoch / (len(train_dataloader) * batch_size)\n",
        "\n",
        "      with torch.no_grad():\n",
        "        for text_val, label_val in validation_dataloader:\n",
        "          output_val, e_val = model(text_val) \n",
        "          loss_val = criterion(output_val.squeeze(), label_val)\n",
        "          val_loss += loss_val.item()\n",
        "\n",
        "          output_val = torch.softmax(output_val, 1)\n",
        "          output_val = torch.max(output_val, 1).indices\n",
        "          val_acc_count_epoch += torch.sum(output_val == label_val).item()\n",
        "\n",
        "      mean_val_loss = val_loss / len(validation_dataloader)\n",
        "      mean_val_acc = val_acc_count_epoch / (len(validation_dataloader) * batch_size)\n",
        "\n",
        "\n",
        "      print('Epoch: ', epoch, 'train_loss: ', mean_train_loss, 'validation_loss: ', mean_val_loss, 'train_acc: ', mean_train_acc, 'val_acc: ', mean_val_acc)\n",
        "      train_losses.append(mean_train_loss)\n",
        "      val_losses.append(mean_val_loss)\n",
        "      train_acc.append(mean_train_acc)\n",
        "      val_acc.append(mean_val_acc)\n",
        "\n",
        "\n",
        "  return model, train_losses, val_losses, train_acc, val_acc\n",
        "  "
      ],
      "metadata": {
        "id": "LowhyHqdbcpl"
      },
      "execution_count": 51,
      "outputs": []
    },
    {
      "cell_type": "code",
      "source": [
        "ephochs = 50\n",
        "learning_rate = 1e-4\n",
        "torch.manual_seed(2) # fix seed\n",
        "\n",
        "device = torch.device('cuda' if torch.cuda.is_available() else 'cpu')\n",
        "print (\"Using device:\", device)\n",
        "\n",
        "\n",
        "model, train_losses, val_losses, train_acc, val_acc = train_model(glove, train_dataloader, validation_dataloader, learning_rate, ephochs, batch_size_num)\n"
      ],
      "metadata": {
        "colab": {
          "base_uri": "https://localhost:8080/"
        },
        "id": "18B4T8leIIJP",
        "outputId": "aec3687e-970c-4d26-b7d1-d7d894c0c54b"
      },
      "execution_count": 52,
      "outputs": [
        {
          "output_type": "stream",
          "name": "stdout",
          "text": [
            "Using device: cpu\n",
            "Epoch:  0 train_loss:  1.1027185757492863 validation_loss:  1.1022553138954694 train_acc:  0.3346656976744186 val_acc:  0.33430232558139533\n",
            "Epoch:  1 train_loss:  1.1026621086652888 validation_loss:  1.102205334707748 train_acc:  0.3346656976744186 val_acc:  0.33430232558139533\n",
            "Epoch:  2 train_loss:  1.1026067927826282 validation_loss:  1.1021564228590144 train_acc:  0.3339389534883721 val_acc:  0.33430232558139533\n",
            "Epoch:  3 train_loss:  1.1025525754274323 validation_loss:  1.1021084702292154 train_acc:  0.3339389534883721 val_acc:  0.33430232558139533\n",
            "Epoch:  4 train_loss:  1.1024994150150653 validation_loss:  1.1020615211752958 train_acc:  0.33430232558139533 val_acc:  0.33430232558139533\n",
            "Epoch:  5 train_loss:  1.102447287287823 validation_loss:  1.102015495300293 train_acc:  0.3339389534883721 val_acc:  0.33430232558139533\n",
            "Epoch:  6 train_loss:  1.1023961936318598 validation_loss:  1.1019703870595887 train_acc:  0.3339389534883721 val_acc:  0.3328488372093023\n",
            "Epoch:  7 train_loss:  1.1023460591948309 validation_loss:  1.1019261659577835 train_acc:  0.3339389534883721 val_acc:  0.3328488372093023\n",
            "Epoch:  8 train_loss:  1.1022968680359597 validation_loss:  1.101882812588714 train_acc:  0.3339389534883721 val_acc:  0.3328488372093023\n",
            "Epoch:  9 train_loss:  1.1022486069867776 validation_loss:  1.1018402992292893 train_acc:  0.3339389534883721 val_acc:  0.3328488372093023\n",
            "Epoch:  10 train_loss:  1.1022012316903402 validation_loss:  1.1017985842948737 train_acc:  0.3328488372093023 val_acc:  0.33430232558139533\n",
            "Epoch:  11 train_loss:  1.1021547449189564 validation_loss:  1.1017576566962308 train_acc:  0.3324854651162791 val_acc:  0.33430232558139533\n",
            "Epoch:  12 train_loss:  1.1021090884541356 validation_loss:  1.101717510888743 train_acc:  0.3324854651162791 val_acc:  0.33430232558139533\n",
            "Epoch:  13 train_loss:  1.10206426437511 validation_loss:  1.1016780831093012 train_acc:  0.3324854651162791 val_acc:  0.33430232558139533\n",
            "Epoch:  14 train_loss:  1.102020216542621 validation_loss:  1.1016394038533055 train_acc:  0.3324854651162791 val_acc:  0.33575581395348836\n",
            "Epoch:  15 train_loss:  1.101976974758991 validation_loss:  1.1016013927237933 train_acc:  0.3324854651162791 val_acc:  0.3372093023255814\n",
            "Epoch:  16 train_loss:  1.1019344690234163 validation_loss:  1.1015641079392544 train_acc:  0.3324854651162791 val_acc:  0.3386627906976744\n",
            "Epoch:  17 train_loss:  1.1018927014151285 validation_loss:  1.1015274108842361 train_acc:  0.3328488372093023 val_acc:  0.3386627906976744\n",
            "Epoch:  18 train_loss:  1.1018516525279645 validation_loss:  1.1014914152234099 train_acc:  0.3332122093023256 val_acc:  0.3386627906976744\n",
            "Epoch:  19 train_loss:  1.1018112897872925 validation_loss:  1.1014560294705769 train_acc:  0.3332122093023256 val_acc:  0.3386627906976744\n",
            "Epoch:  20 train_loss:  1.1017716021038766 validation_loss:  1.1014212508534276 train_acc:  0.3332122093023256 val_acc:  0.3386627906976744\n",
            "Epoch:  21 train_loss:  1.1017325790815575 validation_loss:  1.1013870377873265 train_acc:  0.3335755813953488 val_acc:  0.3386627906976744\n",
            "Epoch:  22 train_loss:  1.1016942040864812 validation_loss:  1.1013534429461458 train_acc:  0.3335755813953488 val_acc:  0.3386627906976744\n",
            "Epoch:  23 train_loss:  1.1016564348409341 validation_loss:  1.1013203831606133 train_acc:  0.3335755813953488 val_acc:  0.3386627906976744\n",
            "Epoch:  24 train_loss:  1.1016192755033805 validation_loss:  1.1012878778368929 train_acc:  0.3332122093023256 val_acc:  0.3386627906976744\n",
            "Epoch:  25 train_loss:  1.101582717063815 validation_loss:  1.101255865984185 train_acc:  0.3335755813953488 val_acc:  0.3386627906976744\n",
            "Epoch:  26 train_loss:  1.1015467220960662 validation_loss:  1.101224380870198 train_acc:  0.3335755813953488 val_acc:  0.34011627906976744\n",
            "Epoch:  27 train_loss:  1.1015112906001334 validation_loss:  1.1011934086333874 train_acc:  0.3339389534883721 val_acc:  0.34011627906976744\n",
            "Epoch:  28 train_loss:  1.10147639901139 validation_loss:  1.101162924322971 train_acc:  0.3335755813953488 val_acc:  0.34011627906976744\n",
            "Epoch:  29 train_loss:  1.101442047329836 validation_loss:  1.1011328974435495 train_acc:  0.3335755813953488 val_acc:  0.34011627906976744\n",
            "Epoch:  30 train_loss:  1.101408213376999 validation_loss:  1.1011033446289773 train_acc:  0.3332122093023256 val_acc:  0.34011627906976744\n",
            "Epoch:  31 train_loss:  1.1013748763605606 validation_loss:  1.1010742409284724 train_acc:  0.3335755813953488 val_acc:  0.3386627906976744\n",
            "Epoch:  32 train_loss:  1.1013420314289804 validation_loss:  1.1010455530743266 train_acc:  0.3335755813953488 val_acc:  0.34011627906976744\n",
            "Epoch:  33 train_loss:  1.1013096661068673 validation_loss:  1.10101733928503 train_acc:  0.3335755813953488 val_acc:  0.34011627906976744\n",
            "Epoch:  34 train_loss:  1.1012777776219125 validation_loss:  1.1009895191636196 train_acc:  0.3335755813953488 val_acc:  0.34011627906976744\n",
            "Epoch:  35 train_loss:  1.1012463410233342 validation_loss:  1.1009620677593142 train_acc:  0.33430232558139533 val_acc:  0.34011627906976744\n",
            "Epoch:  36 train_loss:  1.10121534938036 validation_loss:  1.1009350765583128 train_acc:  0.33430232558139533 val_acc:  0.34011627906976744\n",
            "Epoch:  37 train_loss:  1.1011847867522129 validation_loss:  1.1009084346682527 train_acc:  0.33430232558139533 val_acc:  0.34011627906976744\n",
            "Epoch:  38 train_loss:  1.1011546455150427 validation_loss:  1.1008821587229884 train_acc:  0.3335755813953488 val_acc:  0.34011627906976744\n",
            "Epoch:  39 train_loss:  1.1011249145796134 validation_loss:  1.1008562265440476 train_acc:  0.3339389534883721 val_acc:  0.34011627906976744\n",
            "Epoch:  40 train_loss:  1.1010955994905427 validation_loss:  1.1008307018945382 train_acc:  0.33430232558139533 val_acc:  0.34011627906976744\n",
            "Epoch:  41 train_loss:  1.1010666669801223 validation_loss:  1.1008055182390435 train_acc:  0.3339389534883721 val_acc:  0.34011627906976744\n",
            "Epoch:  42 train_loss:  1.1010381274445111 validation_loss:  1.1007806423098543 train_acc:  0.3339389534883721 val_acc:  0.34011627906976744\n",
            "Epoch:  43 train_loss:  1.1010099607844686 validation_loss:  1.1007561212362245 train_acc:  0.3339389534883721 val_acc:  0.3386627906976744\n",
            "Epoch:  44 train_loss:  1.1009821545246035 validation_loss:  1.1007319134335185 train_acc:  0.33430232558139533 val_acc:  0.3372093023255814\n",
            "Epoch:  45 train_loss:  1.100954692031062 validation_loss:  1.1007080161294271 train_acc:  0.3339389534883721 val_acc:  0.33575581395348836\n",
            "Epoch:  46 train_loss:  1.100927592710007 validation_loss:  1.1006844348685687 train_acc:  0.3339389534883721 val_acc:  0.3372093023255814\n",
            "Epoch:  47 train_loss:  1.1009008343829665 validation_loss:  1.100661133610925 train_acc:  0.33430232558139533 val_acc:  0.3372093023255814\n",
            "Epoch:  48 train_loss:  1.1008743962576224 validation_loss:  1.100638140079587 train_acc:  0.3346656976744186 val_acc:  0.3386627906976744\n",
            "Epoch:  49 train_loss:  1.1008482845716698 validation_loss:  1.1006154459576274 train_acc:  0.3346656976744186 val_acc:  0.3386627906976744\n"
          ]
        }
      ]
    },
    {
      "cell_type": "code",
      "source": [
        "fig = plt.figure()\n",
        "plt.plot(range(0, ephochs), train_losses, label ='training loss')\n",
        "plt.plot(range(0, ephochs), val_losses, label ='validation loss')\n",
        "plt.title(\"Plot for training and validation loss\")\n",
        "plt.xlabel(\"number of ephocs\")\n",
        "plt.ylabel(\"loss\")\n",
        "plt.legend()\n",
        "plt.show()\n",
        "\n",
        "fig = plt.figure()\n",
        "plt.plot(range(0, ephochs), train_acc, label ='training acc')\n",
        "plt.plot(range(0, ephochs), val_acc, label ='validation acc')\n",
        "plt.title(\"Plot for training and validation accuracy\")\n",
        "plt.xlabel(\"number of ephocs\")\n",
        "plt.ylabel(\"accuracy\")\n",
        "plt.legend()\n",
        "plt.show()"
      ],
      "metadata": {
        "colab": {
          "base_uri": "https://localhost:8080/",
          "height": 585
        },
        "id": "Rd6kcfc1Wqm-",
        "outputId": "08087ebb-89d6-4fa3-cc9a-4426a9649487"
      },
      "execution_count": 53,
      "outputs": [
        {
          "output_type": "display_data",
          "data": {
            "text/plain": [
              "<Figure size 432x288 with 1 Axes>"
            ],
            "image/png": "[encoded data removed]"
          },
          "metadata": {}
        },
        {
          "output_type": "display_data",
          "data": {
            "text/plain": [
              "<Figure size 432x288 with 1 Axes>"
            ],
            "image/png": "[encoded data removed]"
          },
          "metadata": {}
        }
      ]
    }
  ]
}