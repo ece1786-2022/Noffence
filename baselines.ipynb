{
  "cells": [
    {
      "cell_type": "code",
      "execution_count": null,
      "metadata": {
        "id": "MzQ-68C6DbRS"
      },
      "outputs": [],
      "source": [
        "import re\n",
        "import numpy as np\n",
        "import pandas as pd\n",
        "import seaborn as sns\n",
        "import matplotlib.pyplot as plt\n",
        "\n",
        "# import nltk\n",
        "# from nltk.tokenize import word_tokenize\n",
        "# from nltk.corpus import stopwords\n",
        "\n",
        "from sklearn.model_selection import train_test_split\n",
        "\n",
        "# nltk.download('punkt')\n",
        "# nltk.download('stopwords')\n",
        "# stopwords_list = stopwords.words('english')\n",
        "\n",
        "import torch\n",
        "import torchtext\n",
        "from torchtext import data\n",
        "import os"
      ]
    },
    {
      "cell_type": "code",
      "execution_count": null,
      "metadata": {
        "colab": {
          "base_uri": "https://localhost:8080/"
        },
        "id": "OUuVyOkkFjWW",
        "outputId": "463ce796-78d5-4a1f-975b-ca0dfef3fd6c"
      },
      "outputs": [
        {
          "name": "stdout",
          "output_type": "stream",
          "text": [
            "Drive already mounted at /content/drive; to attempt to forcibly remount, call drive.mount(\"/content/drive\", force_remount=True).\n"
          ]
        }
      ],
      "source": [
        "from google.colab import drive\n",
        "drive.mount('/content/drive')"
      ]
    },
    {
      "cell_type": "code",
      "execution_count": null,
      "metadata": {
        "colab": {
          "base_uri": "https://localhost:8080/"
        },
        "id": "GOS4g-bvFtYB",
        "outputId": "05da7948-8ff2-4d53-aa35-d933fe6d9499"
      },
      "outputs": [
        {
          "name": "stdout",
          "output_type": "stream",
          "text": [
            "/content/drive/MyDrive/Colab Notebooks/ECE1786/Project\n"
          ]
        }
      ],
      "source": [
        "#os.chdir(\"/content/drive/MyDrive/ECE1786/Project\")\n",
        "%cd /content/drive/MyDrive/Colab Notebooks/ECE1786/Project"
      ]
    },
    {
      "cell_type": "code",
      "execution_count": null,
      "metadata": {
        "colab": {
          "base_uri": "https://localhost:8080/"
        },
        "id": "QGx-bhuXGJ-k",
        "outputId": "8c2a042a-1851-4e1d-ebbc-4a11e8111dd9"
      },
      "outputs": [
        {
          "name": "stdout",
          "output_type": "stream",
          "text": [
            "baselines.ipynb  BERT_GRU.ipynb  \u001b[0m\u001b[01;34mdata\u001b[0m/                     GPT2.ipynb\n",
            "BERT_base.ipynb  CNN.ipynb       data_preprocessing.ipynb\n"
          ]
        }
      ],
      "source": [
        "ls"
      ]
    },
    {
      "cell_type": "markdown",
      "metadata": {
        "id": "0EC0z6DXJZJy"
      },
      "source": [
        "# Prepare the Data for Input\n",
        "we will use TorchText with our edited Dataset to prepare the model input data"
      ]
    },
    {
      "cell_type": "code",
      "execution_count": null,
      "metadata": {
        "id": "UmF3sibKbZkq"
      },
      "outputs": [],
      "source": [
        "train = pd.read_csv('data/train.tsv', sep=\"\\t\")[['tweet', 'class']]\n",
        "val = pd.read_csv('data/validation.tsv', sep=\"\\t\")[['tweet', 'class']]\n",
        "test = pd.read_csv('data/test.tsv', sep=\"\\t\")[['tweet', 'class']]"
      ]
    },
    {
      "cell_type": "code",
      "execution_count": null,
      "metadata": {
        "id": "9nJKU2-0KuCh"
      },
      "outputs": [],
      "source": [
        "class TextDataset(torch.utils.data.Dataset):\n",
        "    def __init__(self, vocab, split=\"train\"):\n",
        "        data_path = \"data\"\n",
        "        df = pd.read_csv(os.path.join(data_path, f\"{split}.tsv\"), sep=\"\\t\")\n",
        "\n",
        "        # X: torch.tensor (maxlen, batch_size), padded indices\n",
        "        # Y: torch.tensor of len N\n",
        "        X, Y = [], []\n",
        "        V = len(vocab.vectors)\n",
        "        for i, row in df.iterrows():\n",
        "            L = row[\"tweet\"].split()\n",
        "            X.append(torch.tensor([vocab.stoi.get(w, V-1) for w in L]))  # Use the last word in the vocab as the \"out-of-vocabulary\" token\n",
        "            Y.append(row[\"class\"])\n",
        "        self.X = X \n",
        "        self.Y = torch.tensor(Y)\n",
        "        \n",
        "    def __len__(self):\n",
        "        return len(self.X)\n",
        "\n",
        "    def __getitem__(self, idx):\n",
        "        return self.X[idx], self.Y[idx] \n",
        "    \n",
        "# my_collate_function prepares batches\n",
        "# it also pads each batch with zeroes.\n",
        "\n",
        "def my_collate_function(batch, device):\n",
        "    # Handle the padding here\n",
        "    # batch is approximately: [dataset[i] for i in range(0, batch_size)]\n",
        "    # Since the dataset[i]'s contents is defined in the __getitem__() above, this collate function \n",
        "    # should be set correspondingly.\n",
        "    # Also: collate_function just takes one argument. To pass in additional arguments (e.g., device), \n",
        "    # we need to wrap up an anonymous function (using lambda below)\n",
        "    batch_x, batch_y = [], []\n",
        "    max_len = 0\n",
        "    for x,y in batch:\n",
        "        batch_y.append(y)\n",
        "        max_len = max(max_len, len(x))\n",
        "    for x,y in batch:\n",
        "        x_p = torch.concat(\n",
        "            [x, torch.zeros(max_len - len(x))]\n",
        "        )\n",
        "        batch_x.append(x_p)\n",
        "    return torch.stack(batch_x).t().int().to(device), torch.tensor(batch_y).to(device)"
      ]
    },
    {
      "cell_type": "code",
      "execution_count": null,
      "metadata": {
        "id": "HiBc_fhoXfqK"
      },
      "outputs": [],
      "source": [
        "batch_size_num = 16\n",
        "device = torch.device('cuda' if torch.cuda.is_available() else 'cpu')\n",
        "glove = torchtext.vocab.GloVe(name=\"6B\",dim=100) # embedding size = 100\n",
        "                                \n",
        "train_dataset = TextDataset(glove, \"train\")\n",
        "val_dataset = TextDataset(glove, \"validation\")\n",
        "test_dataset = TextDataset(glove, \"test\")\n",
        "    \n",
        "train_dataloader = torch.utils.data.DataLoader(\n",
        "  dataset=train_dataset, \n",
        "  batch_size=batch_size_num, \n",
        "  shuffle=False, \n",
        "  collate_fn=lambda batch: my_collate_function(batch, device))\n",
        "\n",
        "validation_dataloader = torch.utils.data.DataLoader(\n",
        "  dataset=val_dataset, \n",
        "  batch_size=batch_size_num, \n",
        "  shuffle=False, \n",
        "  collate_fn=lambda batch: my_collate_function(batch, device))\n",
        "\n",
        "test_dataloader = torch.utils.data.DataLoader(\n",
        "  dataset=test_dataset,\n",
        "  batch_size=len(test_dataset),\n",
        "  shuffle=False,\n",
        "  collate_fn=lambda batch: my_collate_function(batch, device))\n",
        "\n"
      ]
    },
    {
      "cell_type": "markdown",
      "metadata": {
        "id": "e99_n7GgMwvh"
      },
      "source": [
        "# Define the models & training"
      ]
    },
    {
      "cell_type": "markdown",
      "metadata": {
        "id": "TsEkN1triTIn"
      },
      "source": [
        "## SVM + BOW Baseline "
      ]
    },
    {
      "cell_type": "code",
      "execution_count": null,
      "metadata": {
        "id": "44e8Zh5Qi93P"
      },
      "outputs": [],
      "source": [
        "from sklearn.feature_extraction.text import TfidfVectorizer"
      ]
    },
    {
      "cell_type": "code",
      "execution_count": null,
      "metadata": {
        "id": "e7UVTOaSia1c"
      },
      "outputs": [],
      "source": [
        "tfidfvectorizer = TfidfVectorizer(analyzer='word', stop_words='english', max_features=5000)\n",
        "X_train_tfidf = tfidfvectorizer.fit_transform(train['tweet'])\n",
        "X_val_tfidf = tfidfvectorizer.transform(val['tweet'])\n",
        "X_test_tfidf = tfidfvectorizer.transform(test['tweet'])"
      ]
    },
    {
      "cell_type": "code",
      "execution_count": null,
      "metadata": {
        "id": "mwasTT-0kOre"
      },
      "outputs": [],
      "source": [
        "from sklearn.svm import LinearSVC, SVC\n",
        "from sklearn.linear_model import LogisticRegression\n",
        "from sklearn.metrics import accuracy_score, confusion_matrix, classification_report\n",
        "from sklearn.model_selection import cross_validate, GridSearchCV"
      ]
    },
    {
      "cell_type": "code",
      "execution_count": null,
      "metadata": {
        "id": "Bi3iNvbTr2Lz"
      },
      "outputs": [],
      "source": []
    },
    {
      "cell_type": "code",
      "execution_count": null,
      "metadata": {
        "id": "RjijU0w_jRgk"
      },
      "outputs": [],
      "source": [
        "linearsvc = LinearSVC() # implemented in terms of liblinear, so more flexibility and should scale better to large numbers of samples.\n",
        "linearsvc.fit(X_train_tfidf, train['class'])\n",
        "linearsvc_predictions = linearsvc.predict(X_test_tfidf)\n"
      ]
    },
    {
      "cell_type": "code",
      "execution_count": null,
      "metadata": {
        "colab": {
          "base_uri": "https://localhost:8080/"
        },
        "id": "RFXn4FV0lKHT",
        "outputId": "9b922a2f-4a0f-45b1-a0d7-2db5c326ffaa"
      },
      "outputs": [
        {
          "name": "stdout",
          "output_type": "stream",
          "text": [
            "              precision    recall  f1-score   support\n",
            "\n",
            "           0       0.89      0.91      0.90      2000\n",
            "           1       0.91      0.86      0.88      2000\n",
            "           2       0.94      0.97      0.95      2000\n",
            "\n",
            "    accuracy                           0.91      6000\n",
            "   macro avg       0.91      0.91      0.91      6000\n",
            "weighted avg       0.91      0.91      0.91      6000\n",
            "\n"
          ]
        }
      ],
      "source": [
        "confusion_matrix(test['class'],linearsvc_predictions)\n",
        "print(classification_report(test['class'],linearsvc_predictions))"
      ]
    },
    {
      "cell_type": "code",
      "execution_count": null,
      "metadata": {
        "colab": {
          "base_uri": "https://localhost:8080/",
          "height": 265
        },
        "id": "RmICGOkIIjap",
        "outputId": "c0ec9702-ab9b-4a7f-bb08-c49bb25acc2b"
      },
      "outputs": [
        {
          "data": {
            "image/png": "[encoded data removed]",
            "text/plain": [
              "<Figure size 432x288 with 2 Axes>"
            ]
          },
          "metadata": {
            "needs_background": "light"
          },
          "output_type": "display_data"
        }
      ],
      "source": [
        "sns.heatmap(confusion_matrix(test['class'],linearsvc_predictions), annot=True, fmt='.0f', cmap=plt.cm.Blues)\n",
        "plt.show()"
      ]
    },
    {
      "cell_type": "code",
      "execution_count": null,
      "metadata": {
        "id": "PEpcnRw1uzAP"
      },
      "outputs": [],
      "source": [
        "lr = LogisticRegression(max_iter=200) # max_iter=100 by default, connot converge \n",
        "lr.fit(X_train_tfidf, train['class'])\n",
        "lr_predictions = lr.predict(X_test_tfidf)\n"
      ]
    },
    {
      "cell_type": "code",
      "execution_count": null,
      "metadata": {
        "colab": {
          "base_uri": "https://localhost:8080/"
        },
        "id": "nb1VBIXnykCv",
        "outputId": "9d2bdde6-df04-4db2-b481-3986c7fd38c9"
      },
      "outputs": [
        {
          "name": "stdout",
          "output_type": "stream",
          "text": [
            "              precision    recall  f1-score   support\n",
            "\n",
            "           0       0.90      0.90      0.90      2000\n",
            "           1       0.92      0.86      0.89      2000\n",
            "           2       0.91      0.98      0.95      2000\n",
            "\n",
            "    accuracy                           0.91      6000\n",
            "   macro avg       0.91      0.91      0.91      6000\n",
            "weighted avg       0.91      0.91      0.91      6000\n",
            "\n"
          ]
        }
      ],
      "source": [
        "print(classification_report(test['class'],lr_predictions))"
      ]
    },
    {
      "cell_type": "code",
      "execution_count": null,
      "metadata": {
        "colab": {
          "base_uri": "https://localhost:8080/",
          "height": 265
        },
        "id": "pgHky9DXIt_9",
        "outputId": "1179a9b0-74b8-4b68-cef0-7c2082bb1daa"
      },
      "outputs": [
        {
          "data": {
            "image/png": "[encoded data removed]",
            "text/plain": [
              "<Figure size 432x288 with 2 Axes>"
            ]
          },
          "metadata": {
            "needs_background": "light"
          },
          "output_type": "display_data"
        }
      ],
      "source": [
        "sns.heatmap(confusion_matrix(test['class'],lr_predictions), annot=True, fmt='.0f', cmap=plt.cm.Blues)\n",
        "plt.show()"
      ]
    },
    {
      "cell_type": "markdown",
      "metadata": {
        "id": "xHaW3bmVMzkU"
      },
      "source": [
        "## Neural Network + Words Embeddings Baseline"
      ]
    },
    {
      "cell_type": "code",
      "execution_count": null,
      "metadata": {
        "id": "pAqQ7agbc7MA"
      },
      "outputs": [],
      "source": [
        "class BaselineModel(torch.nn.Module):\n",
        "    def __init__(self, embedding_size, vocab):\n",
        "        super().__init__()\n",
        "        self.embedding = torch.nn.Embedding.from_pretrained(vocab.vectors)  # embedding layer\n",
        "        self.expanding = torch.nn.Linear(embedding_size, 3) # hidden layer\n",
        "        \n",
        "    def forward(self, x):\n",
        "        e = self.embedding(x)\n",
        "        output = self.expanding(torch.mean(e, 0))\n",
        "        output = torch.softmax(output, 1)\n",
        "\n",
        "        return output"
      ]
    },
    {
      "cell_type": "code",
      "execution_count": null,
      "metadata": {
        "id": "LowhyHqdbcpl"
      },
      "outputs": [],
      "source": [
        "def train_model(glove, train_dataloader, validation_dataloader, learning_rate, epochs, batch_size):\n",
        "    embedding_size = 100\n",
        "\n",
        "    # Instantiate the model & set up the optimizer\n",
        "    model = BaselineModel(embedding_size, glove)\n",
        "    criterion = torch.nn.CrossEntropyLoss() # Cross Entropy [0.2 0.7 0.1] [0, 1, 0]\n",
        "    optimizer = torch.optim.Adam(model.parameters(), lr=learning_rate)\n",
        "\n",
        "    train_losses, val_losses, train_acc, val_acc = [], [], [], []\n",
        "\n",
        "    for epoch in range(epochs):\n",
        "        train_loss, val_loss, train_acc_count_epoch, val_acc_count_epoch = 0, 0, 0, 0\n",
        "\n",
        "        for text, label in train_dataloader:\n",
        "            # forward\n",
        "            output = model(text) \n",
        "            loss = criterion(output.squeeze(), label)\n",
        "            # output = torch.softmax(output, 1)\n",
        "            output = torch.max(output, 1).indices\n",
        "            train_acc_count_epoch += torch.sum(output == label).item()\n",
        "            \n",
        "            # backward\n",
        "            optimizer.zero_grad()\n",
        "            loss.backward()\n",
        "            optimizer.step()\n",
        "            train_loss += loss.item()\n",
        "        \n",
        "        mean_train_loss = train_loss / len(train_dataloader)\n",
        "        mean_train_acc = train_acc_count_epoch / (len(train_dataloader) * batch_size)\n",
        "\n",
        "        with torch.no_grad():\n",
        "            for text_val, label_val in validation_dataloader:\n",
        "                output_val = model(text_val) \n",
        "                loss_val = criterion(output_val.squeeze(), label_val.squeeze())\n",
        "                val_loss += loss_val.item()\n",
        "\n",
        "                output_val = torch.softmax(output_val, 1)\n",
        "                output_val = torch.max(output_val, 1).indices\n",
        "                val_acc_count_epoch += torch.sum(output_val == label_val).item()\n",
        "\n",
        "        mean_val_loss = val_loss / len(validation_dataloader)\n",
        "        mean_val_acc = val_acc_count_epoch / (len(validation_dataloader) * batch_size)\n",
        "\n",
        "\n",
        "        if epoch==0 or (epoch+1) % 10 == 0 or epoch == epochs-1:\n",
        "            print(' Epoch {} \\ttraining loss={:.7f} \\tvalidation loss={:.7f}'.format(epoch+1,mean_train_loss,mean_val_loss))\n",
        "            print('     \\t\\ttraining accuracy={:.2f}% \\tvalidation accuracy={:.2f}%'.format(mean_train_acc*100, mean_val_acc*100))\n",
        "\n",
        "        train_losses.append(mean_train_loss)\n",
        "        val_losses.append(mean_val_loss)\n",
        "        train_acc.append(mean_train_acc)\n",
        "        val_acc.append(mean_val_acc)\n",
        "\n",
        "\n",
        "    return model, train_losses, val_losses, train_acc, val_acc\n",
        "  "
      ]
    },
    {
      "cell_type": "code",
      "execution_count": null,
      "metadata": {
        "colab": {
          "base_uri": "https://localhost:8080/"
        },
        "id": "18B4T8leIIJP",
        "outputId": "304e7fdc-3b2e-49dc-a185-6b4d9aa7b8de"
      },
      "outputs": [
        {
          "name": "stdout",
          "output_type": "stream",
          "text": [
            "Using device: cpu\n",
            " Epoch 1 \ttraining loss=1.0201226 \tvalidation loss=0.9670240\n",
            "     \t\ttraining accuracy=55.56% \tvalidation accuracy=61.92%\n",
            " Epoch 10 \ttraining loss=0.8223464 \tvalidation loss=0.8207762\n",
            "     \t\ttraining accuracy=76.73% \tvalidation accuracy=76.52%\n",
            " Epoch 20 \ttraining loss=0.7903013 \tvalidation loss=0.7925353\n",
            "     \t\ttraining accuracy=78.38% \tvalidation accuracy=78.29%\n",
            " Epoch 30 \ttraining loss=0.7766385 \tvalidation loss=0.7805661\n",
            "     \t\ttraining accuracy=79.12% \tvalidation accuracy=78.71%\n",
            " Epoch 40 \ttraining loss=0.7687963 \tvalidation loss=0.7737884\n",
            "     \t\ttraining accuracy=79.59% \tvalidation accuracy=78.98%\n",
            " Epoch 50 \ttraining loss=0.7635621 \tvalidation loss=0.7693253\n",
            "     \t\ttraining accuracy=79.81% \tvalidation accuracy=79.06%\n",
            " Epoch 60 \ttraining loss=0.7597945 \tvalidation loss=0.7661713\n",
            "     \t\ttraining accuracy=80.03% \tvalidation accuracy=79.15%\n",
            " Epoch 70 \ttraining loss=0.7569473 \tvalidation loss=0.7638345\n",
            "     \t\ttraining accuracy=80.20% \tvalidation accuracy=79.23%\n",
            " Epoch 80 \ttraining loss=0.7547051 \tvalidation loss=0.7620413\n",
            "     \t\ttraining accuracy=80.31% \tvalidation accuracy=79.35%\n",
            " Epoch 90 \ttraining loss=0.7528874 \tvalidation loss=0.7606283\n",
            "     \t\ttraining accuracy=80.40% \tvalidation accuracy=79.48%\n",
            " Epoch 100 \ttraining loss=0.7513817 \tvalidation loss=0.7594892\n",
            "     \t\ttraining accuracy=80.49% \tvalidation accuracy=79.58%\n",
            " Epoch 110 \ttraining loss=0.7501129 \tvalidation loss=0.7585524\n",
            "     \t\ttraining accuracy=80.62% \tvalidation accuracy=79.56%\n",
            " Epoch 120 \ttraining loss=0.7490282 \tvalidation loss=0.7577688\n",
            "     \t\ttraining accuracy=80.69% \tvalidation accuracy=79.62%\n",
            " Epoch 130 \ttraining loss=0.7480894 \tvalidation loss=0.7571039\n",
            "     \t\ttraining accuracy=80.72% \tvalidation accuracy=79.65%\n",
            " Epoch 140 \ttraining loss=0.7472681 \tvalidation loss=0.7565333\n",
            "     \t\ttraining accuracy=80.76% \tvalidation accuracy=79.60%\n",
            " Epoch 150 \ttraining loss=0.7465425 \tvalidation loss=0.7560389\n",
            "     \t\ttraining accuracy=80.82% \tvalidation accuracy=79.65%\n"
          ]
        }
      ],
      "source": [
        "epochs = 150\n",
        "learning_rate = 2e-3\n",
        "torch.manual_seed(2) # fix seed\n",
        "\n",
        "device = torch.device('cuda' if torch.cuda.is_available() else 'cpu')\n",
        "print (\"Using device:\", device)\n",
        "\n",
        "\n",
        "model, train_losses, val_losses, train_acc, val_acc = train_model(glove, train_dataloader, validation_dataloader, learning_rate, epochs, batch_size_num)\n"
      ]
    },
    {
      "cell_type": "code",
      "execution_count": null,
      "metadata": {
        "colab": {
          "base_uri": "https://localhost:8080/",
          "height": 573
        },
        "id": "Rd6kcfc1Wqm-",
        "outputId": "6583c3eb-8c41-4c20-ebc5-67c32e641b43"
      },
      "outputs": [
        {
          "data": {
            "image/png": "[encoded data removed]",
            "text/plain": [
              "<Figure size 432x288 with 1 Axes>"
            ]
          },
          "metadata": {
            "needs_background": "light"
          },
          "output_type": "display_data"
        },
        {
          "data": {
            "image/png": "[encoded data removed]",
            "text/plain": [
              "<Figure size 432x288 with 1 Axes>"
            ]
          },
          "metadata": {
            "needs_background": "light"
          },
          "output_type": "display_data"
        }
      ],
      "source": [
        "fig = plt.figure()\n",
        "plt.plot(range(1, epochs+1), train_losses, label ='training loss')\n",
        "plt.plot(range(1, epochs+1), val_losses, label ='validation loss')\n",
        "plt.title(\"Plot for training and validation loss\")\n",
        "plt.xlabel(\"number of epochs\")\n",
        "plt.ylabel(\"loss\")\n",
        "plt.legend()\n",
        "plt.show()\n",
        "\n",
        "fig = plt.figure()\n",
        "plt.plot(range(1, epochs+1), train_acc, label ='training acc')\n",
        "plt.plot(range(1, epochs+1), val_acc, label ='validation acc')\n",
        "plt.title(\"Plot for training and validation accuracy\")\n",
        "plt.xlabel(\"number of epochs\")\n",
        "plt.ylabel(\"accuracy\")\n",
        "plt.legend()\n",
        "plt.show()"
      ]
    },
    {
      "cell_type": "code",
      "execution_count": null,
      "metadata": {
        "id": "mWOxjHuIvdDd"
      },
      "outputs": [],
      "source": [
        "for text_test, label_test in test_dataloader:\n",
        "    output_test = model(text_test) \n",
        "    output_test_softmax = torch.softmax(output_test, 1)\n",
        "    label_pred = torch.max(output_test_softmax, 1).indices\n"
      ]
    },
    {
      "cell_type": "code",
      "execution_count": null,
      "metadata": {
        "colab": {
          "base_uri": "https://localhost:8080/"
        },
        "id": "TNR-SKVgI63i",
        "outputId": "565709e2-47d9-4fc4-98fd-8820d1b7b6d1"
      },
      "outputs": [
        {
          "name": "stdout",
          "output_type": "stream",
          "text": [
            "              precision    recall  f1-score   support\n",
            "\n",
            "           0       0.73      0.81      0.77      2000\n",
            "           1       0.88      0.63      0.74      2000\n",
            "           2       0.76      0.88      0.82      2000\n",
            "\n",
            "    accuracy                           0.78      6000\n",
            "   macro avg       0.79      0.78      0.77      6000\n",
            "weighted avg       0.79      0.78      0.77      6000\n",
            "\n",
            "              precision    recall  f1-score   support\n",
            "\n",
            "           0       0.73      0.81      0.77      2000\n",
            "           1       0.88      0.63      0.74      2000\n",
            "           2       0.76      0.88      0.82      2000\n",
            "\n",
            "    accuracy                           0.78      6000\n",
            "   macro avg       0.79      0.78      0.77      6000\n",
            "weighted avg       0.79      0.78      0.77      6000\n",
            "\n"
          ]
        }
      ],
      "source": [
        "print(classification_report(label_test,label_pred))"
      ]
    },
    {
      "cell_type": "code",
      "execution_count": 47,
      "metadata": {
        "colab": {
          "base_uri": "https://localhost:8080/",
          "height": 265
        },
        "id": "Oga2gN6QI5zb",
        "outputId": "0f2fcdaa-bfe0-49f3-b99e-a46e00a13174"
      },
      "outputs": [
        {
          "data": {
            "image/png": "[encoded data removed]",
            "text/plain": [
              "<Figure size 432x288 with 2 Axes>"
            ]
          },
          "metadata": {
            "needs_background": "light"
          },
          "output_type": "display_data"
        }
      ],
      "source": [
        "sns.heatmap(confusion_matrix(label_test,label_pred), annot=True, fmt='.0f', cmap=plt.cm.Blues)\n",
        "plt.show()"
      ]
    }
  ],
  "metadata": {
    "colab": {
      "provenance": []
    },
    "kernelspec": {
      "display_name": "Python 3.9.13 ('base')",
      "language": "python",
      "name": "python3"
    },
    "language_info": {
      "name": "python",
      "version": "3.9.13"
    },
    "vscode": {
      "interpreter": {
        "hash": "49cb93f377a7abe7414b7b0f21fb3017538004a126cf690fb524202736b7fb92"
      }
    }
  },
  "nbformat": 4,
  "nbformat_minor": 0
}
