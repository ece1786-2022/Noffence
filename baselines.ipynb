{
  "nbformat": 4,
  "nbformat_minor": 0,
  "metadata": {
    "colab": {
      "provenance": [],
      "collapsed_sections": [
        "fp8EO8m2FRML"
      ]
    },
    "kernelspec": {
      "name": "python3",
      "display_name": "Python 3"
    },
    "language_info": {
      "name": "python"
    }
  },
  "cells": [
    {
      "cell_type": "code",
      "source": [
        "import re\n",
        "import numpy as np\n",
        "import pandas as pd\n",
        "import seaborn as sns\n",
        "import matplotlib.pyplot as plt\n",
        "\n",
        "import nltk\n",
        "from nltk.tokenize import word_tokenize\n",
        "from nltk.corpus import stopwords\n",
        "\n",
        "from sklearn.model_selection import train_test_split\n",
        "\n",
        "nltk.download('punkt')\n",
        "nltk.download('stopwords')\n",
        "stopwords_list = stopwords.words('english')\n",
        "\n",
        "import torch\n",
        "import torchtext\n",
        "from torchtext import data\n",
        "import os"
      ],
      "metadata": {
        "colab": {
          "base_uri": "https://localhost:8080/"
        },
        "id": "MzQ-68C6DbRS",
        "outputId": "24df1931-c5f3-406d-b4ad-5107a4348e08"
      },
      "execution_count": 3,
      "outputs": [
        {
          "output_type": "stream",
          "name": "stderr",
          "text": [
            "[nltk_data] Downloading package punkt to /root/nltk_data...\n",
            "[nltk_data]   Unzipping tokenizers/punkt.zip.\n",
            "[nltk_data] Downloading package stopwords to /root/nltk_data...\n",
            "[nltk_data]   Unzipping corpora/stopwords.zip.\n"
          ]
        }
      ]
    },
    {
      "cell_type": "code",
      "source": [
        "from google.colab import drive\n",
        "drive.mount('/content/drive')"
      ],
      "metadata": {
        "colab": {
          "base_uri": "https://localhost:8080/"
        },
        "id": "OUuVyOkkFjWW",
        "outputId": "0f7c0877-2eb4-4a49-97ed-d3bdacf18585"
      },
      "execution_count": 6,
      "outputs": [
        {
          "output_type": "stream",
          "name": "stdout",
          "text": [
            "Drive already mounted at /content/drive; to attempt to forcibly remount, call drive.mount(\"/content/drive\", force_remount=True).\n"
          ]
        }
      ]
    },
    {
      "cell_type": "code",
      "source": [
        "#os.chdir(\"/content/drive/MyDrive/ECE1786/Project\")\n",
        "%cd /content/drive/MyDrive/Colab Notebooks/ECE1786/Project"
      ],
      "metadata": {
        "id": "GOS4g-bvFtYB",
        "colab": {
          "base_uri": "https://localhost:8080/"
        },
        "outputId": "d96920ca-b35b-45a5-cb29-a35b058fbc8a"
      },
      "execution_count": 7,
      "outputs": [
        {
          "output_type": "stream",
          "name": "stdout",
          "text": [
            "/content/drive/MyDrive/Colab Notebooks/ECE1786/Project\n"
          ]
        }
      ]
    },
    {
      "cell_type": "code",
      "source": [
        "ls"
      ],
      "metadata": {
        "colab": {
          "base_uri": "https://localhost:8080/"
        },
        "id": "QGx-bhuXGJ-k",
        "outputId": "1e402aad-094d-489d-9fcc-f7d7ba1e33c1"
      },
      "execution_count": 8,
      "outputs": [
        {
          "output_type": "stream",
          "name": "stdout",
          "text": [
            "baselines.ipynb  \u001b[0m\u001b[01;34mdata\u001b[0m/\n"
          ]
        }
      ]
    },
    {
      "cell_type": "markdown",
      "source": [
        "# Data Preprocessing"
      ],
      "metadata": {
        "id": "2wtTbZJfBEaM"
      }
    },
    {
      "cell_type": "markdown",
      "source": [
        "## Load the dataset"
      ],
      "metadata": {
        "id": "fp8EO8m2FRML"
      }
    },
    {
      "cell_type": "markdown",
      "source": [
        "Dataset 1: Hate Speech and Offensive Language Dataset"
      ],
      "metadata": {
        "id": "dLvmBS-GFP8P"
      }
    },
    {
      "cell_type": "code",
      "execution_count": 9,
      "metadata": {
        "colab": {
          "base_uri": "https://localhost:8080/",
          "height": 206
        },
        "id": "foWuMoDz_-Zn",
        "outputId": "1aef0cb7-f600-4a02-8552-3d9fc8b5ed20"
      },
      "outputs": [
        {
          "output_type": "execute_result",
          "data": {
            "text/plain": [
              "   Unnamed: 0  count  hate_speech  offensive_language  neither  class  \\\n",
              "0           0      3            0                   0        3      2   \n",
              "1           1      3            0                   3        0      1   \n",
              "2           2      3            0                   3        0      1   \n",
              "3           3      3            0                   2        1      1   \n",
              "4           4      6            0                   6        0      1   \n",
              "\n",
              "                                               tweet  \n",
              "0  !!! RT @mayasolovely: As a woman you shouldn't...  \n",
              "1  !!!!! RT @mleew17: boy dats cold...tyga dwn ba...  \n",
              "2  !!!!!!! RT @UrKindOfBrand Dawg!!!! RT @80sbaby...  \n",
              "3  !!!!!!!!! RT @C_G_Anderson: @viva_based she lo...  \n",
              "4  !!!!!!!!!!!!! RT @ShenikaRoberts: The shit you...  "
            ],
            "text/html": [
              "\n",
              "  <div id=\"df-efd58922-5ff2-4109-b63a-b88fe7695087\">\n",
              "    <div class=\"colab-df-container\">\n",
              "      <div>\n",
              "<style scoped>\n",
              "    .dataframe tbody tr th:only-of-type {\n",
              "        vertical-align: middle;\n",
              "    }\n",
              "\n",
              "    .dataframe tbody tr th {\n",
              "        vertical-align: top;\n",
              "    }\n",
              "\n",
              "    .dataframe thead th {\n",
              "        text-align: right;\n",
              "    }\n",
              "</style>\n",
              "<table border=\"1\" class=\"dataframe\">\n",
              "  <thead>\n",
              "    <tr style=\"text-align: right;\">\n",
              "      <th></th>\n",
              "      <th>Unnamed: 0</th>\n",
              "      <th>count</th>\n",
              "      <th>hate_speech</th>\n",
              "      <th>offensive_language</th>\n",
              "      <th>neither</th>\n",
              "      <th>class</th>\n",
              "      <th>tweet</th>\n",
              "    </tr>\n",
              "  </thead>\n",
              "  <tbody>\n",
              "    <tr>\n",
              "      <th>0</th>\n",
              "      <td>0</td>\n",
              "      <td>3</td>\n",
              "      <td>0</td>\n",
              "      <td>0</td>\n",
              "      <td>3</td>\n",
              "      <td>2</td>\n",
              "      <td>!!! RT @mayasolovely: As a woman you shouldn't...</td>\n",
              "    </tr>\n",
              "    <tr>\n",
              "      <th>1</th>\n",
              "      <td>1</td>\n",
              "      <td>3</td>\n",
              "      <td>0</td>\n",
              "      <td>3</td>\n",
              "      <td>0</td>\n",
              "      <td>1</td>\n",
              "      <td>!!!!! RT @mleew17: boy dats cold...tyga dwn ba...</td>\n",
              "    </tr>\n",
              "    <tr>\n",
              "      <th>2</th>\n",
              "      <td>2</td>\n",
              "      <td>3</td>\n",
              "      <td>0</td>\n",
              "      <td>3</td>\n",
              "      <td>0</td>\n",
              "      <td>1</td>\n",
              "      <td>!!!!!!! RT @UrKindOfBrand Dawg!!!! RT @80sbaby...</td>\n",
              "    </tr>\n",
              "    <tr>\n",
              "      <th>3</th>\n",
              "      <td>3</td>\n",
              "      <td>3</td>\n",
              "      <td>0</td>\n",
              "      <td>2</td>\n",
              "      <td>1</td>\n",
              "      <td>1</td>\n",
              "      <td>!!!!!!!!! RT @C_G_Anderson: @viva_based she lo...</td>\n",
              "    </tr>\n",
              "    <tr>\n",
              "      <th>4</th>\n",
              "      <td>4</td>\n",
              "      <td>6</td>\n",
              "      <td>0</td>\n",
              "      <td>6</td>\n",
              "      <td>0</td>\n",
              "      <td>1</td>\n",
              "      <td>!!!!!!!!!!!!! RT @ShenikaRoberts: The shit you...</td>\n",
              "    </tr>\n",
              "  </tbody>\n",
              "</table>\n",
              "</div>\n",
              "      <button class=\"colab-df-convert\" onclick=\"convertToInteractive('df-efd58922-5ff2-4109-b63a-b88fe7695087')\"\n",
              "              title=\"Convert this dataframe to an interactive table.\"\n",
              "              style=\"display:none;\">\n",
              "        \n",
              "  <svg xmlns=\"http://www.w3.org/2000/svg\" height=\"24px\"viewBox=\"0 0 24 24\"\n",
              "       width=\"24px\">\n",
              "    <path d=\"M0 0h24v24H0V0z\" fill=\"none\"/>\n",
              "    <path d=\"M18.56 5.44l.94 2.06.94-2.06 2.06-.94-2.06-.94-.94-2.06-.94 2.06-2.06.94zm-11 1L8.5 8.5l.94-2.06 2.06-.94-2.06-.94L8.5 2.5l-.94 2.06-2.06.94zm10 10l.94 2.06.94-2.06 2.06-.94-2.06-.94-.94-2.06-.94 2.06-2.06.94z\"/><path d=\"M17.41 7.96l-1.37-1.37c-.4-.4-.92-.59-1.43-.59-.52 0-1.04.2-1.43.59L10.3 9.45l-7.72 7.72c-.78.78-.78 2.05 0 2.83L4 21.41c.39.39.9.59 1.41.59.51 0 1.02-.2 1.41-.59l7.78-7.78 2.81-2.81c.8-.78.8-2.07 0-2.86zM5.41 20L4 18.59l7.72-7.72 1.47 1.35L5.41 20z\"/>\n",
              "  </svg>\n",
              "      </button>\n",
              "      \n",
              "  <style>\n",
              "    .colab-df-container {\n",
              "      display:flex;\n",
              "      flex-wrap:wrap;\n",
              "      gap: 12px;\n",
              "    }\n",
              "\n",
              "    .colab-df-convert {\n",
              "      background-color: #E8F0FE;\n",
              "      border: none;\n",
              "      border-radius: 50%;\n",
              "      cursor: pointer;\n",
              "      display: none;\n",
              "      fill: #1967D2;\n",
              "      height: 32px;\n",
              "      padding: 0 0 0 0;\n",
              "      width: 32px;\n",
              "    }\n",
              "\n",
              "    .colab-df-convert:hover {\n",
              "      background-color: #E2EBFA;\n",
              "      box-shadow: 0px 1px 2px rgba(60, 64, 67, 0.3), 0px 1px 3px 1px rgba(60, 64, 67, 0.15);\n",
              "      fill: #174EA6;\n",
              "    }\n",
              "\n",
              "    [theme=dark] .colab-df-convert {\n",
              "      background-color: #3B4455;\n",
              "      fill: #D2E3FC;\n",
              "    }\n",
              "\n",
              "    [theme=dark] .colab-df-convert:hover {\n",
              "      background-color: #434B5C;\n",
              "      box-shadow: 0px 1px 3px 1px rgba(0, 0, 0, 0.15);\n",
              "      filter: drop-shadow(0px 1px 2px rgba(0, 0, 0, 0.3));\n",
              "      fill: #FFFFFF;\n",
              "    }\n",
              "  </style>\n",
              "\n",
              "      <script>\n",
              "        const buttonEl =\n",
              "          document.querySelector('#df-efd58922-5ff2-4109-b63a-b88fe7695087 button.colab-df-convert');\n",
              "        buttonEl.style.display =\n",
              "          google.colab.kernel.accessAllowed ? 'block' : 'none';\n",
              "\n",
              "        async function convertToInteractive(key) {\n",
              "          const element = document.querySelector('#df-efd58922-5ff2-4109-b63a-b88fe7695087');\n",
              "          const dataTable =\n",
              "            await google.colab.kernel.invokeFunction('convertToInteractive',\n",
              "                                                     [key], {});\n",
              "          if (!dataTable) return;\n",
              "\n",
              "          const docLinkHtml = 'Like what you see? Visit the ' +\n",
              "            '<a target=\"_blank\" href=https://colab.research.google.com/notebooks/data_table.ipynb>data table notebook</a>'\n",
              "            + ' to learn more about interactive tables.';\n",
              "          element.innerHTML = '';\n",
              "          dataTable['output_type'] = 'display_data';\n",
              "          await google.colab.output.renderOutput(dataTable, element);\n",
              "          const docLink = document.createElement('div');\n",
              "          docLink.innerHTML = docLinkHtml;\n",
              "          element.appendChild(docLink);\n",
              "        }\n",
              "      </script>\n",
              "    </div>\n",
              "  </div>\n",
              "  "
            ]
          },
          "metadata": {},
          "execution_count": 9
        }
      ],
      "source": [
        "# load dataset\n",
        "dataset1 = pd.read_csv('data/dataset1.csv')\n",
        "dataset1_bak = dataset1.copy()\n",
        "dataset1.head()"
      ]
    },
    {
      "cell_type": "code",
      "source": [
        "# only keep the text and label column\n",
        "dataset1.drop(dataset1.columns[[0,1,2,3,4]], axis=1, inplace=True)\n",
        "dataset1"
      ],
      "metadata": {
        "colab": {
          "base_uri": "https://localhost:8080/",
          "height": 424
        },
        "id": "d9xz0kf4DxgC",
        "outputId": "5a3ae9a5-f0be-4db5-a2df-34c02fde4bd5"
      },
      "execution_count": 10,
      "outputs": [
        {
          "output_type": "execute_result",
          "data": {
            "text/plain": [
              "       class                                              tweet\n",
              "0          2  !!! RT @mayasolovely: As a woman you shouldn't...\n",
              "1          1  !!!!! RT @mleew17: boy dats cold...tyga dwn ba...\n",
              "2          1  !!!!!!! RT @UrKindOfBrand Dawg!!!! RT @80sbaby...\n",
              "3          1  !!!!!!!!! RT @C_G_Anderson: @viva_based she lo...\n",
              "4          1  !!!!!!!!!!!!! RT @ShenikaRoberts: The shit you...\n",
              "...      ...                                                ...\n",
              "24778      1  you's a muthaf***in lie &#8220;@LifeAsKing: @2...\n",
              "24779      2  you've gone and broke the wrong heart baby, an...\n",
              "24780      1  young buck wanna eat!!.. dat nigguh like I ain...\n",
              "24781      1              youu got wild bitches tellin you lies\n",
              "24782      2  ~~Ruffled | Ntac Eileen Dahlia - Beautiful col...\n",
              "\n",
              "[24783 rows x 2 columns]"
            ],
            "text/html": [
              "\n",
              "  <div id=\"df-61c46c16-e118-4dfd-a686-5c391d48389e\">\n",
              "    <div class=\"colab-df-container\">\n",
              "      <div>\n",
              "<style scoped>\n",
              "    .dataframe tbody tr th:only-of-type {\n",
              "        vertical-align: middle;\n",
              "    }\n",
              "\n",
              "    .dataframe tbody tr th {\n",
              "        vertical-align: top;\n",
              "    }\n",
              "\n",
              "    .dataframe thead th {\n",
              "        text-align: right;\n",
              "    }\n",
              "</style>\n",
              "<table border=\"1\" class=\"dataframe\">\n",
              "  <thead>\n",
              "    <tr style=\"text-align: right;\">\n",
              "      <th></th>\n",
              "      <th>class</th>\n",
              "      <th>tweet</th>\n",
              "    </tr>\n",
              "  </thead>\n",
              "  <tbody>\n",
              "    <tr>\n",
              "      <th>0</th>\n",
              "      <td>2</td>\n",
              "      <td>!!! RT @mayasolovely: As a woman you shouldn't...</td>\n",
              "    </tr>\n",
              "    <tr>\n",
              "      <th>1</th>\n",
              "      <td>1</td>\n",
              "      <td>!!!!! RT @mleew17: boy dats cold...tyga dwn ba...</td>\n",
              "    </tr>\n",
              "    <tr>\n",
              "      <th>2</th>\n",
              "      <td>1</td>\n",
              "      <td>!!!!!!! RT @UrKindOfBrand Dawg!!!! RT @80sbaby...</td>\n",
              "    </tr>\n",
              "    <tr>\n",
              "      <th>3</th>\n",
              "      <td>1</td>\n",
              "      <td>!!!!!!!!! RT @C_G_Anderson: @viva_based she lo...</td>\n",
              "    </tr>\n",
              "    <tr>\n",
              "      <th>4</th>\n",
              "      <td>1</td>\n",
              "      <td>!!!!!!!!!!!!! RT @ShenikaRoberts: The shit you...</td>\n",
              "    </tr>\n",
              "    <tr>\n",
              "      <th>...</th>\n",
              "      <td>...</td>\n",
              "      <td>...</td>\n",
              "    </tr>\n",
              "    <tr>\n",
              "      <th>24778</th>\n",
              "      <td>1</td>\n",
              "      <td>you's a muthaf***in lie &amp;#8220;@LifeAsKing: @2...</td>\n",
              "    </tr>\n",
              "    <tr>\n",
              "      <th>24779</th>\n",
              "      <td>2</td>\n",
              "      <td>you've gone and broke the wrong heart baby, an...</td>\n",
              "    </tr>\n",
              "    <tr>\n",
              "      <th>24780</th>\n",
              "      <td>1</td>\n",
              "      <td>young buck wanna eat!!.. dat nigguh like I ain...</td>\n",
              "    </tr>\n",
              "    <tr>\n",
              "      <th>24781</th>\n",
              "      <td>1</td>\n",
              "      <td>youu got wild bitches tellin you lies</td>\n",
              "    </tr>\n",
              "    <tr>\n",
              "      <th>24782</th>\n",
              "      <td>2</td>\n",
              "      <td>~~Ruffled | Ntac Eileen Dahlia - Beautiful col...</td>\n",
              "    </tr>\n",
              "  </tbody>\n",
              "</table>\n",
              "<p>24783 rows × 2 columns</p>\n",
              "</div>\n",
              "      <button class=\"colab-df-convert\" onclick=\"convertToInteractive('df-61c46c16-e118-4dfd-a686-5c391d48389e')\"\n",
              "              title=\"Convert this dataframe to an interactive table.\"\n",
              "              style=\"display:none;\">\n",
              "        \n",
              "  <svg xmlns=\"http://www.w3.org/2000/svg\" height=\"24px\"viewBox=\"0 0 24 24\"\n",
              "       width=\"24px\">\n",
              "    <path d=\"M0 0h24v24H0V0z\" fill=\"none\"/>\n",
              "    <path d=\"M18.56 5.44l.94 2.06.94-2.06 2.06-.94-2.06-.94-.94-2.06-.94 2.06-2.06.94zm-11 1L8.5 8.5l.94-2.06 2.06-.94-2.06-.94L8.5 2.5l-.94 2.06-2.06.94zm10 10l.94 2.06.94-2.06 2.06-.94-2.06-.94-.94-2.06-.94 2.06-2.06.94z\"/><path d=\"M17.41 7.96l-1.37-1.37c-.4-.4-.92-.59-1.43-.59-.52 0-1.04.2-1.43.59L10.3 9.45l-7.72 7.72c-.78.78-.78 2.05 0 2.83L4 21.41c.39.39.9.59 1.41.59.51 0 1.02-.2 1.41-.59l7.78-7.78 2.81-2.81c.8-.78.8-2.07 0-2.86zM5.41 20L4 18.59l7.72-7.72 1.47 1.35L5.41 20z\"/>\n",
              "  </svg>\n",
              "      </button>\n",
              "      \n",
              "  <style>\n",
              "    .colab-df-container {\n",
              "      display:flex;\n",
              "      flex-wrap:wrap;\n",
              "      gap: 12px;\n",
              "    }\n",
              "\n",
              "    .colab-df-convert {\n",
              "      background-color: #E8F0FE;\n",
              "      border: none;\n",
              "      border-radius: 50%;\n",
              "      cursor: pointer;\n",
              "      display: none;\n",
              "      fill: #1967D2;\n",
              "      height: 32px;\n",
              "      padding: 0 0 0 0;\n",
              "      width: 32px;\n",
              "    }\n",
              "\n",
              "    .colab-df-convert:hover {\n",
              "      background-color: #E2EBFA;\n",
              "      box-shadow: 0px 1px 2px rgba(60, 64, 67, 0.3), 0px 1px 3px 1px rgba(60, 64, 67, 0.15);\n",
              "      fill: #174EA6;\n",
              "    }\n",
              "\n",
              "    [theme=dark] .colab-df-convert {\n",
              "      background-color: #3B4455;\n",
              "      fill: #D2E3FC;\n",
              "    }\n",
              "\n",
              "    [theme=dark] .colab-df-convert:hover {\n",
              "      background-color: #434B5C;\n",
              "      box-shadow: 0px 1px 3px 1px rgba(0, 0, 0, 0.15);\n",
              "      filter: drop-shadow(0px 1px 2px rgba(0, 0, 0, 0.3));\n",
              "      fill: #FFFFFF;\n",
              "    }\n",
              "  </style>\n",
              "\n",
              "      <script>\n",
              "        const buttonEl =\n",
              "          document.querySelector('#df-61c46c16-e118-4dfd-a686-5c391d48389e button.colab-df-convert');\n",
              "        buttonEl.style.display =\n",
              "          google.colab.kernel.accessAllowed ? 'block' : 'none';\n",
              "\n",
              "        async function convertToInteractive(key) {\n",
              "          const element = document.querySelector('#df-61c46c16-e118-4dfd-a686-5c391d48389e');\n",
              "          const dataTable =\n",
              "            await google.colab.kernel.invokeFunction('convertToInteractive',\n",
              "                                                     [key], {});\n",
              "          if (!dataTable) return;\n",
              "\n",
              "          const docLinkHtml = 'Like what you see? Visit the ' +\n",
              "            '<a target=\"_blank\" href=https://colab.research.google.com/notebooks/data_table.ipynb>data table notebook</a>'\n",
              "            + ' to learn more about interactive tables.';\n",
              "          element.innerHTML = '';\n",
              "          dataTable['output_type'] = 'display_data';\n",
              "          await google.colab.output.renderOutput(dataTable, element);\n",
              "          const docLink = document.createElement('div');\n",
              "          docLink.innerHTML = docLinkHtml;\n",
              "          element.appendChild(docLink);\n",
              "        }\n",
              "      </script>\n",
              "    </div>\n",
              "  </div>\n",
              "  "
            ]
          },
          "metadata": {},
          "execution_count": 10
        }
      ]
    },
    {
      "cell_type": "code",
      "source": [
        "# check the number of rows and columns\n",
        "dataset1.shape"
      ],
      "metadata": {
        "colab": {
          "base_uri": "https://localhost:8080/"
        },
        "id": "rJkdxvyyEsul",
        "outputId": "4a8a66ed-75f7-414d-e601-5e302f95d757"
      },
      "execution_count": 11,
      "outputs": [
        {
          "output_type": "execute_result",
          "data": {
            "text/plain": [
              "(24783, 2)"
            ]
          },
          "metadata": {},
          "execution_count": 11
        }
      ]
    },
    {
      "cell_type": "code",
      "source": [
        "# check if there is any null item\n",
        "dataset1.isnull().sum()"
      ],
      "metadata": {
        "colab": {
          "base_uri": "https://localhost:8080/"
        },
        "id": "B2enzmDuFwus",
        "outputId": "91abea94-d0c4-470e-bff1-b98f8a911b42"
      },
      "execution_count": 12,
      "outputs": [
        {
          "output_type": "execute_result",
          "data": {
            "text/plain": [
              "class    0\n",
              "tweet    0\n",
              "dtype: int64"
            ]
          },
          "metadata": {},
          "execution_count": 12
        }
      ]
    },
    {
      "cell_type": "code",
      "source": [
        "# helper function to convert abbreviated form to original form\n",
        "def convert_to_original(phrase):\n",
        "  # specific\n",
        "  phrase = re.sub(r\"won\\'t\", \"will not\", phrase)\n",
        "  phrase = re.sub(r\"can\\'t\", \"can not\", phrase)\n",
        "\n",
        "  # general\n",
        "  phrase = re.sub(r\"n\\'t\", \" not\", phrase)\n",
        "  phrase = re.sub(r\"\\'re\", \" are\", phrase)\n",
        "  phrase = re.sub(r\"\\'s\", \" is\", phrase)\n",
        "  phrase = re.sub(r\"\\'d\", \" would\", phrase)\n",
        "  phrase = re.sub(r\"\\'ll\", \" will\", phrase)\n",
        "  phrase = re.sub(r\"\\'t\", \" not\", phrase)\n",
        "  phrase = re.sub(r\"\\'ve\", \" have\", phrase)\n",
        "  phrase = re.sub(r\"\\'m\", \" am\", phrase)\n",
        "  return phrase"
      ],
      "metadata": {
        "id": "8gmv3CtJUHxM"
      },
      "execution_count": 13,
      "outputs": []
    },
    {
      "cell_type": "markdown",
      "source": [
        "## Data Cleaning"
      ],
      "metadata": {
        "id": "bzehOcJNFX4J"
      }
    },
    {
      "cell_type": "code",
      "source": [
        "# text data cleaning\n",
        "def data_processing(text):\n",
        "  # lower casing\n",
        "  text = str(text).lower()\n",
        "\n",
        "  # remove unicode strings\n",
        "  text = re.sub(r'(\\\\u[0-9A-Fa-f]+)', r'', text)\n",
        "\n",
        "  # remove non-ascii characters\n",
        "  text = re.sub(r'[^\\x00-\\x7f]', r'', text)\n",
        "\n",
        "  # remove @user indicaters\n",
        "  text = re.sub(r'@\\w+', r'', text)\n",
        "\n",
        "  # remove digits\n",
        "  text = re.sub(r'\\d', r'', text)\n",
        "\n",
        "  # remove '#' symbols inside strings\n",
        "  text = re.sub(r'#', r'', text)\n",
        "\n",
        "  # remove urls\n",
        "  text = re.sub(r'http\\S+', r'', text)\n",
        "\n",
        "  # remove multiple white spaces\n",
        "  text = re.sub(r'[\\s]+', r' ', text)\n",
        "\n",
        "  # remove multiple break-line with single white space.\n",
        "  text = re.sub(r'[\\n]+', r' ', text)\n",
        "\n",
        "  # tokenization\n",
        "  text = nltk.word_tokenize(text)\n",
        "\n",
        "  # convert abbreviated form to original form\n",
        "  text = convert_to_original(' '.join(text)).split()\n",
        "\n",
        "  # remove short strings with length=1 and length=2\n",
        "  text = [word for word in text if not len(word) in [1,2]]\n",
        "\n",
        "  # remove non-alphanumeric characters\n",
        "  text = [word for word in text if word.isalpha()]\n",
        "\n",
        "  return ' '.join(text)"
      ],
      "metadata": {
        "id": "-SUz7OUAFySS"
      },
      "execution_count": 14,
      "outputs": []
    },
    {
      "cell_type": "code",
      "source": [
        "dataset1['tweet'] = dataset1['tweet'].apply(data_processing)\n",
        "dataset1"
      ],
      "metadata": {
        "colab": {
          "base_uri": "https://localhost:8080/",
          "height": 424
        },
        "id": "0XrtnUddJnWA",
        "outputId": "71933430-9028-456c-ae8e-b2b45705bc99"
      },
      "execution_count": 15,
      "outputs": [
        {
          "output_type": "execute_result",
          "data": {
            "text/plain": [
              "       class                                              tweet\n",
              "0          2  woman you should not complain about cleaning y...\n",
              "1          1  boy dats cold tyga dwn bad for cuffin dat hoe ...\n",
              "2          1  dawg you ever fuck bitch and she start cry you...\n",
              "3          1                               she look like tranny\n",
              "4          1  the shit you hear about might true might faker...\n",
              "...      ...                                                ...\n",
              "24778      1  you muthaf lie right his trash now mine bible ...\n",
              "24779      2  you have gone and broke the wrong heart baby a...\n",
              "24780      1  young buck wan eat dat nigguh like aint fuckin...\n",
              "24781      1              youu got wild bitches tellin you lies\n",
              "24782      2  ntac eileen dahlia beautiful color combination...\n",
              "\n",
              "[24783 rows x 2 columns]"
            ],
            "text/html": [
              "\n",
              "  <div id=\"df-cdd969c2-b20c-4262-9a29-e5e110d7a634\">\n",
              "    <div class=\"colab-df-container\">\n",
              "      <div>\n",
              "<style scoped>\n",
              "    .dataframe tbody tr th:only-of-type {\n",
              "        vertical-align: middle;\n",
              "    }\n",
              "\n",
              "    .dataframe tbody tr th {\n",
              "        vertical-align: top;\n",
              "    }\n",
              "\n",
              "    .dataframe thead th {\n",
              "        text-align: right;\n",
              "    }\n",
              "</style>\n",
              "<table border=\"1\" class=\"dataframe\">\n",
              "  <thead>\n",
              "    <tr style=\"text-align: right;\">\n",
              "      <th></th>\n",
              "      <th>class</th>\n",
              "      <th>tweet</th>\n",
              "    </tr>\n",
              "  </thead>\n",
              "  <tbody>\n",
              "    <tr>\n",
              "      <th>0</th>\n",
              "      <td>2</td>\n",
              "      <td>woman you should not complain about cleaning y...</td>\n",
              "    </tr>\n",
              "    <tr>\n",
              "      <th>1</th>\n",
              "      <td>1</td>\n",
              "      <td>boy dats cold tyga dwn bad for cuffin dat hoe ...</td>\n",
              "    </tr>\n",
              "    <tr>\n",
              "      <th>2</th>\n",
              "      <td>1</td>\n",
              "      <td>dawg you ever fuck bitch and she start cry you...</td>\n",
              "    </tr>\n",
              "    <tr>\n",
              "      <th>3</th>\n",
              "      <td>1</td>\n",
              "      <td>she look like tranny</td>\n",
              "    </tr>\n",
              "    <tr>\n",
              "      <th>4</th>\n",
              "      <td>1</td>\n",
              "      <td>the shit you hear about might true might faker...</td>\n",
              "    </tr>\n",
              "    <tr>\n",
              "      <th>...</th>\n",
              "      <td>...</td>\n",
              "      <td>...</td>\n",
              "    </tr>\n",
              "    <tr>\n",
              "      <th>24778</th>\n",
              "      <td>1</td>\n",
              "      <td>you muthaf lie right his trash now mine bible ...</td>\n",
              "    </tr>\n",
              "    <tr>\n",
              "      <th>24779</th>\n",
              "      <td>2</td>\n",
              "      <td>you have gone and broke the wrong heart baby a...</td>\n",
              "    </tr>\n",
              "    <tr>\n",
              "      <th>24780</th>\n",
              "      <td>1</td>\n",
              "      <td>young buck wan eat dat nigguh like aint fuckin...</td>\n",
              "    </tr>\n",
              "    <tr>\n",
              "      <th>24781</th>\n",
              "      <td>1</td>\n",
              "      <td>youu got wild bitches tellin you lies</td>\n",
              "    </tr>\n",
              "    <tr>\n",
              "      <th>24782</th>\n",
              "      <td>2</td>\n",
              "      <td>ntac eileen dahlia beautiful color combination...</td>\n",
              "    </tr>\n",
              "  </tbody>\n",
              "</table>\n",
              "<p>24783 rows × 2 columns</p>\n",
              "</div>\n",
              "      <button class=\"colab-df-convert\" onclick=\"convertToInteractive('df-cdd969c2-b20c-4262-9a29-e5e110d7a634')\"\n",
              "              title=\"Convert this dataframe to an interactive table.\"\n",
              "              style=\"display:none;\">\n",
              "        \n",
              "  <svg xmlns=\"http://www.w3.org/2000/svg\" height=\"24px\"viewBox=\"0 0 24 24\"\n",
              "       width=\"24px\">\n",
              "    <path d=\"M0 0h24v24H0V0z\" fill=\"none\"/>\n",
              "    <path d=\"M18.56 5.44l.94 2.06.94-2.06 2.06-.94-2.06-.94-.94-2.06-.94 2.06-2.06.94zm-11 1L8.5 8.5l.94-2.06 2.06-.94-2.06-.94L8.5 2.5l-.94 2.06-2.06.94zm10 10l.94 2.06.94-2.06 2.06-.94-2.06-.94-.94-2.06-.94 2.06-2.06.94z\"/><path d=\"M17.41 7.96l-1.37-1.37c-.4-.4-.92-.59-1.43-.59-.52 0-1.04.2-1.43.59L10.3 9.45l-7.72 7.72c-.78.78-.78 2.05 0 2.83L4 21.41c.39.39.9.59 1.41.59.51 0 1.02-.2 1.41-.59l7.78-7.78 2.81-2.81c.8-.78.8-2.07 0-2.86zM5.41 20L4 18.59l7.72-7.72 1.47 1.35L5.41 20z\"/>\n",
              "  </svg>\n",
              "      </button>\n",
              "      \n",
              "  <style>\n",
              "    .colab-df-container {\n",
              "      display:flex;\n",
              "      flex-wrap:wrap;\n",
              "      gap: 12px;\n",
              "    }\n",
              "\n",
              "    .colab-df-convert {\n",
              "      background-color: #E8F0FE;\n",
              "      border: none;\n",
              "      border-radius: 50%;\n",
              "      cursor: pointer;\n",
              "      display: none;\n",
              "      fill: #1967D2;\n",
              "      height: 32px;\n",
              "      padding: 0 0 0 0;\n",
              "      width: 32px;\n",
              "    }\n",
              "\n",
              "    .colab-df-convert:hover {\n",
              "      background-color: #E2EBFA;\n",
              "      box-shadow: 0px 1px 2px rgba(60, 64, 67, 0.3), 0px 1px 3px 1px rgba(60, 64, 67, 0.15);\n",
              "      fill: #174EA6;\n",
              "    }\n",
              "\n",
              "    [theme=dark] .colab-df-convert {\n",
              "      background-color: #3B4455;\n",
              "      fill: #D2E3FC;\n",
              "    }\n",
              "\n",
              "    [theme=dark] .colab-df-convert:hover {\n",
              "      background-color: #434B5C;\n",
              "      box-shadow: 0px 1px 3px 1px rgba(0, 0, 0, 0.15);\n",
              "      filter: drop-shadow(0px 1px 2px rgba(0, 0, 0, 0.3));\n",
              "      fill: #FFFFFF;\n",
              "    }\n",
              "  </style>\n",
              "\n",
              "      <script>\n",
              "        const buttonEl =\n",
              "          document.querySelector('#df-cdd969c2-b20c-4262-9a29-e5e110d7a634 button.colab-df-convert');\n",
              "        buttonEl.style.display =\n",
              "          google.colab.kernel.accessAllowed ? 'block' : 'none';\n",
              "\n",
              "        async function convertToInteractive(key) {\n",
              "          const element = document.querySelector('#df-cdd969c2-b20c-4262-9a29-e5e110d7a634');\n",
              "          const dataTable =\n",
              "            await google.colab.kernel.invokeFunction('convertToInteractive',\n",
              "                                                     [key], {});\n",
              "          if (!dataTable) return;\n",
              "\n",
              "          const docLinkHtml = 'Like what you see? Visit the ' +\n",
              "            '<a target=\"_blank\" href=https://colab.research.google.com/notebooks/data_table.ipynb>data table notebook</a>'\n",
              "            + ' to learn more about interactive tables.';\n",
              "          element.innerHTML = '';\n",
              "          dataTable['output_type'] = 'display_data';\n",
              "          await google.colab.output.renderOutput(dataTable, element);\n",
              "          const docLink = document.createElement('div');\n",
              "          docLink.innerHTML = docLinkHtml;\n",
              "          element.appendChild(docLink);\n",
              "        }\n",
              "      </script>\n",
              "    </div>\n",
              "  </div>\n",
              "  "
            ]
          },
          "metadata": {},
          "execution_count": 15
        }
      ]
    },
    {
      "cell_type": "code",
      "source": [
        "dataset1['tweet'].replace('', np.nan, inplace=True)"
      ],
      "metadata": {
        "id": "_HT-JK8Jft-N"
      },
      "execution_count": 16,
      "outputs": []
    },
    {
      "cell_type": "code",
      "source": [
        "dataset1.isnull().sum()"
      ],
      "metadata": {
        "colab": {
          "base_uri": "https://localhost:8080/"
        },
        "id": "gywie5RNgE17",
        "outputId": "af385542-d9b2-4a1e-d27e-edc664d4b58f"
      },
      "execution_count": 17,
      "outputs": [
        {
          "output_type": "execute_result",
          "data": {
            "text/plain": [
              "class    0\n",
              "tweet    9\n",
              "dtype: int64"
            ]
          },
          "metadata": {},
          "execution_count": 17
        }
      ]
    },
    {
      "cell_type": "code",
      "source": [
        "dataset1.dropna(subset=['tweet'], inplace=True)"
      ],
      "metadata": {
        "id": "3pf5LVSMeWE2"
      },
      "execution_count": 18,
      "outputs": []
    },
    {
      "cell_type": "code",
      "source": [
        "dataset1.isnull().sum()"
      ],
      "metadata": {
        "colab": {
          "base_uri": "https://localhost:8080/"
        },
        "id": "ezAx4ns-gGxd",
        "outputId": "23e10f8e-b722-4de6-b18e-8691eea36869"
      },
      "execution_count": 19,
      "outputs": [
        {
          "output_type": "execute_result",
          "data": {
            "text/plain": [
              "class    0\n",
              "tweet    0\n",
              "dtype: int64"
            ]
          },
          "metadata": {},
          "execution_count": 19
        }
      ]
    },
    {
      "cell_type": "code",
      "source": [
        "# example before and after data cleaning\n",
        "print(dataset1_bak['tweet'][0])\n",
        "print(dataset1['tweet'][0])"
      ],
      "metadata": {
        "colab": {
          "base_uri": "https://localhost:8080/"
        },
        "id": "v3AM0-b1RefD",
        "outputId": "05823949-450d-4b2f-be1c-db32e038f3f0"
      },
      "execution_count": 20,
      "outputs": [
        {
          "output_type": "stream",
          "name": "stdout",
          "text": [
            "!!! RT @mayasolovely: As a woman you shouldn't complain about cleaning up your house. &amp; as a man you should always take the trash out...\n",
            "woman you should not complain about cleaning your house amp man you should always take the trash out\n"
          ]
        }
      ]
    },
    {
      "cell_type": "code",
      "source": [
        "# Before augmentation\n",
        "sns.set(style=\"darkgrid\")\n",
        "ax = sns.countplot(x=\"class\", data=dataset1)"
      ],
      "metadata": {
        "colab": {
          "base_uri": "https://localhost:8080/",
          "height": 287
        },
        "id": "N2FziytpXEhb",
        "outputId": "1c3b3ac0-8df8-4b28-8326-d405176d0a64"
      },
      "execution_count": 21,
      "outputs": [
        {
          "output_type": "display_data",
          "data": {
            "text/plain": [
              "<Figure size 432x288 with 1 Axes>"
            ],
            "image/png": "[encoded data removed]"
          },
          "metadata": {}
        }
      ]
    },
    {
      "cell_type": "code",
      "source": [
        "# dataset1\n",
        "dataset1['class'].value_counts(normalize = True)"
      ],
      "metadata": {
        "colab": {
          "base_uri": "https://localhost:8080/"
        },
        "id": "VRtxsTJjcKDw",
        "outputId": "dda30beb-f115-4c70-b38e-6495bd3a11c9"
      },
      "execution_count": 22,
      "outputs": [
        {
          "output_type": "execute_result",
          "data": {
            "text/plain": [
              "1    0.774522\n",
              "2    0.167757\n",
              "0    0.057722\n",
              "Name: class, dtype: float64"
            ]
          },
          "metadata": {},
          "execution_count": 22
        }
      ]
    },
    {
      "cell_type": "code",
      "source": [
        "len_class_0 = dataset1.groupby(['class'])['class'].count()[0]"
      ],
      "metadata": {
        "id": "1IoKWnlydpNm"
      },
      "execution_count": 23,
      "outputs": []
    },
    {
      "cell_type": "code",
      "source": [
        "sample_size = len_class_0\n",
        "sampled_dataset1 = dataset1.groupby('class').apply(lambda x: x.sample(sample_size))"
      ],
      "metadata": {
        "id": "pLpfoQTSdPVn"
      },
      "execution_count": 24,
      "outputs": []
    },
    {
      "cell_type": "code",
      "source": [
        "sampled_dataset1.reset_index(inplace=True, drop=True)"
      ],
      "metadata": {
        "id": "D0fi4TzseksM"
      },
      "execution_count": 25,
      "outputs": []
    },
    {
      "cell_type": "code",
      "source": [
        "sampled_dataset1"
      ],
      "metadata": {
        "colab": {
          "base_uri": "https://localhost:8080/",
          "height": 424
        },
        "id": "CgT3w71LgKP7",
        "outputId": "7f329145-ef3f-4cc9-cfc1-6757e190dfed"
      },
      "execution_count": 26,
      "outputs": [
        {
          "output_type": "execute_result",
          "data": {
            "text/plain": [
              "      class                                              tweet\n",
              "0         0  faux noise pundits not like duck molester raci...\n",
              "1         0  that should read suck bacon encrusted middle f...\n",
              "2         0                        tell the hating niggah stfu\n",
              "3         0       amp when they say him they mean dyke ron wcw\n",
              "4         0  you aint bout that murder game pussy nigga shu...\n",
              "...     ...                                                ...\n",
              "4285      2  michael pineda hides pine tar his neck fact th...\n",
              "4286      2  guy maine coon and total cuddle bum every one ...\n",
              "4287      2  why are people saying not let guys treat you l...\n",
              "4288      2  yankees should not even bother show boston man...\n",
              "4289      2  turn the magic colored light longexposure ligh...\n",
              "\n",
              "[4290 rows x 2 columns]"
            ],
            "text/html": [
              "\n",
              "  <div id=\"df-2e7408a0-1b6c-4edc-9b42-c861c10ada94\">\n",
              "    <div class=\"colab-df-container\">\n",
              "      <div>\n",
              "<style scoped>\n",
              "    .dataframe tbody tr th:only-of-type {\n",
              "        vertical-align: middle;\n",
              "    }\n",
              "\n",
              "    .dataframe tbody tr th {\n",
              "        vertical-align: top;\n",
              "    }\n",
              "\n",
              "    .dataframe thead th {\n",
              "        text-align: right;\n",
              "    }\n",
              "</style>\n",
              "<table border=\"1\" class=\"dataframe\">\n",
              "  <thead>\n",
              "    <tr style=\"text-align: right;\">\n",
              "      <th></th>\n",
              "      <th>class</th>\n",
              "      <th>tweet</th>\n",
              "    </tr>\n",
              "  </thead>\n",
              "  <tbody>\n",
              "    <tr>\n",
              "      <th>0</th>\n",
              "      <td>0</td>\n",
              "      <td>faux noise pundits not like duck molester raci...</td>\n",
              "    </tr>\n",
              "    <tr>\n",
              "      <th>1</th>\n",
              "      <td>0</td>\n",
              "      <td>that should read suck bacon encrusted middle f...</td>\n",
              "    </tr>\n",
              "    <tr>\n",
              "      <th>2</th>\n",
              "      <td>0</td>\n",
              "      <td>tell the hating niggah stfu</td>\n",
              "    </tr>\n",
              "    <tr>\n",
              "      <th>3</th>\n",
              "      <td>0</td>\n",
              "      <td>amp when they say him they mean dyke ron wcw</td>\n",
              "    </tr>\n",
              "    <tr>\n",
              "      <th>4</th>\n",
              "      <td>0</td>\n",
              "      <td>you aint bout that murder game pussy nigga shu...</td>\n",
              "    </tr>\n",
              "    <tr>\n",
              "      <th>...</th>\n",
              "      <td>...</td>\n",
              "      <td>...</td>\n",
              "    </tr>\n",
              "    <tr>\n",
              "      <th>4285</th>\n",
              "      <td>2</td>\n",
              "      <td>michael pineda hides pine tar his neck fact th...</td>\n",
              "    </tr>\n",
              "    <tr>\n",
              "      <th>4286</th>\n",
              "      <td>2</td>\n",
              "      <td>guy maine coon and total cuddle bum every one ...</td>\n",
              "    </tr>\n",
              "    <tr>\n",
              "      <th>4287</th>\n",
              "      <td>2</td>\n",
              "      <td>why are people saying not let guys treat you l...</td>\n",
              "    </tr>\n",
              "    <tr>\n",
              "      <th>4288</th>\n",
              "      <td>2</td>\n",
              "      <td>yankees should not even bother show boston man...</td>\n",
              "    </tr>\n",
              "    <tr>\n",
              "      <th>4289</th>\n",
              "      <td>2</td>\n",
              "      <td>turn the magic colored light longexposure ligh...</td>\n",
              "    </tr>\n",
              "  </tbody>\n",
              "</table>\n",
              "<p>4290 rows × 2 columns</p>\n",
              "</div>\n",
              "      <button class=\"colab-df-convert\" onclick=\"convertToInteractive('df-2e7408a0-1b6c-4edc-9b42-c861c10ada94')\"\n",
              "              title=\"Convert this dataframe to an interactive table.\"\n",
              "              style=\"display:none;\">\n",
              "        \n",
              "  <svg xmlns=\"http://www.w3.org/2000/svg\" height=\"24px\"viewBox=\"0 0 24 24\"\n",
              "       width=\"24px\">\n",
              "    <path d=\"M0 0h24v24H0V0z\" fill=\"none\"/>\n",
              "    <path d=\"M18.56 5.44l.94 2.06.94-2.06 2.06-.94-2.06-.94-.94-2.06-.94 2.06-2.06.94zm-11 1L8.5 8.5l.94-2.06 2.06-.94-2.06-.94L8.5 2.5l-.94 2.06-2.06.94zm10 10l.94 2.06.94-2.06 2.06-.94-2.06-.94-.94-2.06-.94 2.06-2.06.94z\"/><path d=\"M17.41 7.96l-1.37-1.37c-.4-.4-.92-.59-1.43-.59-.52 0-1.04.2-1.43.59L10.3 9.45l-7.72 7.72c-.78.78-.78 2.05 0 2.83L4 21.41c.39.39.9.59 1.41.59.51 0 1.02-.2 1.41-.59l7.78-7.78 2.81-2.81c.8-.78.8-2.07 0-2.86zM5.41 20L4 18.59l7.72-7.72 1.47 1.35L5.41 20z\"/>\n",
              "  </svg>\n",
              "      </button>\n",
              "      \n",
              "  <style>\n",
              "    .colab-df-container {\n",
              "      display:flex;\n",
              "      flex-wrap:wrap;\n",
              "      gap: 12px;\n",
              "    }\n",
              "\n",
              "    .colab-df-convert {\n",
              "      background-color: #E8F0FE;\n",
              "      border: none;\n",
              "      border-radius: 50%;\n",
              "      cursor: pointer;\n",
              "      display: none;\n",
              "      fill: #1967D2;\n",
              "      height: 32px;\n",
              "      padding: 0 0 0 0;\n",
              "      width: 32px;\n",
              "    }\n",
              "\n",
              "    .colab-df-convert:hover {\n",
              "      background-color: #E2EBFA;\n",
              "      box-shadow: 0px 1px 2px rgba(60, 64, 67, 0.3), 0px 1px 3px 1px rgba(60, 64, 67, 0.15);\n",
              "      fill: #174EA6;\n",
              "    }\n",
              "\n",
              "    [theme=dark] .colab-df-convert {\n",
              "      background-color: #3B4455;\n",
              "      fill: #D2E3FC;\n",
              "    }\n",
              "\n",
              "    [theme=dark] .colab-df-convert:hover {\n",
              "      background-color: #434B5C;\n",
              "      box-shadow: 0px 1px 3px 1px rgba(0, 0, 0, 0.15);\n",
              "      filter: drop-shadow(0px 1px 2px rgba(0, 0, 0, 0.3));\n",
              "      fill: #FFFFFF;\n",
              "    }\n",
              "  </style>\n",
              "\n",
              "      <script>\n",
              "        const buttonEl =\n",
              "          document.querySelector('#df-2e7408a0-1b6c-4edc-9b42-c861c10ada94 button.colab-df-convert');\n",
              "        buttonEl.style.display =\n",
              "          google.colab.kernel.accessAllowed ? 'block' : 'none';\n",
              "\n",
              "        async function convertToInteractive(key) {\n",
              "          const element = document.querySelector('#df-2e7408a0-1b6c-4edc-9b42-c861c10ada94');\n",
              "          const dataTable =\n",
              "            await google.colab.kernel.invokeFunction('convertToInteractive',\n",
              "                                                     [key], {});\n",
              "          if (!dataTable) return;\n",
              "\n",
              "          const docLinkHtml = 'Like what you see? Visit the ' +\n",
              "            '<a target=\"_blank\" href=https://colab.research.google.com/notebooks/data_table.ipynb>data table notebook</a>'\n",
              "            + ' to learn more about interactive tables.';\n",
              "          element.innerHTML = '';\n",
              "          dataTable['output_type'] = 'display_data';\n",
              "          await google.colab.output.renderOutput(dataTable, element);\n",
              "          const docLink = document.createElement('div');\n",
              "          docLink.innerHTML = docLinkHtml;\n",
              "          element.appendChild(docLink);\n",
              "        }\n",
              "      </script>\n",
              "    </div>\n",
              "  </div>\n",
              "  "
            ]
          },
          "metadata": {},
          "execution_count": 26
        }
      ]
    },
    {
      "cell_type": "code",
      "source": [
        "# After data augmentation\n",
        "sns.set(style=\"darkgrid\")\n",
        "ax = sns.countplot(x=\"class\", data=sampled_dataset1)"
      ],
      "metadata": {
        "colab": {
          "base_uri": "https://localhost:8080/",
          "height": 285
        },
        "id": "QplxOQNYcDHc",
        "outputId": "33d892f7-4d35-4b2f-b38e-49a99077d438"
      },
      "execution_count": 27,
      "outputs": [
        {
          "output_type": "display_data",
          "data": {
            "text/plain": [
              "<Figure size 432x288 with 1 Axes>"
            ],
            "image/png": "[encoded data removed]"
          },
          "metadata": {}
        }
      ]
    },
    {
      "cell_type": "code",
      "source": [
        "# create train/validation/test splits\n",
        "predictor = sampled_dataset1.drop(\"class\", axis = \"columns\")\n",
        "X_train_val, X_test, y_train_val, y_test = train_test_split(predictor, sampled_dataset1[\"class\"], test_size=0.2, random_state=20, stratify = sampled_dataset1[\"class\"])\n",
        "X_train, X_val, y_train, y_val = train_test_split(X_train_val, y_train_val, test_size=0.2, random_state=20, stratify = y_train_val)\n",
        "\n",
        "train = pd.concat([X_train, y_train], axis=1)\n",
        "val = pd.concat([X_val, y_val], axis=1)\n",
        "test = pd.concat([X_test, y_test], axis=1)\n",
        "\n",
        "train.to_csv(\"data/train.tsv\", sep=\"\\t\")\n",
        "val.to_csv(\"data/validation.tsv\", sep=\"\\t\")\n",
        "test.to_csv(\"data/test.tsv\", sep=\"\\t\")"
      ],
      "metadata": {
        "id": "N_ZmluSwZvm6"
      },
      "execution_count": 28,
      "outputs": []
    },
    {
      "cell_type": "markdown",
      "source": [
        "# Prepare the Data for Input\n",
        "we will use TorchText with our edited Dataset to prepare the model input data"
      ],
      "metadata": {
        "id": "0EC0z6DXJZJy"
      }
    },
    {
      "cell_type": "code",
      "source": [
        "class TextDataset(torch.utils.data.Dataset):\n",
        "    def __init__(self, vocab, split=\"train\"):\n",
        "        data_path = \"data\"\n",
        "        df = pd.read_csv(os.path.join(data_path, f\"{split}.tsv\"), sep=\"\\t\")\n",
        "\n",
        "        # X: torch.tensor (maxlen, batch_size), padded indices\n",
        "        # Y: torch.tensor of len N\n",
        "        X, Y = [], []\n",
        "        V = len(vocab.vectors)\n",
        "        for i, row in df.iterrows():\n",
        "            L = row[\"tweet\"].split()\n",
        "            X.append(torch.tensor([vocab.stoi.get(w, V-1) for w in L]))  # Use the last word in the vocab as the \"out-of-vocabulary\" token\n",
        "            Y.append(row[\"class\"])\n",
        "        self.X = X \n",
        "        self.Y = torch.tensor(Y)\n",
        "        \n",
        "    def __len__(self):\n",
        "        return len(self.X)\n",
        "\n",
        "    def __getitem__(self, idx):\n",
        "        return self.X[idx], self.Y[idx] \n",
        "    \n",
        "# my_collate_function prepares batches\n",
        "# it also pads each batch with zeroes.\n",
        "\n",
        "def my_collate_function(batch, device):\n",
        "    # Handle the padding here\n",
        "    # batch is approximately: [dataset[i] for i in range(0, batch_size)]\n",
        "    # Since the dataset[i]'s contents is defined in the __getitem__() above, this collate function \n",
        "    # should be set correspondingly.\n",
        "    # Also: collate_function just takes one argument. To pass in additional arguments (e.g., device), \n",
        "    # we need to wrap up an anonymous function (using lambda below)\n",
        "    batch_x, batch_y = [], []\n",
        "    max_len = 0\n",
        "    for x,y in batch:\n",
        "        batch_y.append(y)\n",
        "        max_len = max(max_len, len(x))\n",
        "    for x,y in batch:\n",
        "        x_p = torch.concat(\n",
        "            [x, torch.zeros(max_len - len(x))]\n",
        "        )\n",
        "        batch_x.append(x_p)\n",
        "    return torch.stack(batch_x).t().int().to(device), torch.tensor(batch_y).to(device)"
      ],
      "metadata": {
        "id": "9nJKU2-0KuCh"
      },
      "execution_count": 29,
      "outputs": []
    },
    {
      "cell_type": "code",
      "source": [
        "batch_size_num = 16\n",
        "device = torch.device('cuda' if torch.cuda.is_available() else 'cpu')\n",
        "glove = torchtext.vocab.GloVe(name=\"6B\",dim=100) # embedding size = 100\n",
        "                                \n",
        "train_dataset = TextDataset(glove, \"train\")\n",
        "val_dataset = TextDataset(glove, \"validation\")\n",
        "test_dataset = TextDataset(glove, \"test\")\n",
        "    \n",
        "train_dataloader = torch.utils.data.DataLoader(\n",
        "  dataset=train_dataset, \n",
        "  batch_size=batch_size_num, \n",
        "  shuffle=False, \n",
        "  collate_fn=lambda batch: my_collate_function(batch, device))\n",
        "\n",
        "validation_dataloader = torch.utils.data.DataLoader(\n",
        "  dataset=val_dataset, \n",
        "  batch_size=batch_size_num, \n",
        "  shuffle=False, \n",
        "  collate_fn=lambda batch: my_collate_function(batch, device))\n",
        "\n",
        "test_dataloader = torch.utils.data.DataLoader(\n",
        "  dataset=test_dataset,\n",
        "  batch_size=batch_size_num,\n",
        "  shuffle=False,\n",
        "  collate_fn=lambda batch: my_collate_function(batch, device))\n",
        "\n",
        "# for text, label in train_dataloader:\n",
        "#   print(text)\n",
        "#   print(label)"
      ],
      "metadata": {
        "id": "HiBc_fhoXfqK",
        "colab": {
          "base_uri": "https://localhost:8080/"
        },
        "outputId": "21837404-8412-4585-a327-0cef54247ee6"
      },
      "execution_count": 30,
      "outputs": [
        {
          "output_type": "stream",
          "name": "stderr",
          "text": [
            ".vector_cache/glove.6B.zip: 862MB [02:39, 5.40MB/s]                           \n",
            "100%|█████████▉| 399999/400000 [00:23<00:00, 16922.71it/s]\n"
          ]
        }
      ]
    },
    {
      "cell_type": "markdown",
      "source": [
        "# Define the models & training"
      ],
      "metadata": {
        "id": "e99_n7GgMwvh"
      }
    },
    {
      "cell_type": "markdown",
      "source": [
        "## SVM + BOW Baseline "
      ],
      "metadata": {
        "id": "TsEkN1triTIn"
      }
    },
    {
      "cell_type": "code",
      "source": [
        "from sklearn.feature_extraction.text import TfidfVectorizer"
      ],
      "metadata": {
        "id": "44e8Zh5Qi93P"
      },
      "execution_count": 37,
      "outputs": []
    },
    {
      "cell_type": "code",
      "source": [
        "tfidfvectorizer = TfidfVectorizer(analyzer='word', stop_words='english', max_features=5000)\n",
        "X_train_tfidf = tfidfvectorizer.fit_transform(train['tweet'])\n",
        "X_val_tfidf = tfidfvectorizer.transform(val['tweet'])"
      ],
      "metadata": {
        "id": "e7UVTOaSia1c"
      },
      "execution_count": 38,
      "outputs": []
    },
    {
      "cell_type": "code",
      "source": [
        "from sklearn.svm import LinearSVC, SVC\n",
        "from sklearn.linear_model import LogisticRegression\n",
        "from sklearn.metrics import accuracy_score, confusion_matrix, classification_report\n",
        "from sklearn.model_selection import cross_validate, GridSearchCV"
      ],
      "metadata": {
        "id": "mwasTT-0kOre"
      },
      "execution_count": 64,
      "outputs": []
    },
    {
      "cell_type": "code",
      "source": [
        "svc = LinearSVC()\n",
        "svc.fit(X_train_tfidf, train['class'])\n",
        "svc_predictions = svc.predict(X_val_tfidf)\n"
      ],
      "metadata": {
        "id": "RjijU0w_jRgk"
      },
      "execution_count": 43,
      "outputs": []
    },
    {
      "cell_type": "code",
      "source": [
        "accuracy_score(val['class'],svc_predictions)"
      ],
      "metadata": {
        "colab": {
          "base_uri": "https://localhost:8080/"
        },
        "id": "nAKcoIDgkeNN",
        "outputId": "337a916d-2c7f-48c5-8a7d-500a04b482e8"
      },
      "execution_count": 44,
      "outputs": [
        {
          "output_type": "execute_result",
          "data": {
            "text/plain": [
              "0.7860262008733624"
            ]
          },
          "metadata": {},
          "execution_count": 44
        }
      ]
    },
    {
      "cell_type": "code",
      "source": [
        "print(classification_report(val['class'],svc_predictions))"
      ],
      "metadata": {
        "colab": {
          "base_uri": "https://localhost:8080/"
        },
        "id": "RFXn4FV0lKHT",
        "outputId": "4b1024e4-b456-4870-e0fa-7cb1199d7688"
      },
      "execution_count": 47,
      "outputs": [
        {
          "output_type": "stream",
          "name": "stdout",
          "text": [
            "              precision    recall  f1-score   support\n",
            "\n",
            "           0       0.74      0.71      0.72       229\n",
            "           1       0.79      0.79      0.79       229\n",
            "           2       0.83      0.86      0.85       229\n",
            "\n",
            "    accuracy                           0.79       687\n",
            "   macro avg       0.78      0.79      0.79       687\n",
            "weighted avg       0.78      0.79      0.79       687\n",
            "\n"
          ]
        }
      ]
    },
    {
      "cell_type": "code",
      "source": [
        "lr = LogisticRegression()\n",
        "lr.fit(X_train_tfidf, train['class'])\n",
        "lr_predictions = lr.predict(X_val_tfidf)"
      ],
      "metadata": {
        "id": "PEpcnRw1uzAP"
      },
      "execution_count": 65,
      "outputs": []
    },
    {
      "cell_type": "code",
      "source": [
        "print(classification_report(val['class'],lr_predictions))"
      ],
      "metadata": {
        "colab": {
          "base_uri": "https://localhost:8080/"
        },
        "id": "nb1VBIXnykCv",
        "outputId": "f6c5976c-7410-4497-b551-c1ee3b4472f4"
      },
      "execution_count": 66,
      "outputs": [
        {
          "output_type": "stream",
          "name": "stdout",
          "text": [
            "              precision    recall  f1-score   support\n",
            "\n",
            "           0       0.77      0.70      0.73       229\n",
            "           1       0.80      0.81      0.80       229\n",
            "           2       0.84      0.92      0.88       229\n",
            "\n",
            "    accuracy                           0.81       687\n",
            "   macro avg       0.81      0.81      0.81       687\n",
            "weighted avg       0.81      0.81      0.81       687\n",
            "\n"
          ]
        }
      ]
    },
    {
      "cell_type": "markdown",
      "source": [
        "## Neural Network + Words Embeddings Baseline"
      ],
      "metadata": {
        "id": "xHaW3bmVMzkU"
      }
    },
    {
      "cell_type": "code",
      "source": [
        "# class BaselineModel(torch.nn.Module):\n",
        "#   def __init__(self, embedding_size, vocab):\n",
        "#       super().__init__()\n",
        "#       self.embedding = torch.nn.Embedding.from_pretrained(vocab.vectors)  # embedding layer\n",
        "#       self.expanding_1 = torch.nn.Linear(embedding_size, 20) # hidden layer 1\n",
        "#       self.expanding_2 = torch.nn.Linear(20, 3) # hidden layer 2\n",
        "      \n",
        "#   def forward(self, x):\n",
        "#       e = self.embedding(x)\n",
        "#       output = self.expanding_1(torch.mean(e, 0))\n",
        "#       output = self.expanding_2(output)\n",
        "\n",
        "#       return output, e"
      ],
      "metadata": {
        "id": "g8QJI2owPgmw"
      },
      "execution_count": 31,
      "outputs": []
    },
    {
      "cell_type": "code",
      "source": [
        "class BaselineModel(torch.nn.Module):\n",
        "    def __init__(self, embedding_size, vocab):\n",
        "        super().__init__()\n",
        "        self.embedding = torch.nn.Embedding.from_pretrained(vocab.vectors)  # embedding layer\n",
        "        self.expanding = torch.nn.Linear(embedding_size, 3) # hidden layer\n",
        "        \n",
        "    def forward(self, x):\n",
        "        e = self.embedding(x)\n",
        "        output = self.expanding(torch.mean(e, 0))\n",
        "        output = torch.softmax(output, 1)\n",
        "\n",
        "        return output, e"
      ],
      "metadata": {
        "id": "pAqQ7agbc7MA"
      },
      "execution_count": 32,
      "outputs": []
    },
    {
      "cell_type": "code",
      "source": [
        "def train_model(glove, train_dataloader, validation_dataloader, learning_rate, epochs, batch_size):\n",
        "    embedding_size = 100\n",
        "\n",
        "    # Instantiate the model & set up the optimizer\n",
        "    model = BaselineModel(embedding_size, glove)\n",
        "    criterion = torch.nn.CrossEntropyLoss() # Cross Entropy [0.2 0.7 0.1] [0, 1, 0]\n",
        "    optimizer = torch.optim.SGD(model.parameters(), lr=learning_rate)\n",
        "\n",
        "    train_losses, val_losses, train_acc, val_acc = [], [], [], []\n",
        "\n",
        "    for epoch in range(epochs):\n",
        "        train_loss, val_loss, train_acc_count_epoch, val_acc_count_epoch = 0, 0, 0, 0\n",
        "\n",
        "        for text, label in train_dataloader:\n",
        "            # forward\n",
        "            output, e = model(text) \n",
        "            loss = criterion(output.squeeze(), label)\n",
        "            # output = torch.softmax(output, 1)\n",
        "            output = torch.max(output, 1).indices\n",
        "            train_acc_count_epoch += torch.sum(output == label).item()\n",
        "            \n",
        "            # backward\n",
        "            optimizer.zero_grad()\n",
        "            loss.backward()\n",
        "            optimizer.step()\n",
        "            train_loss += loss.item()\n",
        "        \n",
        "        mean_train_loss = train_loss / len(train_dataloader)\n",
        "        mean_train_acc = train_acc_count_epoch / (len(train_dataloader) * batch_size)\n",
        "\n",
        "        with torch.no_grad():\n",
        "            for text_val, label_val in validation_dataloader:\n",
        "            output_val, e_val = model(text_val) \n",
        "            loss_val = criterion(output_val.squeeze(), label_val)\n",
        "            val_loss += loss_val.item()\n",
        "\n",
        "            output_val = torch.softmax(output_val, 1)\n",
        "            output_val = torch.max(output_val, 1).indices\n",
        "            val_acc_count_epoch += torch.sum(output_val == label_val).item()\n",
        "\n",
        "        mean_val_loss = val_loss / len(validation_dataloader)\n",
        "        mean_val_acc = val_acc_count_epoch / (len(validation_dataloader) * batch_size)\n",
        "\n",
        "\n",
        "        print('Epoch: ', epoch, 'train_loss: ', mean_train_loss, 'validation_loss: ', mean_val_loss, 'train_acc: ', mean_train_acc, 'val_acc: ', mean_val_acc)\n",
        "        train_losses.append(mean_train_loss)\n",
        "        val_losses.append(mean_val_loss)\n",
        "        train_acc.append(mean_train_acc)\n",
        "        val_acc.append(mean_val_acc)\n",
        "\n",
        "\n",
        "    return model, train_losses, val_losses, train_acc, val_acc\n",
        "  "
      ],
      "metadata": {
        "id": "LowhyHqdbcpl"
      },
      "execution_count": 33,
      "outputs": []
    },
    {
      "cell_type": "code",
      "source": [
        "ephochs = 50\n",
        "learning_rate = 1e-4\n",
        "torch.manual_seed(2) # fix seed\n",
        "\n",
        "device = torch.device('cuda' if torch.cuda.is_available() else 'cpu')\n",
        "print (\"Using device:\", device)\n",
        "\n",
        "\n",
        "model, train_losses, val_losses, train_acc, val_acc = train_model(glove, train_dataloader, validation_dataloader, learning_rate, ephochs, batch_size_num)\n"
      ],
      "metadata": {
        "colab": {
          "base_uri": "https://localhost:8080/"
        },
        "id": "18B4T8leIIJP",
        "outputId": "0ac90d76-d2bc-4ab9-d280-64fb92165733"
      },
      "execution_count": 34,
      "outputs": [
        {
          "output_type": "stream",
          "name": "stdout",
          "text": [
            "Using device: cpu\n",
            "Epoch:  0 train_loss:  1.1026923448540444 validation_loss:  1.1024491177048794 train_acc:  0.33430232558139533 val_acc:  0.33430232558139533\n",
            "Epoch:  1 train_loss:  1.1026403966338136 validation_loss:  1.102395115896713 train_acc:  0.33430232558139533 val_acc:  0.3328488372093023\n",
            "Epoch:  2 train_loss:  1.1025894797125528 validation_loss:  1.1023421758829162 train_acc:  0.3339389534883721 val_acc:  0.3328488372093023\n",
            "Epoch:  3 train_loss:  1.102539557357167 validation_loss:  1.1022903198419616 train_acc:  0.3346656976744186 val_acc:  0.3328488372093023\n",
            "Epoch:  4 train_loss:  1.1024905928345614 validation_loss:  1.1022394230199415 train_acc:  0.3346656976744186 val_acc:  0.3328488372093023\n",
            "Epoch:  5 train_loss:  1.1024425750554994 validation_loss:  1.1021895242291828 train_acc:  0.33502906976744184 val_acc:  0.3328488372093023\n",
            "Epoch:  6 train_loss:  1.1023954478807227 validation_loss:  1.1021406234696853 train_acc:  0.33502906976744184 val_acc:  0.3328488372093023\n",
            "Epoch:  7 train_loss:  1.1023492106171542 validation_loss:  1.1020926292552504 train_acc:  0.33539244186046513 val_acc:  0.3328488372093023\n",
            "Epoch:  8 train_loss:  1.102303827917853 validation_loss:  1.1020455221797145 train_acc:  0.33575581395348836 val_acc:  0.3328488372093023\n",
            "Epoch:  9 train_loss:  1.1022592990897422 validation_loss:  1.101999282836914 train_acc:  0.33575581395348836 val_acc:  0.3328488372093023\n",
            "Epoch:  10 train_loss:  1.1022155527458635 validation_loss:  1.1019539112268493 train_acc:  0.33575581395348836 val_acc:  0.3328488372093023\n",
            "Epoch:  11 train_loss:  1.102172581955444 validation_loss:  1.1019093214079392 train_acc:  0.33575581395348836 val_acc:  0.3328488372093023\n",
            "Epoch:  12 train_loss:  1.102130395035411 validation_loss:  1.1018656298171643 train_acc:  0.33575581395348836 val_acc:  0.3313953488372093\n",
            "Epoch:  13 train_loss:  1.1020889386188153 validation_loss:  1.1018226146697998 train_acc:  0.33575581395348836 val_acc:  0.3313953488372093\n",
            "Epoch:  14 train_loss:  1.1020482168641201 validation_loss:  1.1017804145812988 train_acc:  0.33539244186046513 val_acc:  0.32994186046511625\n",
            "Epoch:  15 train_loss:  1.102008191652076 validation_loss:  1.101738960243935 train_acc:  0.33502906976744184 val_acc:  0.32994186046511625\n",
            "Epoch:  16 train_loss:  1.101968840804211 validation_loss:  1.1016981962115266 train_acc:  0.33502906976744184 val_acc:  0.32848837209302323\n",
            "Epoch:  17 train_loss:  1.1019301615482153 validation_loss:  1.1016581335733102 train_acc:  0.33502906976744184 val_acc:  0.32848837209302323\n",
            "Epoch:  18 train_loss:  1.101892119230226 validation_loss:  1.101618772329286 train_acc:  0.3346656976744186 val_acc:  0.32848837209302323\n",
            "Epoch:  19 train_loss:  1.1018546764240709 validation_loss:  1.1015800570332728 train_acc:  0.3346656976744186 val_acc:  0.32848837209302323\n",
            "Epoch:  20 train_loss:  1.1018178851105447 validation_loss:  1.1015420015468154 train_acc:  0.3346656976744186 val_acc:  0.32994186046511625\n",
            "Epoch:  21 train_loss:  1.1017816586549891 validation_loss:  1.101504542106806 train_acc:  0.33430232558139533 val_acc:  0.32994186046511625\n",
            "Epoch:  22 train_loss:  1.1017460233943408 validation_loss:  1.1014677036640257 train_acc:  0.3346656976744186 val_acc:  0.32994186046511625\n",
            "Epoch:  23 train_loss:  1.1017109419024267 validation_loss:  1.1014314779015475 train_acc:  0.33502906976744184 val_acc:  0.32848837209302323\n",
            "Epoch:  24 train_loss:  1.1016764114069384 validation_loss:  1.1013958260070447 train_acc:  0.33502906976744184 val_acc:  0.32848837209302323\n",
            "Epoch:  25 train_loss:  1.101642404184785 validation_loss:  1.1013607258020446 train_acc:  0.33502906976744184 val_acc:  0.32848837209302323\n",
            "Epoch:  26 train_loss:  1.101608927166739 validation_loss:  1.1013261745142382 train_acc:  0.3346656976744186 val_acc:  0.32848837209302323\n",
            "Epoch:  27 train_loss:  1.1015759380750878 validation_loss:  1.1012921638266986 train_acc:  0.3346656976744186 val_acc:  0.32848837209302323\n",
            "Epoch:  28 train_loss:  1.1015434604744578 validation_loss:  1.1012586826501891 train_acc:  0.33430232558139533 val_acc:  0.3313953488372093\n",
            "Epoch:  29 train_loss:  1.1015114507009818 validation_loss:  1.1012256616769835 train_acc:  0.33430232558139533 val_acc:  0.3313953488372093\n",
            "Epoch:  30 train_loss:  1.101479903210041 validation_loss:  1.1011931729871174 train_acc:  0.3339389534883721 val_acc:  0.32994186046511625\n",
            "Epoch:  31 train_loss:  1.1014488186947136 validation_loss:  1.1011611639067185 train_acc:  0.3339389534883721 val_acc:  0.32994186046511625\n",
            "Epoch:  32 train_loss:  1.1014181645803673 validation_loss:  1.101129639980405 train_acc:  0.3339389534883721 val_acc:  0.32994186046511625\n",
            "Epoch:  33 train_loss:  1.1013879568077798 validation_loss:  1.1010985513066136 train_acc:  0.3346656976744186 val_acc:  0.32994186046511625\n",
            "Epoch:  34 train_loss:  1.1013581634953964 validation_loss:  1.101067906202272 train_acc:  0.33502906976744184 val_acc:  0.32848837209302323\n",
            "Epoch:  35 train_loss:  1.1013287652370543 validation_loss:  1.1010377074396887 train_acc:  0.33502906976744184 val_acc:  0.32848837209302323\n",
            "Epoch:  36 train_loss:  1.101299789062766 validation_loss:  1.1010079189788464 train_acc:  0.33502906976744184 val_acc:  0.32848837209302323\n",
            "Epoch:  37 train_loss:  1.1012711822986603 validation_loss:  1.1009785685428353 train_acc:  0.3346656976744186 val_acc:  0.32994186046511625\n",
            "Epoch:  38 train_loss:  1.1012429698955182 validation_loss:  1.1009496062300925 train_acc:  0.33430232558139533 val_acc:  0.32994186046511625\n",
            "Epoch:  39 train_loss:  1.101215119278708 validation_loss:  1.1009210431298544 train_acc:  0.33430232558139533 val_acc:  0.32994186046511625\n",
            "Epoch:  40 train_loss:  1.1011876436166985 validation_loss:  1.10089288201443 train_acc:  0.3335755813953488 val_acc:  0.3313953488372093\n",
            "Epoch:  41 train_loss:  1.1011604992456214 validation_loss:  1.1008650702099467 train_acc:  0.3339389534883721 val_acc:  0.3313953488372093\n",
            "Epoch:  42 train_loss:  1.1011337187401085 validation_loss:  1.1008376160333322 train_acc:  0.33430232558139533 val_acc:  0.32994186046511625\n",
            "Epoch:  43 train_loss:  1.1011072632878325 validation_loss:  1.1008105749307677 train_acc:  0.3346656976744186 val_acc:  0.32994186046511625\n",
            "Epoch:  44 train_loss:  1.101081141205721 validation_loss:  1.1007838193760362 train_acc:  0.33502906976744184 val_acc:  0.32848837209302323\n",
            "Epoch:  45 train_loss:  1.1010553379391514 validation_loss:  1.1007574380830276 train_acc:  0.3346656976744186 val_acc:  0.32848837209302323\n",
            "Epoch:  46 train_loss:  1.1010298493296602 validation_loss:  1.1007313839224881 train_acc:  0.3346656976744186 val_acc:  0.32848837209302323\n",
            "Epoch:  47 train_loss:  1.1010046559710835 validation_loss:  1.100705665211345 train_acc:  0.3346656976744186 val_acc:  0.32703488372093026\n",
            "Epoch:  48 train_loss:  1.1009797682595808 validation_loss:  1.100680251454198 train_acc:  0.3346656976744186 val_acc:  0.32994186046511625\n",
            "Epoch:  49 train_loss:  1.1009551702543747 validation_loss:  1.1006551343341207 train_acc:  0.3346656976744186 val_acc:  0.3313953488372093\n"
          ]
        }
      ]
    },
    {
      "cell_type": "code",
      "source": [
        "fig = plt.figure()\n",
        "plt.plot(range(0, ephochs), train_losses, label ='training loss')\n",
        "plt.plot(range(0, ephochs), val_losses, label ='validation loss')\n",
        "plt.title(\"Plot for training and validation loss\")\n",
        "plt.xlabel(\"number of ephocs\")\n",
        "plt.ylabel(\"loss\")\n",
        "plt.legend()\n",
        "plt.show()\n",
        "\n",
        "fig = plt.figure()\n",
        "plt.plot(range(0, ephochs), train_acc, label ='training acc')\n",
        "plt.plot(range(0, ephochs), val_acc, label ='validation acc')\n",
        "plt.title(\"Plot for training and validation accuracy\")\n",
        "plt.xlabel(\"number of ephocs\")\n",
        "plt.ylabel(\"accuracy\")\n",
        "plt.legend()\n",
        "plt.show()"
      ],
      "metadata": {
        "colab": {
          "base_uri": "https://localhost:8080/",
          "height": 585
        },
        "id": "Rd6kcfc1Wqm-",
        "outputId": "80c8d422-f253-48c4-f244-f3e10f19a92e"
      },
      "execution_count": 35,
      "outputs": [
        {
          "output_type": "display_data",
          "data": {
            "text/plain": [
              "<Figure size 432x288 with 1 Axes>"
            ],
            "image/png": "[encoded data removed]"
          },
          "metadata": {}
        },
        {
          "output_type": "display_data",
          "data": {
            "text/plain": [
              "<Figure size 432x288 with 1 Axes>"
            ],
            "image/png": "[encoded data removed]"
          },
          "metadata": {}
        }
      ]
    },
    {
      "cell_type": "code",
      "source": [],
      "metadata": {
        "colab": {
          "base_uri": "https://localhost:8080/"
        },
        "id": "HJC8Ma3jvWBo",
        "outputId": "d10d42f8-2926-47cf-b6f3-46895adb9382"
      },
      "execution_count": 58,
      "outputs": [
        {
          "output_type": "execute_result",
          "data": {
            "text/plain": [
              "687"
            ]
          },
          "metadata": {},
          "execution_count": 58
        }
      ]
    },
    {
      "cell_type": "code",
      "source": [
        "val_dataloader = torch.utils.data.DataLoader(\n",
        "  dataset=val_dataset, \n",
        "  batch_size=len(val_dataset), \n",
        "  shuffle=False, \n",
        "  collate_fn=lambda batch: my_collate_function(batch, device))"
      ],
      "metadata": {
        "id": "Ap7jPZkXvJog"
      },
      "execution_count": 59,
      "outputs": []
    },
    {
      "cell_type": "code",
      "source": [
        "for text_val, label_val in val_dataloader:\n",
        "    output_val, e_val = model(text_val) \n",
        "    output_val_softmax = torch.softmax(output_val, 1)\n",
        "    label_pred = torch.max(output_val_softmax, 1).indices\n",
        "    print(confusion_matrix(label_val,label_pred))\n",
        "    print(classification_report(label_val,label_pred))\n"
      ],
      "metadata": {
        "colab": {
          "base_uri": "https://localhost:8080/"
        },
        "id": "mWOxjHuIvdDd",
        "outputId": "0f8411b7-b778-4c63-e93c-8a19095ddd4b"
      },
      "execution_count": 67,
      "outputs": [
        {
          "output_type": "stream",
          "name": "stdout",
          "text": [
            "[[  1 228   0]\n",
            " [  3 226   0]\n",
            " [  3 225   1]]\n",
            "              precision    recall  f1-score   support\n",
            "\n",
            "           0       0.14      0.00      0.01       229\n",
            "           1       0.33      0.99      0.50       229\n",
            "           2       1.00      0.00      0.01       229\n",
            "\n",
            "    accuracy                           0.33       687\n",
            "   macro avg       0.49      0.33      0.17       687\n",
            "weighted avg       0.49      0.33      0.17       687\n",
            "\n"
          ]
        }
      ]
    },
    {
      "cell_type": "code",
      "source": [
        "label_pred.unique(return_counts=True)"
      ],
      "metadata": {
        "colab": {
          "base_uri": "https://localhost:8080/"
        },
        "id": "8wu9U9Cnwm0s",
        "outputId": "aa7f3472-83eb-4365-f09a-7ff1450c1e87"
      },
      "execution_count": 63,
      "outputs": [
        {
          "output_type": "execute_result",
          "data": {
            "text/plain": [
              "(tensor([0, 1, 2]), tensor([  7, 679,   1]))"
            ]
          },
          "metadata": {},
          "execution_count": 63
        }
      ]
    },
    {
      "cell_type": "code",
      "source": [],
      "metadata": {
        "id": "pcYEKKeZxRf2"
      },
      "execution_count": null,
      "outputs": []
    }
  ]
}