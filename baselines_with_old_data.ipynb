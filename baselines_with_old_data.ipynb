{
  "nbformat": 4,
  "nbformat_minor": 0,
  "metadata": {
    "colab": {
      "provenance": []
    },
    "kernelspec": {
      "name": "python3",
      "display_name": "Python 3"
    },
    "language_info": {
      "name": "python"
    }
  },
  "cells": [
    {
      "cell_type": "code",
      "source": [
        "import re\n",
        "import numpy as np\n",
        "import pandas as pd\n",
        "import seaborn as sns\n",
        "import matplotlib.pyplot as plt\n",
        "\n",
        "# import nltk\n",
        "# from nltk.tokenize import word_tokenize\n",
        "# from nltk.corpus import stopwords\n",
        "\n",
        "from sklearn.model_selection import train_test_split\n",
        "\n",
        "# nltk.download('punkt')\n",
        "# nltk.download('stopwords')\n",
        "# stopwords_list = stopwords.words('english')\n",
        "\n",
        "import torch\n",
        "import torchtext\n",
        "from torchtext import data\n",
        "import os"
      ],
      "metadata": {
        "id": "MzQ-68C6DbRS"
      },
      "execution_count": 1,
      "outputs": []
    },
    {
      "cell_type": "code",
      "source": [
        "from google.colab import drive\n",
        "drive.mount('/content/drive')"
      ],
      "metadata": {
        "colab": {
          "base_uri": "https://localhost:8080/"
        },
        "id": "OUuVyOkkFjWW",
        "outputId": "dffe38ba-a61b-40b3-f187-6a5571b8aaf4"
      },
      "execution_count": null,
      "outputs": [
        {
          "output_type": "stream",
          "name": "stdout",
          "text": [
            "Mounted at /content/drive\n"
          ]
        }
      ]
    },
    {
      "cell_type": "code",
      "source": [
        "#os.chdir(\"/content/drive/MyDrive/ECE1786/Project\")\n",
        "%cd /content/drive/MyDrive/Colab Notebooks/ECE1786/Project"
      ],
      "metadata": {
        "id": "GOS4g-bvFtYB",
        "colab": {
          "base_uri": "https://localhost:8080/"
        },
        "outputId": "3629d09e-91ce-46a2-d519-a80c28348c07"
      },
      "execution_count": null,
      "outputs": [
        {
          "output_type": "stream",
          "name": "stdout",
          "text": [
            "/content/drive/MyDrive/Colab Notebooks/ECE1786/Project\n"
          ]
        }
      ]
    },
    {
      "cell_type": "code",
      "source": [
        "ls"
      ],
      "metadata": {
        "colab": {
          "base_uri": "https://localhost:8080/"
        },
        "id": "QGx-bhuXGJ-k",
        "outputId": "776e82cc-d897-4265-9b3e-938b65242164"
      },
      "execution_count": null,
      "outputs": [
        {
          "output_type": "stream",
          "name": "stdout",
          "text": [
            "baselines.ipynb  BERT_GRU.ipynb  CNN.ipynb  data_preprocessing.ipynb\n",
            "BERT_base.ipynb  Bert.ipynb      \u001b[0m\u001b[01;34mdata\u001b[0m/      GPT2.ipynb\n"
          ]
        }
      ]
    },
    {
      "cell_type": "markdown",
      "source": [
        "# Prepare the Data for Input\n",
        "we will use TorchText with our edited Dataset to prepare the model input data"
      ],
      "metadata": {
        "id": "0EC0z6DXJZJy"
      }
    },
    {
      "cell_type": "code",
      "source": [
        "train = pd.read_csv('data/train.tsv', sep=\"\\t\")[['tweet', 'class']]\n",
        "val = pd.read_csv('data/validation.tsv', sep=\"\\t\")[['tweet', 'class']]\n",
        "test = pd.read_csv('data/test.tsv', sep=\"\\t\")[['tweet', 'class']]"
      ],
      "metadata": {
        "id": "UmF3sibKbZkq"
      },
      "execution_count": 2,
      "outputs": []
    },
    {
      "cell_type": "code",
      "source": [
        "class TextDataset(torch.utils.data.Dataset):\n",
        "    def __init__(self, vocab, split=\"train\"):\n",
        "        data_path = \"data\"\n",
        "        df = pd.read_csv(os.path.join(data_path, f\"{split}.tsv\"), sep=\"\\t\")\n",
        "\n",
        "        # X: torch.tensor (maxlen, batch_size), padded indices\n",
        "        # Y: torch.tensor of len N\n",
        "        X, Y = [], []\n",
        "        V = len(vocab.vectors)\n",
        "        for i, row in df.iterrows():\n",
        "            L = row[\"tweet\"].split()\n",
        "            X.append(torch.tensor([vocab.stoi.get(w, V-1) for w in L]))  # Use the last word in the vocab as the \"out-of-vocabulary\" token\n",
        "            Y.append(row[\"class\"])\n",
        "        self.X = X \n",
        "        self.Y = torch.tensor(Y)\n",
        "        \n",
        "    def __len__(self):\n",
        "        return len(self.X)\n",
        "\n",
        "    def __getitem__(self, idx):\n",
        "        return self.X[idx], self.Y[idx] \n",
        "    \n",
        "# my_collate_function prepares batches\n",
        "# it also pads each batch with zeroes.\n",
        "\n",
        "def my_collate_function(batch, device):\n",
        "    # Handle the padding here\n",
        "    # batch is approximately: [dataset[i] for i in range(0, batch_size)]\n",
        "    # Since the dataset[i]'s contents is defined in the __getitem__() above, this collate function \n",
        "    # should be set correspondingly.\n",
        "    # Also: collate_function just takes one argument. To pass in additional arguments (e.g., device), \n",
        "    # we need to wrap up an anonymous function (using lambda below)\n",
        "    batch_x, batch_y = [], []\n",
        "    max_len = 0\n",
        "    for x,y in batch:\n",
        "        batch_y.append(y)\n",
        "        max_len = max(max_len, len(x))\n",
        "    for x,y in batch:\n",
        "        x_p = torch.concat(\n",
        "            [x, torch.zeros(max_len - len(x))]\n",
        "        )\n",
        "        batch_x.append(x_p)\n",
        "    return torch.stack(batch_x).t().int().to(device), torch.tensor(batch_y).to(device)"
      ],
      "metadata": {
        "id": "9nJKU2-0KuCh"
      },
      "execution_count": 3,
      "outputs": []
    },
    {
      "cell_type": "code",
      "source": [
        "batch_size_num = 16\n",
        "device = torch.device('cuda' if torch.cuda.is_available() else 'cpu')\n",
        "glove = torchtext.vocab.GloVe(name=\"6B\",dim=100) # embedding size = 100\n",
        "                                \n",
        "train_dataset = TextDataset(glove, \"train\")\n",
        "val_dataset = TextDataset(glove, \"validation\")\n",
        "test_dataset = TextDataset(glove, \"test\")\n",
        "    \n",
        "train_dataloader = torch.utils.data.DataLoader(\n",
        "  dataset=train_dataset, \n",
        "  batch_size=batch_size_num, \n",
        "  shuffle=False, \n",
        "  collate_fn=lambda batch: my_collate_function(batch, device))\n",
        "\n",
        "validation_dataloader = torch.utils.data.DataLoader(\n",
        "  dataset=val_dataset, \n",
        "  batch_size=batch_size_num, \n",
        "  shuffle=False, \n",
        "  collate_fn=lambda batch: my_collate_function(batch, device))\n",
        "\n",
        "test_dataloader = torch.utils.data.DataLoader(\n",
        "  dataset=test_dataset,\n",
        "  batch_size=len(test_dataset),\n",
        "  shuffle=False,\n",
        "  collate_fn=lambda batch: my_collate_function(batch, device))\n",
        "\n"
      ],
      "metadata": {
        "id": "HiBc_fhoXfqK",
        "outputId": "2533c21d-9d52-4bd6-cf21-3ea6e0ac256d",
        "colab": {
          "base_uri": "https://localhost:8080/"
        }
      },
      "execution_count": 4,
      "outputs": [
        {
          "output_type": "stream",
          "name": "stderr",
          "text": [
            ".vector_cache/glove.6B.zip: 862MB [02:44, 5.23MB/s]                           \n",
            "100%|█████████▉| 399999/400000 [00:16<00:00, 23708.44it/s]\n"
          ]
        }
      ]
    },
    {
      "cell_type": "markdown",
      "source": [
        "# Define the models & training"
      ],
      "metadata": {
        "id": "e99_n7GgMwvh"
      }
    },
    {
      "cell_type": "markdown",
      "source": [
        "## SVM + BOW Baseline "
      ],
      "metadata": {
        "id": "TsEkN1triTIn"
      }
    },
    {
      "cell_type": "code",
      "source": [
        "from sklearn.feature_extraction.text import TfidfVectorizer"
      ],
      "metadata": {
        "id": "44e8Zh5Qi93P"
      },
      "execution_count": 5,
      "outputs": []
    },
    {
      "cell_type": "code",
      "source": [
        "tfidfvectorizer = TfidfVectorizer(analyzer='word', stop_words='english', max_features=5000)\n",
        "X_train_tfidf = tfidfvectorizer.fit_transform(train['tweet'])\n",
        "X_val_tfidf = tfidfvectorizer.transform(val['tweet'])\n",
        "X_test_tfidf = tfidfvectorizer.transform(test['tweet'])"
      ],
      "metadata": {
        "id": "e7UVTOaSia1c"
      },
      "execution_count": 6,
      "outputs": []
    },
    {
      "cell_type": "code",
      "source": [
        "from sklearn.svm import LinearSVC, SVC\n",
        "from sklearn.linear_model import LogisticRegression\n",
        "from sklearn.metrics import accuracy_score, confusion_matrix, classification_report\n",
        "from sklearn.model_selection import cross_validate, GridSearchCV"
      ],
      "metadata": {
        "id": "mwasTT-0kOre"
      },
      "execution_count": 7,
      "outputs": []
    },
    {
      "cell_type": "code",
      "source": [],
      "metadata": {
        "id": "Bi3iNvbTr2Lz"
      },
      "execution_count": 7,
      "outputs": []
    },
    {
      "cell_type": "code",
      "source": [
        "svc = SVC(kernel='linear') # libsvm\n",
        "svc.fit(X_train_tfidf, train['class'])\n",
        "svc_predictions = svc.predict(X_test_tfidf)\n"
      ],
      "metadata": {
        "id": "nbT5amUGr6_O"
      },
      "execution_count": 8,
      "outputs": []
    },
    {
      "cell_type": "code",
      "source": [
        "print(classification_report(test['class'],svc_predictions))"
      ],
      "metadata": {
        "colab": {
          "base_uri": "https://localhost:8080/"
        },
        "outputId": "1bcabcee-12f8-434b-ff1b-4e74c73c4cc8",
        "id": "-3NrcLOOr6_P"
      },
      "execution_count": 9,
      "outputs": [
        {
          "output_type": "stream",
          "name": "stdout",
          "text": [
            "              precision    recall  f1-score   support\n",
            "\n",
            "           0       0.78      0.70      0.74       286\n",
            "           1       0.79      0.81      0.80       286\n",
            "           2       0.84      0.90      0.87       286\n",
            "\n",
            "    accuracy                           0.80       858\n",
            "   macro avg       0.80      0.80      0.80       858\n",
            "weighted avg       0.80      0.80      0.80       858\n",
            "\n"
          ]
        }
      ]
    },
    {
      "cell_type": "code",
      "source": [
        "linearsvc = LinearSVC() # implemented in terms of liblinear, so more flexibility and should scale better to large numbers of samples.\n",
        "linearsvc.fit(X_train_tfidf, train['class'])\n",
        "linearsvc_predictions = linearsvc.predict(X_test_tfidf)\n"
      ],
      "metadata": {
        "id": "RjijU0w_jRgk"
      },
      "execution_count": 10,
      "outputs": []
    },
    {
      "cell_type": "code",
      "source": [
        "print(classification_report(test['class'],linearsvc_predictions))"
      ],
      "metadata": {
        "colab": {
          "base_uri": "https://localhost:8080/"
        },
        "id": "RFXn4FV0lKHT",
        "outputId": "3eb6b860-83d7-4b25-dc39-c84fefe02742"
      },
      "execution_count": 11,
      "outputs": [
        {
          "output_type": "stream",
          "name": "stdout",
          "text": [
            "              precision    recall  f1-score   support\n",
            "\n",
            "           0       0.77      0.70      0.73       286\n",
            "           1       0.75      0.80      0.78       286\n",
            "           2       0.83      0.85      0.84       286\n",
            "\n",
            "    accuracy                           0.79       858\n",
            "   macro avg       0.79      0.79      0.78       858\n",
            "weighted avg       0.79      0.79      0.78       858\n",
            "\n"
          ]
        }
      ]
    },
    {
      "cell_type": "code",
      "source": [
        "lr = LogisticRegression(max_iter=200) # max_iter=100 by default, connot converge \n",
        "lr.fit(X_train_tfidf, train['class'])\n",
        "lr_predictions = lr.predict(X_test_tfidf)\n"
      ],
      "metadata": {
        "id": "PEpcnRw1uzAP"
      },
      "execution_count": 12,
      "outputs": []
    },
    {
      "cell_type": "code",
      "source": [
        "print(classification_report(test['class'],lr_predictions))"
      ],
      "metadata": {
        "colab": {
          "base_uri": "https://localhost:8080/"
        },
        "id": "nb1VBIXnykCv",
        "outputId": "a0df5929-4f34-4d12-853b-9062250e6006"
      },
      "execution_count": 13,
      "outputs": [
        {
          "output_type": "stream",
          "name": "stdout",
          "text": [
            "              precision    recall  f1-score   support\n",
            "\n",
            "           0       0.79      0.68      0.73       286\n",
            "           1       0.79      0.81      0.80       286\n",
            "           2       0.82      0.92      0.87       286\n",
            "\n",
            "    accuracy                           0.80       858\n",
            "   macro avg       0.80      0.80      0.80       858\n",
            "weighted avg       0.80      0.80      0.80       858\n",
            "\n"
          ]
        }
      ]
    },
    {
      "cell_type": "markdown",
      "source": [
        "## Neural Network + Words Embeddings Baseline"
      ],
      "metadata": {
        "id": "xHaW3bmVMzkU"
      }
    },
    {
      "cell_type": "code",
      "source": [
        "class BaselineModel(torch.nn.Module):\n",
        "    def __init__(self, embedding_size, vocab):\n",
        "        super().__init__()\n",
        "        self.embedding = torch.nn.Embedding.from_pretrained(vocab.vectors)  # embedding layer\n",
        "        self.expanding = torch.nn.Linear(embedding_size, 3) # hidden layer\n",
        "        \n",
        "    def forward(self, x):\n",
        "        e = self.embedding(x)\n",
        "        output = self.expanding(torch.mean(e, 0))\n",
        "        output = torch.softmax(output, 1)\n",
        "\n",
        "        return output"
      ],
      "metadata": {
        "id": "pAqQ7agbc7MA"
      },
      "execution_count": 14,
      "outputs": []
    },
    {
      "cell_type": "code",
      "source": [
        "def train_model(glove, train_dataloader, validation_dataloader, learning_rate, epochs, batch_size):\n",
        "    embedding_size = 100\n",
        "\n",
        "    # Instantiate the model & set up the optimizer\n",
        "    model = BaselineModel(embedding_size, glove)\n",
        "    criterion = torch.nn.CrossEntropyLoss() # Cross Entropy [0.2 0.7 0.1] [0, 1, 0]\n",
        "    optimizer = torch.optim.Adam(model.parameters(), lr=learning_rate)\n",
        "\n",
        "    train_losses, val_losses, train_acc, val_acc = [], [], [], []\n",
        "\n",
        "    for epoch in range(epochs):\n",
        "        train_loss, val_loss, train_acc_count_epoch, val_acc_count_epoch = 0, 0, 0, 0\n",
        "\n",
        "        for text, label in train_dataloader:\n",
        "            # forward\n",
        "            output = model(text) \n",
        "            loss = criterion(output.squeeze(), label)\n",
        "            # output = torch.softmax(output, 1)\n",
        "            output = torch.max(output, 1).indices\n",
        "            train_acc_count_epoch += torch.sum(output == label).item()\n",
        "            \n",
        "            # backward\n",
        "            optimizer.zero_grad()\n",
        "            loss.backward()\n",
        "            optimizer.step()\n",
        "            train_loss += loss.item()\n",
        "        \n",
        "        mean_train_loss = train_loss / len(train_dataloader)\n",
        "        mean_train_acc = train_acc_count_epoch / (len(train_dataloader) * batch_size)\n",
        "\n",
        "        with torch.no_grad():\n",
        "            for text_val, label_val in validation_dataloader:\n",
        "                output_val = model(text_val) \n",
        "                loss_val = criterion(output_val.squeeze(), label_val.squeeze())\n",
        "                val_loss += loss_val.item()\n",
        "\n",
        "                output_val = torch.softmax(output_val, 1)\n",
        "                output_val = torch.max(output_val, 1).indices\n",
        "                val_acc_count_epoch += torch.sum(output_val == label_val).item()\n",
        "\n",
        "        mean_val_loss = val_loss / len(validation_dataloader)\n",
        "        mean_val_acc = val_acc_count_epoch / (len(validation_dataloader) * batch_size)\n",
        "\n",
        "\n",
        "        if epoch==0 or (epoch+1) % 10 == 0 or epoch == epochs-1:\n",
        "            print(' Epoch {} \\ttraining loss={:.7f} \\tvalidation loss={:.7f}'.format(epoch+1,mean_train_loss,mean_val_loss))\n",
        "            print('     \\t\\ttraining accuracy={:.2f}% \\tvalidation accuracy={:.2f}%'.format(mean_train_acc*100, mean_val_acc*100))\n",
        "\n",
        "        train_losses.append(mean_train_loss)\n",
        "        val_losses.append(mean_val_loss)\n",
        "        train_acc.append(mean_train_acc)\n",
        "        val_acc.append(mean_val_acc)\n",
        "\n",
        "\n",
        "    return model, train_losses, val_losses, train_acc, val_acc\n",
        "  "
      ],
      "metadata": {
        "id": "LowhyHqdbcpl"
      },
      "execution_count": 15,
      "outputs": []
    },
    {
      "cell_type": "code",
      "source": [
        "epochs = 150\n",
        "learning_rate = 2e-3\n",
        "torch.manual_seed(2) # fix seed\n",
        "\n",
        "device = torch.device('cuda' if torch.cuda.is_available() else 'cpu')\n",
        "print (\"Using device:\", device)\n",
        "\n",
        "\n",
        "model, train_losses, val_losses, train_acc, val_acc = train_model(glove, train_dataloader, validation_dataloader, learning_rate, epochs, batch_size_num)\n"
      ],
      "metadata": {
        "colab": {
          "base_uri": "https://localhost:8080/"
        },
        "id": "18B4T8leIIJP",
        "outputId": "f758fbad-f09c-4fd2-ba5e-00a1a1c52228"
      },
      "execution_count": 16,
      "outputs": [
        {
          "output_type": "stream",
          "name": "stdout",
          "text": [
            "Using device: cpu\n",
            " Epoch 1 \ttraining loss=1.0899010 \tvalidation loss=1.0786946\n",
            "     \t\ttraining accuracy=39.75% \tvalidation accuracy=48.84%\n",
            " Epoch 10 \ttraining loss=0.9757420 \tvalidation loss=0.9819834\n",
            "     \t\ttraining accuracy=63.15% \tvalidation accuracy=61.92%\n",
            " Epoch 20 \ttraining loss=0.9343554 \tvalidation loss=0.9437708\n",
            "     \t\ttraining accuracy=66.97% \tvalidation accuracy=64.53%\n",
            " Epoch 30 \ttraining loss=0.9122405 \tvalidation loss=0.9232165\n",
            "     \t\ttraining accuracy=68.39% \tvalidation accuracy=66.72%\n",
            " Epoch 40 \ttraining loss=0.8978649 \tvalidation loss=0.9099188\n",
            "     \t\ttraining accuracy=68.71% \tvalidation accuracy=67.15%\n",
            " Epoch 50 \ttraining loss=0.8875120 \tvalidation loss=0.9003897\n",
            "     \t\ttraining accuracy=69.15% \tvalidation accuracy=68.02%\n",
            " Epoch 60 \ttraining loss=0.8795461 \tvalidation loss=0.8931033\n",
            "     \t\ttraining accuracy=69.62% \tvalidation accuracy=68.31%\n",
            " Epoch 70 \ttraining loss=0.8731282 \tvalidation loss=0.8872866\n",
            "     \t\ttraining accuracy=69.88% \tvalidation accuracy=68.75%\n",
            " Epoch 80 \ttraining loss=0.8677831 \tvalidation loss=0.8825059\n",
            "     \t\ttraining accuracy=70.20% \tvalidation accuracy=68.46%\n",
            " Epoch 90 \ttraining loss=0.8632232 \tvalidation loss=0.8784985\n",
            "     \t\ttraining accuracy=70.68% \tvalidation accuracy=68.60%\n",
            " Epoch 100 \ttraining loss=0.8592651 \tvalidation loss=0.8750939\n",
            "     \t\ttraining accuracy=70.97% \tvalidation accuracy=68.75%\n",
            " Epoch 110 \ttraining loss=0.8557858 \tvalidation loss=0.8721721\n",
            "     \t\ttraining accuracy=71.26% \tvalidation accuracy=68.75%\n",
            " Epoch 120 \ttraining loss=0.8526971 \tvalidation loss=0.8696426\n",
            "     \t\ttraining accuracy=71.37% \tvalidation accuracy=69.48%\n",
            " Epoch 130 \ttraining loss=0.8499321 \tvalidation loss=0.8674335\n",
            "     \t\ttraining accuracy=71.62% \tvalidation accuracy=69.77%\n",
            " Epoch 140 \ttraining loss=0.8474379 \tvalidation loss=0.8654876\n",
            "     \t\ttraining accuracy=71.66% \tvalidation accuracy=69.91%\n",
            " Epoch 150 \ttraining loss=0.8451724 \tvalidation loss=0.8637590\n",
            "     \t\ttraining accuracy=71.66% \tvalidation accuracy=69.77%\n"
          ]
        }
      ]
    },
    {
      "cell_type": "code",
      "source": [
        "fig = plt.figure()\n",
        "plt.plot(range(1, epochs+1), train_losses, label ='training loss')\n",
        "plt.plot(range(1, epochs+1), val_losses, label ='validation loss')\n",
        "plt.title(\"Plot for training and validation loss\")\n",
        "plt.xlabel(\"number of epochs\")\n",
        "plt.ylabel(\"loss\")\n",
        "plt.legend()\n",
        "plt.show()\n",
        "\n",
        "fig = plt.figure()\n",
        "plt.plot(range(1, epochs+1), train_acc, label ='training acc')\n",
        "plt.plot(range(1, epochs+1), val_acc, label ='validation acc')\n",
        "plt.title(\"Plot for training and validation accuracy\")\n",
        "plt.xlabel(\"number of epochs\")\n",
        "plt.ylabel(\"accuracy\")\n",
        "plt.legend()\n",
        "plt.show()"
      ],
      "metadata": {
        "colab": {
          "base_uri": "https://localhost:8080/",
          "height": 573
        },
        "id": "Rd6kcfc1Wqm-",
        "outputId": "7712f634-e4ab-4b2e-c4d2-1050f71af4e1"
      },
      "execution_count": 17,
      "outputs": [
        {
          "output_type": "display_data",
          "data": {
            "text/plain": [
              "<Figure size 432x288 with 1 Axes>"
            ],
            "image/png": "[encoded data removed]"
          },
          "metadata": {
            "needs_background": "light"
          }
        },
        {
          "output_type": "display_data",
          "data": {
            "text/plain": [
              "<Figure size 432x288 with 1 Axes>"
            ],
            "image/png": "[encoded data removed]"
          },
          "metadata": {
            "needs_background": "light"
          }
        }
      ]
    },
    {
      "cell_type": "code",
      "source": [
        "for text_test, label_test in test_dataloader:\n",
        "    output_test = model(text_test) \n",
        "    output_test_softmax = torch.softmax(output_test, 1)\n",
        "    label_pred = torch.max(output_test_softmax, 1).indices\n",
        "\n",
        "print(classification_report(label_test,label_pred))\n"
      ],
      "metadata": {
        "colab": {
          "base_uri": "https://localhost:8080/"
        },
        "id": "mWOxjHuIvdDd",
        "outputId": "031df124-af39-49fe-feb4-f9334df9b4d5"
      },
      "execution_count": 18,
      "outputs": [
        {
          "output_type": "stream",
          "name": "stdout",
          "text": [
            "              precision    recall  f1-score   support\n",
            "\n",
            "           0       0.75      0.57      0.65       286\n",
            "           1       0.68      0.80      0.73       286\n",
            "           2       0.76      0.79      0.77       286\n",
            "\n",
            "    accuracy                           0.72       858\n",
            "   macro avg       0.73      0.72      0.72       858\n",
            "weighted avg       0.73      0.72      0.72       858\n",
            "\n"
          ]
        }
      ]
    }
  ]
}